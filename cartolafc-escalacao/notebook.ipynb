{
 "cells": [
  {
   "cell_type": "markdown",
   "metadata": {},
   "source": [
    "# CARTOLA FC - 2020"
   ]
  },
  {
   "cell_type": "markdown",
   "metadata": {},
   "source": [
    "Cartola FC é um jogo eletrônico de futebol no estilo fantasy game, um jogo fictício no qual as pessoas montam seus times com jogadores de futebol da vida real, lançado no ano de 2004. Foi criado e é mantido pelo site Globo.com e promovido pelo canal de TV por assinatura SporTV e também pela Globo."
   ]
  },
  {
   "cell_type": "markdown",
   "metadata": {},
   "source": [
    "<hr>"
   ]
  },
  {
   "cell_type": "markdown",
   "metadata": {},
   "source": [
    "## Definição do Problema"
   ]
  },
  {
   "cell_type": "markdown",
   "metadata": {},
   "source": [
    "### Previsão de Escalação\n",
    "\n",
    "Realizar previsão da pontuação dos jogadores do Cartola FC."
   ]
  },
  {
   "source": [
    "### Dados do problema\n",
    "- Informações importantes quanto a pontuação:\n",
    "    - Scouts Positivos:\n",
    "        - DS - Desarme (+ 1,0)\n",
    "        - G - Gol (+8,0)\n",
    "        - A - Assistência (+5,0)\n",
    "        - SG - Jogos sem Sofrer Gols (+5,0)\n",
    "        - FS - Falta Sofrida ( +0,5)\n",
    "        - FF - Finalização para Fora (+0,8)\n",
    "        - FD - Finalização Defendida (+1,2)\n",
    "        - FT - Finalização na Trave (+3,0)\n",
    "        - DD - Defesa Difícil (+4,0)\n",
    "        - DP - Defesa de Pênalti (+7,0)\n",
    "    - Scouts Negativos:\n",
    "        - GC - Gol Contra (-5,0)\n",
    "        - CV - Cartão Vermelho (-5,0)\n",
    "        - CA - Cartão Amarelo (-2,0)\n",
    "        - GS - Gol Sofrido (-2,0)\n",
    "        - PP - Pênalti Perdido (-4,0)\n",
    "        - FC - Falta Cometida (-0,5)\n",
    "        - I - Impedimento (-0,5)\n",
    "        - PI - Passe Incompleto (-0,1)\n",
    "\n"
   ],
   "cell_type": "markdown",
   "metadata": {}
  },
  {
   "cell_type": "markdown",
   "metadata": {},
   "source": [
    "<hr>"
   ]
  },
  {
   "cell_type": "markdown",
   "metadata": {},
   "source": [
    "## Desenvolvimento do Projeto\n",
    "\n"
   ]
  },
  {
   "cell_type": "code",
   "execution_count": 92,
   "metadata": {
    "tags": []
   },
   "outputs": [],
   "source": [
    "# Imports do projeto\n",
    "# analise de dados\n",
    "import pandas as pd\n",
    "import numpy as np\n",
    "import random as rnd\n",
    "\n",
    "# Requests e Elementos HTML\n",
    "import re                          # Expressão regulares\n",
    "import requests                    # Acessar páginas da internet\n",
    "from bs4 import BeautifulSoup      # Raspar elementos de páginas da internet\n",
    "\n",
    "# visualização\n",
    "import seaborn as sns\n",
    "import matplotlib.pyplot as plt\n",
    "%matplotlib inline\n",
    "\n",
    "# machine learning\n",
    "from sklearn.linear_model import LogisticRegression\n",
    "from sklearn.ensemble import RandomForestClassifier\n",
    "from sklearn.neighbors import KNeighborsClassifier\n",
    "from sklearn.preprocessing import StandardScaler\n",
    "from sklearn.metrics import f1_score\n",
    "from sklearn.model_selection import train_test_split\n",
    "from sklearn.metrics import accuracy_score\n",
    "from sklearn.model_selection import cross_validate\n",
    "\n",
    "# metricas \n",
    "from sklearn.metrics import classification_report"
   ]
  },
  {
   "source": [
    "## Captura dos dados \n",
    "\n",
    "Os dados são baixados diretamente do diretório do do GitHub: https://github.com/henriquepgomide/caRtola/tree/master/data/2020"
   ],
   "cell_type": "markdown",
   "metadata": {}
  },
  {
   "cell_type": "code",
   "execution_count": 2,
   "metadata": {},
   "outputs": [],
   "source": [
    "\n",
    "# URL com caminho do repositório\n",
    "URL = 'https://github.com/henriquepgomide/caRtola/tree/master/data/2020'\n",
    "html = requests.get(URL)\n",
    "# Criar objeto BeautifulSoup para raspar urls \n",
    "soup = BeautifulSoup(html.text, 'lxml')"
   ]
  },
  {
   "cell_type": "code",
   "execution_count": 3,
   "metadata": {},
   "outputs": [
    {
     "output_type": "execute_result",
     "data": {
      "text/plain": "[<a class=\"f6 link-gray text-mono ml-2 d-none d-lg-inline\" data-pjax=\"\" href=\"/henriquepgomide/caRtola/commit/fe70dcf565ce007105f4eccd386be7d0b7c43f96\">fe70dcf</a>,\n <a class=\"link-gray-dark text-bold\" data-pjax=\"true\" href=\"/henriquepgomide/caRtola/commit/fe70dcf565ce007105f4eccd386be7d0b7c43f96\">fix round 10 file</a>,\n <a class=\"d-none js-permalink-shortcut\" data-hotkey=\"y\" href=\"/henriquepgomide/caRtola/tree/fe70dcf565ce007105f4eccd386be7d0b7c43f96/data/2020\">Permalink</a>,\n <a class=\"js-navigation-open link-gray-dark\" href=\"/henriquepgomide/caRtola/tree/master/data/2020/team-features\" id=\"015cc237790ac744a369fe0a639f3b4b-40cbb9d10b172966a10d0cc0beb858725ca89218\" title=\"team-features\">team-features</a>,\n <a class=\"js-navigation-open link-gray-dark\" href=\"/henriquepgomide/caRtola/blob/master/data/2020/2020-medias-jogadores.csv\" id=\"afd3e0c547e8d3b59b84300bfc9c9a1b-02e0d797e1be0e45f5e0b9c0357c3626e238604c\" title=\"2020-medias-jogadores.csv\">2020-medias-jogadores.csv</a>,\n <a class=\"js-navigation-open link-gray-dark\" href=\"/henriquepgomide/caRtola/blob/master/data/2020/rodada-1.csv\" id=\"fb4c04b303cc64d68eee44e383bde485-dc4af974f548d2f13ebec87f4c4189401de7580b\" title=\"rodada-1.csv\">rodada-1.csv</a>,\n <a class=\"js-navigation-open link-gray-dark\" href=\"/henriquepgomide/caRtola/blob/master/data/2020/rodada-11.csv\" id=\"47661cb62f44c90e455301101b822731-ba898d7aeaa900d923803694a544742d9fc80f5d\" title=\"rodada-11.csv\">rodada-11.csv</a>,\n <a class=\"js-navigation-open link-gray-dark\" href=\"/henriquepgomide/caRtola/blob/master/data/2020/rodada-3.csv\" id=\"9ed46bc93f2bfa9f3269fc1e0f39d995-ff713a257f65e05b7e7a132180f127d823a46085\" title=\"rodada-3.csv\">rodada-3.csv</a>,\n <a class=\"js-navigation-open link-gray-dark\" href=\"/henriquepgomide/caRtola/blob/master/data/2020/rodada-5.csv\" id=\"b4a8f2efc3a10b74ba7e79b4712b6798-341c9fa28ed554e282b157299ec0c50c1558af89\" title=\"rodada-5.csv\">rodada-5.csv</a>,\n <a class=\"js-navigation-open link-gray-dark\" href=\"/henriquepgomide/caRtola/blob/master/data/2020/rodada-7.csv\" id=\"e24e51e670f0ea2f263879bd6c4afc2e-e37105fa959483dcca459e881d34746c8637c6c2\" title=\"rodada-7.csv\">rodada-7.csv</a>]"
     },
     "metadata": {},
     "execution_count": 3
    }
   ],
   "source": [
    "# Formatar HTML para extrair os dados\n",
    "result = []\n",
    "for tag in soup.find_all('a', href=True):\n",
    "    result.append(tag)\n",
    "result[70:90:2]"
   ]
  },
  {
   "cell_type": "code",
   "execution_count": 64,
   "metadata": {},
   "outputs": [],
   "source": [
    "regex =  '\\.csv$'\n",
    "\n",
    "dict_of_files = {}                                                          # Criar dicionário vazio\n",
    "for tag in soup.find_all('a', attrs={'href': re.compile(regex)}):           # Encontrar tags de nosso interesse\n",
    "    href_str = tag.get('href')                                              \n",
    "    file_name = re.sub('/henriquepgomide/caRtola/blob/master/data/2020/',   # Substituir padrão por nada\n",
    "                       '', \n",
    "                       href_str)\n",
    "    \n",
    "    file_url = re.sub('/henriquepgomide/caRtola/blob/master/data/2020/',    # Substituir padrão por links para arquivos raw\n",
    "                    'https://raw.githubusercontent.com/henriquepgomide/caRtola/master/data/2020/', \n",
    "                    href_str)\n",
    "\n",
    "    dict_of_files[file_name] = file_url"
   ]
  },
  {
   "cell_type": "code",
   "execution_count": 65,
   "metadata": {},
   "outputs": [
    {
     "output_type": "execute_result",
     "data": {
      "text/plain": "{'2020-medias-jogadores.csv': 'https://raw.githubusercontent.com/henriquepgomide/caRtola/master/data/2020/2020-medias-jogadores.csv',\n '2020_partidas.csv': 'https://raw.githubusercontent.com/henriquepgomide/caRtola/master/data/2020/2020_partidas.csv',\n 'rodada-1.csv': 'https://raw.githubusercontent.com/henriquepgomide/caRtola/master/data/2020/rodada-1.csv',\n 'rodada-10.csv': 'https://raw.githubusercontent.com/henriquepgomide/caRtola/master/data/2020/rodada-10.csv',\n 'rodada-11.csv': 'https://raw.githubusercontent.com/henriquepgomide/caRtola/master/data/2020/rodada-11.csv',\n 'rodada-2.csv': 'https://raw.githubusercontent.com/henriquepgomide/caRtola/master/data/2020/rodada-2.csv',\n 'rodada-3.csv': 'https://raw.githubusercontent.com/henriquepgomide/caRtola/master/data/2020/rodada-3.csv',\n 'rodada-4.csv': 'https://raw.githubusercontent.com/henriquepgomide/caRtola/master/data/2020/rodada-4.csv',\n 'rodada-5.csv': 'https://raw.githubusercontent.com/henriquepgomide/caRtola/master/data/2020/rodada-5.csv',\n 'rodada-6.csv': 'https://raw.githubusercontent.com/henriquepgomide/caRtola/master/data/2020/rodada-6.csv',\n 'rodada-7.csv': 'https://raw.githubusercontent.com/henriquepgomide/caRtola/master/data/2020/rodada-7.csv',\n 'rodada-8.csv': 'https://raw.githubusercontent.com/henriquepgomide/caRtola/master/data/2020/rodada-8.csv',\n 'rodada-9.csv': 'https://raw.githubusercontent.com/henriquepgomide/caRtola/master/data/2020/rodada-9.csv'}"
     },
     "metadata": {},
     "execution_count": 65
    }
   ],
   "source": [
    "#Lista dos files\n",
    "dict(list(dict_of_files.items()))"
   ]
  },
  {
   "cell_type": "code",
   "execution_count": 66,
   "metadata": {},
   "outputs": [],
   "source": [
    "# Ler os dataframes das rodadas\n",
    "list_of_dataframes = []\n",
    "for key, item in list(dict_of_files.items())[2:14]:\n",
    "    df = pd.read_csv(item)\n",
    "    df['rodada'] = key\n",
    "    list_of_dataframes.append(df)"
   ]
  },
  {
   "cell_type": "code",
   "execution_count": 67,
   "metadata": {},
   "outputs": [],
   "source": [
    "# Combinar lista de DataFrames criados\n",
    "df_jogadores = pd.concat(list_of_dataframes)\n",
    "\n"
   ]
  },
  {
   "cell_type": "code",
   "execution_count": 68,
   "metadata": {},
   "outputs": [],
   "source": [
    "# Ler os dataframes das partidas \n",
    "for key, item in list(dict_of_files.items())[1:2]:\n",
    "    df_jogos = pd.read_csv(item)\n"
   ]
  },
  {
   "source": [
    "<hr>"
   ],
   "cell_type": "markdown",
   "metadata": {}
  },
  {
   "source": [
    "## Análise descritiva\n",
    "A análise de dados descritiva apresenta a separação e os tipos das características bem como quais colunas possuem valores vazios. Além de apresentar uma visão resumida da distribuição do dataset.\n",
    "\n",
    "#### Insights encontradas na análise: \n",
    "        \n",
    "        - Muitas colunas com dados faltantes\n",
    "        - Maior média de pontos encontrada na característica `DS` (desarme).\n",
    "        - Existem mais registros dos jogadores de Meio-Campo."
   ],
   "cell_type": "markdown",
   "metadata": {}
  },
  {
   "source": [
    "#### Features categóricas x numéricas\n",
    "- categóricas: `atletas.status_id`, `atletas.nome`, `atletas.slug` , `atletas.apelido`, `atletas.foto`, `tletas.clube.id.full.name`, `rodada`, `atletas.posicao_id`\n",
    "\n",
    "- numéricas: `atletas.rodada_id\t`, `atletas.clube_id`, `atletas.pontos_num`, `atletas.preco_num`, `atletas.variacao_num`, `atletas.media_num`, `atletas.jogos_num`, `FF`, `FS`, `G`, `PI`, `CA`,`FC`, `DS`, `FT`, `DD`, `GS` , `FD`, `GC`, `SG`, `A`, `I`, `CV`,\t`PP`, `DP`"
   ],
   "cell_type": "markdown",
   "metadata": {}
  },
  {
   "cell_type": "code",
   "execution_count": 72,
   "metadata": {},
   "outputs": [
    {
     "output_type": "execute_result",
     "data": {
      "text/plain": "Index(['Unnamed: 0', 'atletas.nome', 'atletas.slug', 'atletas.apelido',\n       'atletas.foto', 'atletas.atleta_id', 'atletas.rodada_id',\n       'atletas.clube_id', 'atletas.posicao_id', 'atletas.status_id',\n       'atletas.pontos_num', 'atletas.preco_num', 'atletas.variacao_num',\n       'atletas.media_num', 'atletas.jogos_num', 'atletas.clube.id.full.name',\n       'FF', 'FS', 'G', 'PI', 'CA', 'FC', 'DS', 'FT', 'DD', 'GS', 'FD', 'GC',\n       'SG', 'A', 'I', 'CV', 'PP', 'rodada', 'DP'],\n      dtype='object')"
     },
     "metadata": {},
     "execution_count": 72
    }
   ],
   "source": [
    "# Colunas do dataset\n",
    "df_jogadores.columns"
   ]
  },
  {
   "cell_type": "code",
   "execution_count": 73,
   "metadata": {},
   "outputs": [
    {
     "output_type": "execute_result",
     "data": {
      "text/plain": "   Unnamed: 0           atletas.nome    atletas.slug atletas.apelido  \\\n0           1  Jorge de Moura Xavier        jorginho        Jorginho   \n1           2   Vagner Carmo Mancini  vagner-mancini  Vagner Mancini   \n2           3  Moacir Costa da Silva          moacir          Moacir   \n3           4     Leonardo Cittadini   leo-cittadini   Léo Cittadini   \n\n                                        atletas.foto  atletas.atleta_id  \\\n0  https://s.glbimg.com/es/sde/f/2020/02/27/85109...              77544   \n1  https://s.glbimg.com/es/sde/f/2020/07/16/1dd17...              39850   \n2  https://s.glbimg.com/es/sde/f/2020/02/27/9937a...              60858   \n3  https://s.glbimg.com/es/sde/f/2019/03/30/47516...              70986   \n\n   atletas.rodada_id  atletas.clube_id atletas.posicao_id atletas.status_id  \\\n0                  1               373                mei          Provável   \n1                  1               373                tec          Provável   \n2                  1               373                mei              Nulo   \n3                  1               293                mei          Provável   \n\n   atletas.pontos_num  atletas.preco_num  atletas.variacao_num  \\\n0                 0.0                6.0                   0.0   \n1                 0.0                2.0                   0.0   \n2                 0.0                3.0                   0.0   \n3                 9.8               12.9                   4.9   \n\n   atletas.media_num  atletas.jogos_num atletas.clube.id.full.name   FF   FS  \\\n0                0.0                  0                Atlético-GO  NaN  NaN   \n1                0.0                  0                Atlético-GO  NaN  NaN   \n2                0.0                  0                Atlético-GO  NaN  NaN   \n3                9.8                  1               Athlético-PR  1.0  2.0   \n\n     G  PI  CA  FC  DS  FT  DD  GS  FD  GC  SG   A   I  CV  PP        rodada  \\\n0  NaN NaN NaN NaN NaN NaN NaN NaN NaN NaN NaN NaN NaN NaN NaN  rodada-1.csv   \n1  NaN NaN NaN NaN NaN NaN NaN NaN NaN NaN NaN NaN NaN NaN NaN  rodada-1.csv   \n2  NaN NaN NaN NaN NaN NaN NaN NaN NaN NaN NaN NaN NaN NaN NaN  rodada-1.csv   \n3  1.0 NaN NaN NaN NaN NaN NaN NaN NaN NaN NaN NaN NaN NaN NaN  rodada-1.csv   \n\n   DP  \n0 NaN  \n1 NaN  \n2 NaN  \n3 NaN  ",
      "text/html": "<div>\n<style scoped>\n    .dataframe tbody tr th:only-of-type {\n        vertical-align: middle;\n    }\n\n    .dataframe tbody tr th {\n        vertical-align: top;\n    }\n\n    .dataframe thead th {\n        text-align: right;\n    }\n</style>\n<table border=\"1\" class=\"dataframe\">\n  <thead>\n    <tr style=\"text-align: right;\">\n      <th></th>\n      <th>Unnamed: 0</th>\n      <th>atletas.nome</th>\n      <th>atletas.slug</th>\n      <th>atletas.apelido</th>\n      <th>atletas.foto</th>\n      <th>atletas.atleta_id</th>\n      <th>atletas.rodada_id</th>\n      <th>atletas.clube_id</th>\n      <th>atletas.posicao_id</th>\n      <th>atletas.status_id</th>\n      <th>atletas.pontos_num</th>\n      <th>atletas.preco_num</th>\n      <th>atletas.variacao_num</th>\n      <th>atletas.media_num</th>\n      <th>atletas.jogos_num</th>\n      <th>atletas.clube.id.full.name</th>\n      <th>FF</th>\n      <th>FS</th>\n      <th>G</th>\n      <th>PI</th>\n      <th>CA</th>\n      <th>FC</th>\n      <th>DS</th>\n      <th>FT</th>\n      <th>DD</th>\n      <th>GS</th>\n      <th>FD</th>\n      <th>GC</th>\n      <th>SG</th>\n      <th>A</th>\n      <th>I</th>\n      <th>CV</th>\n      <th>PP</th>\n      <th>rodada</th>\n      <th>DP</th>\n    </tr>\n  </thead>\n  <tbody>\n    <tr>\n      <th>0</th>\n      <td>1</td>\n      <td>Jorge de Moura Xavier</td>\n      <td>jorginho</td>\n      <td>Jorginho</td>\n      <td>https://s.glbimg.com/es/sde/f/2020/02/27/85109...</td>\n      <td>77544</td>\n      <td>1</td>\n      <td>373</td>\n      <td>mei</td>\n      <td>Provável</td>\n      <td>0.0</td>\n      <td>6.0</td>\n      <td>0.0</td>\n      <td>0.0</td>\n      <td>0</td>\n      <td>Atlético-GO</td>\n      <td>NaN</td>\n      <td>NaN</td>\n      <td>NaN</td>\n      <td>NaN</td>\n      <td>NaN</td>\n      <td>NaN</td>\n      <td>NaN</td>\n      <td>NaN</td>\n      <td>NaN</td>\n      <td>NaN</td>\n      <td>NaN</td>\n      <td>NaN</td>\n      <td>NaN</td>\n      <td>NaN</td>\n      <td>NaN</td>\n      <td>NaN</td>\n      <td>NaN</td>\n      <td>rodada-1.csv</td>\n      <td>NaN</td>\n    </tr>\n    <tr>\n      <th>1</th>\n      <td>2</td>\n      <td>Vagner Carmo Mancini</td>\n      <td>vagner-mancini</td>\n      <td>Vagner Mancini</td>\n      <td>https://s.glbimg.com/es/sde/f/2020/07/16/1dd17...</td>\n      <td>39850</td>\n      <td>1</td>\n      <td>373</td>\n      <td>tec</td>\n      <td>Provável</td>\n      <td>0.0</td>\n      <td>2.0</td>\n      <td>0.0</td>\n      <td>0.0</td>\n      <td>0</td>\n      <td>Atlético-GO</td>\n      <td>NaN</td>\n      <td>NaN</td>\n      <td>NaN</td>\n      <td>NaN</td>\n      <td>NaN</td>\n      <td>NaN</td>\n      <td>NaN</td>\n      <td>NaN</td>\n      <td>NaN</td>\n      <td>NaN</td>\n      <td>NaN</td>\n      <td>NaN</td>\n      <td>NaN</td>\n      <td>NaN</td>\n      <td>NaN</td>\n      <td>NaN</td>\n      <td>NaN</td>\n      <td>rodada-1.csv</td>\n      <td>NaN</td>\n    </tr>\n    <tr>\n      <th>2</th>\n      <td>3</td>\n      <td>Moacir Costa da Silva</td>\n      <td>moacir</td>\n      <td>Moacir</td>\n      <td>https://s.glbimg.com/es/sde/f/2020/02/27/9937a...</td>\n      <td>60858</td>\n      <td>1</td>\n      <td>373</td>\n      <td>mei</td>\n      <td>Nulo</td>\n      <td>0.0</td>\n      <td>3.0</td>\n      <td>0.0</td>\n      <td>0.0</td>\n      <td>0</td>\n      <td>Atlético-GO</td>\n      <td>NaN</td>\n      <td>NaN</td>\n      <td>NaN</td>\n      <td>NaN</td>\n      <td>NaN</td>\n      <td>NaN</td>\n      <td>NaN</td>\n      <td>NaN</td>\n      <td>NaN</td>\n      <td>NaN</td>\n      <td>NaN</td>\n      <td>NaN</td>\n      <td>NaN</td>\n      <td>NaN</td>\n      <td>NaN</td>\n      <td>NaN</td>\n      <td>NaN</td>\n      <td>rodada-1.csv</td>\n      <td>NaN</td>\n    </tr>\n    <tr>\n      <th>3</th>\n      <td>4</td>\n      <td>Leonardo Cittadini</td>\n      <td>leo-cittadini</td>\n      <td>Léo Cittadini</td>\n      <td>https://s.glbimg.com/es/sde/f/2019/03/30/47516...</td>\n      <td>70986</td>\n      <td>1</td>\n      <td>293</td>\n      <td>mei</td>\n      <td>Provável</td>\n      <td>9.8</td>\n      <td>12.9</td>\n      <td>4.9</td>\n      <td>9.8</td>\n      <td>1</td>\n      <td>Athlético-PR</td>\n      <td>1.0</td>\n      <td>2.0</td>\n      <td>1.0</td>\n      <td>NaN</td>\n      <td>NaN</td>\n      <td>NaN</td>\n      <td>NaN</td>\n      <td>NaN</td>\n      <td>NaN</td>\n      <td>NaN</td>\n      <td>NaN</td>\n      <td>NaN</td>\n      <td>NaN</td>\n      <td>NaN</td>\n      <td>NaN</td>\n      <td>NaN</td>\n      <td>NaN</td>\n      <td>rodada-1.csv</td>\n      <td>NaN</td>\n    </tr>\n  </tbody>\n</table>\n</div>"
     },
     "metadata": {},
     "execution_count": 73
    }
   ],
   "source": [
    "#Preview das informações contidas no dataset\n",
    "df_jogadores.head(4)"
   ]
  },
  {
   "cell_type": "code",
   "execution_count": 75,
   "metadata": {},
   "outputs": [
    {
     "output_type": "execute_result",
     "data": {
      "text/plain": "(7854, 35)"
     },
     "metadata": {},
     "execution_count": 75
    }
   ],
   "source": [
    "# Tamanho das colunas\n",
    "df_jogadores.shape"
   ]
  },
  {
   "source": [
    "#### Total de features por Tipo dos dados\n",
    "- Int64: 5\n",
    "- Object: 8 \n",
    "- Float64: 22"
   ],
   "cell_type": "markdown",
   "metadata": {}
  },
  {
   "source": [
    "#### Dados faltantes\n",
    "Verificado que em 18 colunas do dataset existem dados faltantes (missing)"
   ],
   "cell_type": "markdown",
   "metadata": {}
  },
  {
   "cell_type": "code",
   "execution_count": 11,
   "metadata": {
    "tags": []
   },
   "outputs": [
    {
     "output_type": "stream",
     "name": "stdout",
     "text": "<class 'pandas.core.frame.DataFrame'>\nInt64Index: 7854 entries, 0 to 711\nData columns (total 35 columns):\n #   Column                      Non-Null Count  Dtype  \n---  ------                      --------------  -----  \n 0   Unnamed: 0                  7854 non-null   int64  \n 1   atletas.nome                7854 non-null   object \n 2   atletas.slug                7854 non-null   object \n 3   atletas.apelido             7854 non-null   object \n 4   atletas.foto                7792 non-null   object \n 5   atletas.atleta_id           7854 non-null   int64  \n 6   atletas.rodada_id           7854 non-null   int64  \n 7   atletas.clube_id            7854 non-null   int64  \n 8   atletas.posicao_id          7854 non-null   object \n 9   atletas.status_id           7854 non-null   object \n 10  atletas.pontos_num          7854 non-null   float64\n 11  atletas.preco_num           7854 non-null   float64\n 12  atletas.variacao_num        7854 non-null   float64\n 13  atletas.media_num           7854 non-null   float64\n 14  atletas.jogos_num           7854 non-null   int64  \n 15  atletas.clube.id.full.name  7854 non-null   object \n 16  FF                          2489 non-null   float64\n 17  FS                          3536 non-null   float64\n 18  G                           910 non-null    float64\n 19  PI                          4472 non-null   float64\n 20  CA                          1886 non-null   float64\n 21  FC                          3751 non-null   float64\n 22  DS                          3740 non-null   float64\n 23  FT                          365 non-null    float64\n 24  DD                          262 non-null    float64\n 25  GS                          274 non-null    float64\n 26  FD                          1916 non-null   float64\n 27  GC                          36 non-null     float64\n 28  SG                          1104 non-null   float64\n 29  A                           741 non-null    float64\n 30  I                           1018 non-null   float64\n 31  CV                          164 non-null    float64\n 32  PP                          45 non-null     float64\n 33  rodada                      7854 non-null   object \n 34  DP                          18 non-null     float64\ndtypes: float64(22), int64(5), object(8)\nmemory usage: 2.2+ MB\n"
    }
   ],
   "source": [
    "df_jogadores.info()"
   ]
  },
  {
   "cell_type": "code",
   "execution_count": 76,
   "metadata": {},
   "outputs": [
    {
     "output_type": "execute_result",
     "data": {
      "text/plain": "Unnamed: 0                       0\natletas.nome                     0\natletas.slug                     0\natletas.apelido                  0\natletas.foto                    62\natletas.atleta_id                0\natletas.rodada_id                0\natletas.clube_id                 0\natletas.posicao_id               0\natletas.status_id                0\natletas.pontos_num               0\natletas.preco_num                0\natletas.variacao_num             0\natletas.media_num                0\natletas.jogos_num                0\natletas.clube.id.full.name       0\nFF                            5365\nFS                            4318\nG                             6944\nPI                            3382\nCA                            5968\nFC                            4103\nDS                            4114\nFT                            7489\nDD                            7592\nGS                            7580\nFD                            5938\nGC                            7818\nSG                            6750\nA                             7113\nI                             6836\nCV                            7690\nPP                            7809\nrodada                           0\nDP                            7836\ndtype: int64"
     },
     "metadata": {},
     "execution_count": 76
    }
   ],
   "source": [
    "# Verificar dados NaN\n",
    "df_jogadores.isna().sum()"
   ]
  },
  {
   "source": [
    "### Distribuição dos dados\n",
    "Verificação da distribuição das colunas numéricas e categóricas"
   ],
   "cell_type": "markdown",
   "metadata": {}
  },
  {
   "cell_type": "code",
   "execution_count": 80,
   "metadata": {},
   "outputs": [
    {
     "output_type": "execute_result",
     "data": {
      "text/plain": "        Unnamed: 0  atletas.atleta_id  atletas.rodada_id  atletas.clube_id  \\\ncount  7854.000000        7854.000000        7854.000000       7854.000000   \nmean    357.507257       87198.332824           5.998472        289.613318   \nstd     206.139550       18891.625484           3.163646         31.142449   \nmin       1.000000       36943.000000           1.000000        262.000000   \n25%     179.000000       78077.000000           3.000000        267.000000   \n50%     357.500000       91736.000000           6.000000        282.000000   \n75%     536.000000      102292.000000           9.000000        293.000000   \nmax     720.000000      109963.000000          11.000000        373.000000   \n\n       atletas.pontos_num  atletas.preco_num  atletas.variacao_num  \\\ncount         7854.000000        7854.000000           7854.000000   \nmean             1.047255           4.767907              0.001213   \nstd              2.778230           3.514188              0.861508   \nmin             -8.400000           0.720000             -6.610000   \n25%              0.000000           2.000000              0.000000   \n50%              0.000000           4.000000              0.000000   \n75%              0.900000           6.480000              0.000000   \nmax             26.600000          25.410000             10.210000   \n\n       atletas.media_num  atletas.jogos_num           FF           FS  \\\ncount        7854.000000        7854.000000  2489.000000  3536.000000   \nmean            1.408136           2.441558     2.693451     5.057975   \nstd             2.254622           2.734732     2.197549     5.098773   \nmin            -7.200000           0.000000     1.000000     1.000000   \n25%             0.000000           0.000000     1.000000     2.000000   \n50%             0.300000           1.000000     2.000000     3.000000   \n75%             2.470000           4.000000     4.000000     7.000000   \nmax            19.300000          11.000000    17.000000    55.000000   \n\n                G           PI           CA           FC          DS  \\\ncount  910.000000  4472.000000  1886.000000  3751.000000  3740.00000   \nmean     2.385714    19.034884     1.507953     5.096241     6.52246   \nstd      6.580099    18.971630     1.470376     4.229114     6.13142   \nmin      1.000000     1.000000     1.000000     1.000000     1.00000   \n25%      1.000000     5.000000     1.000000     2.000000     2.00000   \n50%      1.000000    13.000000     1.000000     4.000000     5.00000   \n75%      2.000000    26.250000     2.000000     7.000000     9.00000   \nmax    113.000000   129.000000    34.000000    32.000000    43.00000   \n\n               FT          DD          GS           FD    GC           SG  \\\ncount  365.000000  262.000000  274.000000  1916.000000  36.0  1104.000000   \nmean     1.101370    4.362595    4.890511     2.004697   1.0     1.602355   \nstd      0.311189    3.398531    3.350532     1.585666   0.0     0.960901   \nmin      1.000000    1.000000    1.000000     1.000000   1.0     1.000000   \n25%      1.000000    2.000000    2.000000     1.000000   1.0     1.000000   \n50%      1.000000    3.500000    4.000000     1.000000   1.0     1.000000   \n75%      1.000000    6.000000    7.000000     2.000000   1.0     2.000000   \nmax      3.000000   17.000000   16.000000    11.000000   1.0     6.000000   \n\n                A            I          CV    PP    DP  \ncount  741.000000  1018.000000  164.000000  45.0  18.0  \nmean     1.145749     1.760314    1.018293   1.0   1.0  \nstd      0.403128     1.244661    0.134418   0.0   0.0  \nmin      1.000000     1.000000    1.000000   1.0   1.0  \n25%      1.000000     1.000000    1.000000   1.0   1.0  \n50%      1.000000     1.000000    1.000000   1.0   1.0  \n75%      1.000000     2.000000    1.000000   1.0   1.0  \nmax      3.000000     9.000000    2.000000   1.0   1.0  ",
      "text/html": "<div>\n<style scoped>\n    .dataframe tbody tr th:only-of-type {\n        vertical-align: middle;\n    }\n\n    .dataframe tbody tr th {\n        vertical-align: top;\n    }\n\n    .dataframe thead th {\n        text-align: right;\n    }\n</style>\n<table border=\"1\" class=\"dataframe\">\n  <thead>\n    <tr style=\"text-align: right;\">\n      <th></th>\n      <th>Unnamed: 0</th>\n      <th>atletas.atleta_id</th>\n      <th>atletas.rodada_id</th>\n      <th>atletas.clube_id</th>\n      <th>atletas.pontos_num</th>\n      <th>atletas.preco_num</th>\n      <th>atletas.variacao_num</th>\n      <th>atletas.media_num</th>\n      <th>atletas.jogos_num</th>\n      <th>FF</th>\n      <th>FS</th>\n      <th>G</th>\n      <th>PI</th>\n      <th>CA</th>\n      <th>FC</th>\n      <th>DS</th>\n      <th>FT</th>\n      <th>DD</th>\n      <th>GS</th>\n      <th>FD</th>\n      <th>GC</th>\n      <th>SG</th>\n      <th>A</th>\n      <th>I</th>\n      <th>CV</th>\n      <th>PP</th>\n      <th>DP</th>\n    </tr>\n  </thead>\n  <tbody>\n    <tr>\n      <th>count</th>\n      <td>7854.000000</td>\n      <td>7854.000000</td>\n      <td>7854.000000</td>\n      <td>7854.000000</td>\n      <td>7854.000000</td>\n      <td>7854.000000</td>\n      <td>7854.000000</td>\n      <td>7854.000000</td>\n      <td>7854.000000</td>\n      <td>2489.000000</td>\n      <td>3536.000000</td>\n      <td>910.000000</td>\n      <td>4472.000000</td>\n      <td>1886.000000</td>\n      <td>3751.000000</td>\n      <td>3740.00000</td>\n      <td>365.000000</td>\n      <td>262.000000</td>\n      <td>274.000000</td>\n      <td>1916.000000</td>\n      <td>36.0</td>\n      <td>1104.000000</td>\n      <td>741.000000</td>\n      <td>1018.000000</td>\n      <td>164.000000</td>\n      <td>45.0</td>\n      <td>18.0</td>\n    </tr>\n    <tr>\n      <th>mean</th>\n      <td>357.507257</td>\n      <td>87198.332824</td>\n      <td>5.998472</td>\n      <td>289.613318</td>\n      <td>1.047255</td>\n      <td>4.767907</td>\n      <td>0.001213</td>\n      <td>1.408136</td>\n      <td>2.441558</td>\n      <td>2.693451</td>\n      <td>5.057975</td>\n      <td>2.385714</td>\n      <td>19.034884</td>\n      <td>1.507953</td>\n      <td>5.096241</td>\n      <td>6.52246</td>\n      <td>1.101370</td>\n      <td>4.362595</td>\n      <td>4.890511</td>\n      <td>2.004697</td>\n      <td>1.0</td>\n      <td>1.602355</td>\n      <td>1.145749</td>\n      <td>1.760314</td>\n      <td>1.018293</td>\n      <td>1.0</td>\n      <td>1.0</td>\n    </tr>\n    <tr>\n      <th>std</th>\n      <td>206.139550</td>\n      <td>18891.625484</td>\n      <td>3.163646</td>\n      <td>31.142449</td>\n      <td>2.778230</td>\n      <td>3.514188</td>\n      <td>0.861508</td>\n      <td>2.254622</td>\n      <td>2.734732</td>\n      <td>2.197549</td>\n      <td>5.098773</td>\n      <td>6.580099</td>\n      <td>18.971630</td>\n      <td>1.470376</td>\n      <td>4.229114</td>\n      <td>6.13142</td>\n      <td>0.311189</td>\n      <td>3.398531</td>\n      <td>3.350532</td>\n      <td>1.585666</td>\n      <td>0.0</td>\n      <td>0.960901</td>\n      <td>0.403128</td>\n      <td>1.244661</td>\n      <td>0.134418</td>\n      <td>0.0</td>\n      <td>0.0</td>\n    </tr>\n    <tr>\n      <th>min</th>\n      <td>1.000000</td>\n      <td>36943.000000</td>\n      <td>1.000000</td>\n      <td>262.000000</td>\n      <td>-8.400000</td>\n      <td>0.720000</td>\n      <td>-6.610000</td>\n      <td>-7.200000</td>\n      <td>0.000000</td>\n      <td>1.000000</td>\n      <td>1.000000</td>\n      <td>1.000000</td>\n      <td>1.000000</td>\n      <td>1.000000</td>\n      <td>1.000000</td>\n      <td>1.00000</td>\n      <td>1.000000</td>\n      <td>1.000000</td>\n      <td>1.000000</td>\n      <td>1.000000</td>\n      <td>1.0</td>\n      <td>1.000000</td>\n      <td>1.000000</td>\n      <td>1.000000</td>\n      <td>1.000000</td>\n      <td>1.0</td>\n      <td>1.0</td>\n    </tr>\n    <tr>\n      <th>25%</th>\n      <td>179.000000</td>\n      <td>78077.000000</td>\n      <td>3.000000</td>\n      <td>267.000000</td>\n      <td>0.000000</td>\n      <td>2.000000</td>\n      <td>0.000000</td>\n      <td>0.000000</td>\n      <td>0.000000</td>\n      <td>1.000000</td>\n      <td>2.000000</td>\n      <td>1.000000</td>\n      <td>5.000000</td>\n      <td>1.000000</td>\n      <td>2.000000</td>\n      <td>2.00000</td>\n      <td>1.000000</td>\n      <td>2.000000</td>\n      <td>2.000000</td>\n      <td>1.000000</td>\n      <td>1.0</td>\n      <td>1.000000</td>\n      <td>1.000000</td>\n      <td>1.000000</td>\n      <td>1.000000</td>\n      <td>1.0</td>\n      <td>1.0</td>\n    </tr>\n    <tr>\n      <th>50%</th>\n      <td>357.500000</td>\n      <td>91736.000000</td>\n      <td>6.000000</td>\n      <td>282.000000</td>\n      <td>0.000000</td>\n      <td>4.000000</td>\n      <td>0.000000</td>\n      <td>0.300000</td>\n      <td>1.000000</td>\n      <td>2.000000</td>\n      <td>3.000000</td>\n      <td>1.000000</td>\n      <td>13.000000</td>\n      <td>1.000000</td>\n      <td>4.000000</td>\n      <td>5.00000</td>\n      <td>1.000000</td>\n      <td>3.500000</td>\n      <td>4.000000</td>\n      <td>1.000000</td>\n      <td>1.0</td>\n      <td>1.000000</td>\n      <td>1.000000</td>\n      <td>1.000000</td>\n      <td>1.000000</td>\n      <td>1.0</td>\n      <td>1.0</td>\n    </tr>\n    <tr>\n      <th>75%</th>\n      <td>536.000000</td>\n      <td>102292.000000</td>\n      <td>9.000000</td>\n      <td>293.000000</td>\n      <td>0.900000</td>\n      <td>6.480000</td>\n      <td>0.000000</td>\n      <td>2.470000</td>\n      <td>4.000000</td>\n      <td>4.000000</td>\n      <td>7.000000</td>\n      <td>2.000000</td>\n      <td>26.250000</td>\n      <td>2.000000</td>\n      <td>7.000000</td>\n      <td>9.00000</td>\n      <td>1.000000</td>\n      <td>6.000000</td>\n      <td>7.000000</td>\n      <td>2.000000</td>\n      <td>1.0</td>\n      <td>2.000000</td>\n      <td>1.000000</td>\n      <td>2.000000</td>\n      <td>1.000000</td>\n      <td>1.0</td>\n      <td>1.0</td>\n    </tr>\n    <tr>\n      <th>max</th>\n      <td>720.000000</td>\n      <td>109963.000000</td>\n      <td>11.000000</td>\n      <td>373.000000</td>\n      <td>26.600000</td>\n      <td>25.410000</td>\n      <td>10.210000</td>\n      <td>19.300000</td>\n      <td>11.000000</td>\n      <td>17.000000</td>\n      <td>55.000000</td>\n      <td>113.000000</td>\n      <td>129.000000</td>\n      <td>34.000000</td>\n      <td>32.000000</td>\n      <td>43.00000</td>\n      <td>3.000000</td>\n      <td>17.000000</td>\n      <td>16.000000</td>\n      <td>11.000000</td>\n      <td>1.0</td>\n      <td>6.000000</td>\n      <td>3.000000</td>\n      <td>9.000000</td>\n      <td>2.000000</td>\n      <td>1.0</td>\n      <td>1.0</td>\n    </tr>\n  </tbody>\n</table>\n</div>"
     },
     "metadata": {},
     "execution_count": 80
    }
   ],
   "source": [
    "# Distribuição numérica\n",
    "df_jogadores.describe()"
   ]
  },
  {
   "cell_type": "code",
   "execution_count": 79,
   "metadata": {},
   "outputs": [
    {
     "output_type": "execute_result",
     "data": {
      "text/plain": "                       atletas.nome   atletas.slug atletas.apelido  \\\ncount                           712            712             712   \nunique                          712            649             653   \ntop     Matheus Nascimento de Paula  luiz-henrique         Gabriel   \nfreq                              1              4               4   \n\n                                             atletas.foto atletas.posicao_id  \\\ncount                                                 707                712   \nunique                                                707                  6   \ntop     https://s.glbimg.com/es/sde/f/2020/07/21/282e8...                mei   \nfreq                                                    1                219   \n\n       atletas.status_id atletas.clube.id.full.name        rodada  \ncount                712                        712           712  \nunique                 5                         20             1  \ntop                 Nulo              Internacional  rodada-9.csv  \nfreq                 381                         42           712  ",
      "text/html": "<div>\n<style scoped>\n    .dataframe tbody tr th:only-of-type {\n        vertical-align: middle;\n    }\n\n    .dataframe tbody tr th {\n        vertical-align: top;\n    }\n\n    .dataframe thead th {\n        text-align: right;\n    }\n</style>\n<table border=\"1\" class=\"dataframe\">\n  <thead>\n    <tr style=\"text-align: right;\">\n      <th></th>\n      <th>atletas.nome</th>\n      <th>atletas.slug</th>\n      <th>atletas.apelido</th>\n      <th>atletas.foto</th>\n      <th>atletas.posicao_id</th>\n      <th>atletas.status_id</th>\n      <th>atletas.clube.id.full.name</th>\n      <th>rodada</th>\n    </tr>\n  </thead>\n  <tbody>\n    <tr>\n      <th>count</th>\n      <td>712</td>\n      <td>712</td>\n      <td>712</td>\n      <td>707</td>\n      <td>712</td>\n      <td>712</td>\n      <td>712</td>\n      <td>712</td>\n    </tr>\n    <tr>\n      <th>unique</th>\n      <td>712</td>\n      <td>649</td>\n      <td>653</td>\n      <td>707</td>\n      <td>6</td>\n      <td>5</td>\n      <td>20</td>\n      <td>1</td>\n    </tr>\n    <tr>\n      <th>top</th>\n      <td>Matheus Nascimento de Paula</td>\n      <td>luiz-henrique</td>\n      <td>Gabriel</td>\n      <td>https://s.glbimg.com/es/sde/f/2020/07/21/282e8...</td>\n      <td>mei</td>\n      <td>Nulo</td>\n      <td>Internacional</td>\n      <td>rodada-9.csv</td>\n    </tr>\n    <tr>\n      <th>freq</th>\n      <td>1</td>\n      <td>4</td>\n      <td>4</td>\n      <td>1</td>\n      <td>219</td>\n      <td>381</td>\n      <td>42</td>\n      <td>712</td>\n    </tr>\n  </tbody>\n</table>\n</div>"
     },
     "metadata": {},
     "execution_count": 79
    }
   ],
   "source": [
    "# Distribuição das variáveis categóricas\n",
    "df.describe(include=['O'])"
   ]
  },
  {
   "source": [
    "## Análise por cruzamento e agrupamento de dados"
   ],
   "cell_type": "markdown",
   "metadata": {}
  },
  {
   "cell_type": "code",
   "execution_count": 94,
   "metadata": {},
   "outputs": [
    {
     "output_type": "execute_result",
     "data": {
      "text/plain": "mei    2483\nata    1862\nzag    1265\nlat    1210\ngol     819\ntec     215\nName: atletas.posicao_id, dtype: int64"
     },
     "metadata": {},
     "execution_count": 94
    }
   ],
   "source": [
    "# Registros por posição de jogador\n",
    "df_jogadores['atletas.posicao_id'].value_counts()"
   ]
  },
  {
   "cell_type": "code",
   "execution_count": 93,
   "metadata": {},
   "outputs": [
    {
     "output_type": "execute_result",
     "data": {
      "text/plain": "290    459\n265    458\n267    449\n285    443\n293    433\n294    417\n284    396\n292    394\n263    383\n354    383\n373    382\n280    382\n266    381\n282    373\n276    369\n264    363\n356    359\n262    359\n277    337\n275    334\nName: atletas.clube_id, dtype: int64"
     },
     "metadata": {},
     "execution_count": 93
    }
   ],
   "source": [
    "# registros por clubes\n",
    "df_jogadores['atletas.clube_id'].value_counts()"
   ]
  },
  {
   "cell_type": "code",
   "execution_count": 121,
   "metadata": {},
   "outputs": [
    {
     "output_type": "execute_result",
     "data": {
      "text/plain": "atletas.status_id\nContundido     385\nDúvida         358\nNulo          4726\nProvável      2302\nSuspenso        83\nName: atletas.atleta_id, dtype: int64"
     },
     "metadata": {},
     "execution_count": 121
    }
   ],
   "source": [
    "# Registros por status de jogador\n",
    "df_jogadores.groupby('atletas.status_id')['atletas.atleta_id'].count()"
   ]
  },
  {
   "source": [
    "#Total de registos por estação\n",
    "df_jogadores.groupby(['atletas.posicao_id', 'atletas.pontos_num'])['atletas.posicao_id'].count()"
   ],
   "cell_type": "code",
   "metadata": {},
   "execution_count": 89,
   "outputs": [
    {
     "output_type": "execute_result",
     "data": {
      "text/plain": "atletas.posicao_id  atletas.pontos_num\nata                 -6.0                  1\n                    -4.8                  2\n                    -4.2                  1\n                    -4.1                  2\n                    -3.8                  1\n                                         ..\nzag                  12.4                 1\n                     12.7                 1\n                     12.8                 1\n                     16.1                 1\n                     16.2                 1\nName: atletas.posicao_id, Length: 900, dtype: int64"
     },
     "metadata": {},
     "execution_count": 89
    }
   ]
  },
  {
   "source": [
    "<hr>"
   ],
   "cell_type": "markdown",
   "metadata": {}
  },
  {
   "source": [
    "### Primeiro ajuste do dataset para unificação/input com informação do dataset df_jogos\n",
    "\n",
    "Antes de ser realizada a análise por visulização de dados foi unificado o dataset de jogos no data set df_jogadores, e para tal, foi foi necessário fazer alguns ajustes com os dados faltantes dos dois dataframes.\n",
    "- Dropado colunas `atletas.foto`, `rodada`,  `atletas.slug`, `atletas.nome`, `atletas.clube.id.full.name`\n",
    "- Ajudado labels das colunas relacionados com a rodada para rodada_id para ambos dataFrames"
   ],
   "cell_type": "markdown",
   "metadata": {}
  },
  {
   "cell_type": "code",
   "execution_count": 122,
   "metadata": {},
   "outputs": [],
   "source": [
    "# Remover colunas atletas.foto e rodada\n",
    "df_jogadores.drop(['atletas.foto', 'rodada', 'atletas.slug', 'atletas.nome', 'atletas.clube.id.full.name'], axis=1, inplace=True)"
   ]
  },
  {
   "cell_type": "code",
   "execution_count": 123,
   "metadata": {},
   "outputs": [],
   "source": [
    "# Remover linhas cuja coluna rodada_id esteja NaN\n",
    "df_jogadores = df_jogadores[df_jogadores['atletas.rodada_id'].notnull()]\n",
    "\n",
    "# Remover coluna Unnamed\n",
    "df_jogadores = df_jogadores.loc[:, ~df_jogadores.columns.str.contains('^Unnamed')]"
   ]
  },
  {
   "cell_type": "code",
   "execution_count": 125,
   "metadata": {},
   "outputs": [],
   "source": [
    "# Remover jogadores contundios e suspensos da rodada\n",
    "check_colunas_null = ['A','CA','CV','DD','DP','DS','FC','FD','FF','FS','FT','G','GC','GS','I','PI','PP','SG']\n",
    "df_jogadores = df_jogadores.dropna(subset=check_colunas_null, how='all')"
   ]
  },
  {
   "cell_type": "code",
   "execution_count": 126,
   "metadata": {},
   "outputs": [],
   "source": [
    " # preencher com 0 colunas NaN\n",
    " df_jogadores.fillna(0, inplace=True)\n"
   ]
  },
  {
   "cell_type": "code",
   "execution_count": 127,
   "metadata": {},
   "outputs": [
    {
     "output_type": "execute_result",
     "data": {
      "text/plain": "(4704, 29)"
     },
     "metadata": {},
     "execution_count": 127
    }
   ],
   "source": [
    "df_jogadores.shape"
   ]
  },
  {
   "source": [
    "### Validação dos dados do dataframe jogos"
   ],
   "cell_type": "markdown",
   "metadata": {}
  },
  {
   "cell_type": "code",
   "execution_count": 22,
   "metadata": {},
   "outputs": [
    {
     "output_type": "execute_result",
     "data": {
      "text/plain": "date           0\nhome_team      0\naway_team      0\nhome_score    16\naway_score    16\nround          0\ndtype: int64"
     },
     "metadata": {},
     "execution_count": 22
    }
   ],
   "source": [
    "# Verificar dados NaN no dataset das Partidas\n",
    "df_jogos.isna().sum()"
   ]
  },
  {
   "cell_type": "code",
   "execution_count": 132,
   "metadata": {},
   "outputs": [],
   "source": [
    "# Remover linhas NaN pelo home score\n",
    "df_jogos.dropna(subset=['home_score'], inplace=True)"
   ]
  },
  {
   "cell_type": "code",
   "execution_count": 133,
   "metadata": {},
   "outputs": [],
   "source": [
    "# Renomear colunas que possuem a número da rodada para rodada_id em ambos dataset\n",
    "df_jogos.rename(columns={'round':'rodada_id'}, inplace=True)\n",
    "df_jogadores.rename(columns={'atletas.rodada_id':'rodada_id'}, inplace=True)"
   ]
  },
  {
   "cell_type": "code",
   "execution_count": 25,
   "metadata": {},
   "outputs": [
    {
     "output_type": "execute_result",
     "data": {
      "text/plain": "    atletas.apelido  atletas.atleta_id  rodada_id  atletas.clube_id  \\\n706        Rentería              95356          9               263   \n709    Cayo Tenório             107367          9               267   \n711   Luiz Henrique             109282          9               266   \n\n    atletas.posicao_id atletas.status_id  atletas.pontos_num  \\\n706                mei              Nulo                 0.6   \n709                lat              Nulo                 0.0   \n711                ata              Nulo                 0.2   \n\n     atletas.preco_num  atletas.variacao_num  atletas.media_num  ...   DD  \\\n706               5.62                 -1.38               0.60  ...  0.0   \n709               4.88                  0.00               4.33  ...  0.0   \n711               1.50                 -0.48               1.01  ...  0.0   \n\n      GS   FD   GC   SG    A    I   CV   PP   DP  \n706  0.0  1.0  0.0  0.0  0.0  0.0  0.0  0.0  0.0  \n709  0.0  1.0  0.0  3.0  0.0  0.0  0.0  0.0  0.0  \n711  0.0  0.0  0.0  0.0  0.0  0.0  0.0  0.0  0.0  \n\n[3 rows x 29 columns]",
      "text/html": "<div>\n<style scoped>\n    .dataframe tbody tr th:only-of-type {\n        vertical-align: middle;\n    }\n\n    .dataframe tbody tr th {\n        vertical-align: top;\n    }\n\n    .dataframe thead th {\n        text-align: right;\n    }\n</style>\n<table border=\"1\" class=\"dataframe\">\n  <thead>\n    <tr style=\"text-align: right;\">\n      <th></th>\n      <th>atletas.apelido</th>\n      <th>atletas.atleta_id</th>\n      <th>rodada_id</th>\n      <th>atletas.clube_id</th>\n      <th>atletas.posicao_id</th>\n      <th>atletas.status_id</th>\n      <th>atletas.pontos_num</th>\n      <th>atletas.preco_num</th>\n      <th>atletas.variacao_num</th>\n      <th>atletas.media_num</th>\n      <th>...</th>\n      <th>DD</th>\n      <th>GS</th>\n      <th>FD</th>\n      <th>GC</th>\n      <th>SG</th>\n      <th>A</th>\n      <th>I</th>\n      <th>CV</th>\n      <th>PP</th>\n      <th>DP</th>\n    </tr>\n  </thead>\n  <tbody>\n    <tr>\n      <th>706</th>\n      <td>Rentería</td>\n      <td>95356</td>\n      <td>9</td>\n      <td>263</td>\n      <td>mei</td>\n      <td>Nulo</td>\n      <td>0.6</td>\n      <td>5.62</td>\n      <td>-1.38</td>\n      <td>0.60</td>\n      <td>...</td>\n      <td>0.0</td>\n      <td>0.0</td>\n      <td>1.0</td>\n      <td>0.0</td>\n      <td>0.0</td>\n      <td>0.0</td>\n      <td>0.0</td>\n      <td>0.0</td>\n      <td>0.0</td>\n      <td>0.0</td>\n    </tr>\n    <tr>\n      <th>709</th>\n      <td>Cayo Tenório</td>\n      <td>107367</td>\n      <td>9</td>\n      <td>267</td>\n      <td>lat</td>\n      <td>Nulo</td>\n      <td>0.0</td>\n      <td>4.88</td>\n      <td>0.00</td>\n      <td>4.33</td>\n      <td>...</td>\n      <td>0.0</td>\n      <td>0.0</td>\n      <td>1.0</td>\n      <td>0.0</td>\n      <td>3.0</td>\n      <td>0.0</td>\n      <td>0.0</td>\n      <td>0.0</td>\n      <td>0.0</td>\n      <td>0.0</td>\n    </tr>\n    <tr>\n      <th>711</th>\n      <td>Luiz Henrique</td>\n      <td>109282</td>\n      <td>9</td>\n      <td>266</td>\n      <td>ata</td>\n      <td>Nulo</td>\n      <td>0.2</td>\n      <td>1.50</td>\n      <td>-0.48</td>\n      <td>1.01</td>\n      <td>...</td>\n      <td>0.0</td>\n      <td>0.0</td>\n      <td>0.0</td>\n      <td>0.0</td>\n      <td>0.0</td>\n      <td>0.0</td>\n      <td>0.0</td>\n      <td>0.0</td>\n      <td>0.0</td>\n      <td>0.0</td>\n    </tr>\n  </tbody>\n</table>\n<p>3 rows × 29 columns</p>\n</div>"
     },
     "metadata": {},
     "execution_count": 25
    }
   ],
   "source": [
    "df_jogadores.tail(3)"
   ]
  },
  {
   "source": [
    "### Input/Unificação dos dados no dataframe dos jogadores\n",
    "- Adicionado colunas `Adversario`, `jogoForaOuCasa`, `golFavor`, `golFora`  "
   ],
   "cell_type": "markdown",
   "metadata": {}
  },
  {
   "cell_type": "code",
   "execution_count": 134,
   "metadata": {
    "tags": []
   },
   "outputs": [],
   "source": [
    "# Procura qual adversário por rodade e atleta\n",
    "def getAdversario(clube_id, rodada_id):\n",
    "    advFora = df_jogos.loc[(df_jogos['home_team'] == clube_id) & (df_jogos['rodada_id'] == rodada_id)]['away_team']\n",
    "    advCasa = df_jogos.loc[(df_jogos['away_team'] == clube_id) & (df_jogos['rodada_id'] == rodada_id)]['home_team']\n",
    "    if (advFora is not None) and (advFora.values > 0):\n",
    "        return int(advFora.values[0])\n",
    "    else :\n",
    "         if (advCasa is not None) and (advCasa.values > 0):\n",
    "               return int(advCasa.values[0])\n"
   ]
  },
  {
   "cell_type": "code",
   "execution_count": 135,
   "metadata": {},
   "outputs": [],
   "source": [
    "# procura se o jogo foi em casa ou f\n",
    "def getJogoForaEmCasa(clube_id, rodada_id):\n",
    "    jogouEmCasa = df_jogos.loc[(df_jogos['home_team'] == clube_id) & (df_jogos['rodada_id'] == rodada_id)]['home_team']\n",
    "    jogouFora = df_jogos.loc[(df_jogos['away_team'] == clube_id) & (df_jogos['rodada_id'] == rodada_id)]['away_team']\n",
    "    if (jogouEmCasa is not None) and (jogouEmCasa.values > 0):\n",
    "        return 0\n",
    "    else :\n",
    "         if (jogouFora is not None) and (jogouFora.values > 0):\n",
    "               return 1\n"
   ]
  },
  {
   "cell_type": "code",
   "execution_count": 136,
   "metadata": {},
   "outputs": [],
   "source": [
    "def gerarColunasGols(linha_df):\n",
    "    jogoRealizadoEmCasa = df_jogos.loc[(df_jogos['home_team'] == linha_df['atletas.clube_id']) & (df_jogos['rodada_id'] == linha_df['rodada_id'])]\n",
    "    jogoRealizadoFora = df_jogos.loc[(df_jogos['away_team'] == linha_df['atletas.clube_id']) & (df_jogos['rodada_id'] == linha_df['rodada_id'])]\n",
    "    if not jogoRealizadoEmCasa.empty:\n",
    "        linha_df['golFavor'] = jogoRealizadoEmCasa['home_score'].values[0]\n",
    "        linha_df['golContra'] = jogoRealizadoEmCasa['away_score'].values[0]\n",
    "    else:\n",
    "        if not jogoRealizadoFora.empty:\n",
    "            linha_df['golFavor'] = jogoRealizadoFora['away_score'].values[0]\n",
    "            linha_df['golContra'] = jogoRealizadoFora['home_score'].values[0]\n",
    "    return linha_df\n",
    "        "
   ]
  },
  {
   "cell_type": "code",
   "execution_count": 137,
   "metadata": {
    "tags": []
   },
   "outputs": [],
   "source": [
    "# Gera novas colunas com os gols do time a favor ou contra para cada rodada\n",
    "df_jogadores = df_jogadores.apply(lambda x: gerarColunasGols(x), axis=1)"
   ]
  },
  {
   "cell_type": "code",
   "execution_count": 138,
   "metadata": {
    "tags": []
   },
   "outputs": [],
   "source": [
    "# Adversário do time/jogador\n",
    "df_jogadores['adversario'] = df_jogadores.apply(lambda x: getAdversario(x['atletas.clube_id'], x['rodada_id']), axis=1)"
   ]
  },
  {
   "cell_type": "code",
   "execution_count": 139,
   "metadata": {
    "tags": []
   },
   "outputs": [],
   "source": [
    "# Jogo fora ou em casa\n",
    "df_jogadores['jogoForaOuCasa'] = df_jogadores.apply(lambda x: getJogoForaEmCasa(x['atletas.clube_id'], x['rodada_id']), axis=1)"
   ]
  },
  {
   "cell_type": "code",
   "execution_count": 140,
   "metadata": {},
   "outputs": [],
   "source": [
    "# remover linhas cuja coluna rodada_id esteja NaN\n",
    "df_jogadores.dropna(subset=['adversario'], inplace=True)"
   ]
  },
  {
   "cell_type": "code",
   "execution_count": 141,
   "metadata": {},
   "outputs": [
    {
     "output_type": "execute_result",
     "data": {
      "text/plain": "       A   CA   CV   DD   DP    DS    FC   FD   FF   FS   FT    G   GC   GS  \\\n643  1.0  0.0  0.0  0.0  0.0   2.0   4.0  0.0  0.0  3.0  0.0  0.0  0.0  0.0   \n645  0.0  1.0  0.0  0.0  0.0  15.0   6.0  1.0  1.0  5.0  0.0  0.0  0.0  0.0   \n646  0.0  1.0  0.0  0.0  0.0   6.0   4.0  0.0  1.0  3.0  0.0  0.0  0.0  0.0   \n647  0.0  0.0  0.0  0.0  0.0  16.0   5.0  1.0  0.0  3.0  0.0  0.0  0.0  0.0   \n648  0.0  0.0  0.0  0.0  0.0   3.0   2.0  0.0  1.0  2.0  0.0  0.0  0.0  0.0   \n649  0.0  0.0  0.0  0.0  0.0   5.0   0.0  0.0  2.0  2.0  0.0  0.0  0.0  0.0   \n650  0.0  0.0  0.0  0.0  0.0   4.0   0.0  0.0  1.0  3.0  0.0  0.0  0.0  0.0   \n654  0.0  0.0  0.0  0.0  0.0   0.0   0.0  0.0  0.0  0.0  0.0  0.0  0.0  0.0   \n655  0.0  1.0  0.0  0.0  0.0   3.0   1.0  0.0  0.0  0.0  0.0  0.0  0.0  0.0   \n658  0.0  1.0  0.0  0.0  0.0   5.0   3.0  0.0  1.0  6.0  0.0  0.0  0.0  0.0   \n660  0.0  1.0  0.0  0.0  0.0   0.0   1.0  0.0  0.0  0.0  0.0  0.0  0.0  0.0   \n663  1.0  2.0  0.0  0.0  0.0   4.0  10.0  0.0  2.0  6.0  0.0  0.0  0.0  0.0   \n664  0.0  1.0  0.0  0.0  0.0   5.0   1.0  0.0  0.0  2.0  0.0  1.0  0.0  0.0   \n667  0.0  0.0  0.0  0.0  0.0   2.0   3.0  1.0  0.0  0.0  0.0  0.0  0.0  0.0   \n668  0.0  1.0  0.0  0.0  0.0   8.0   5.0  0.0  1.0  4.0  0.0  1.0  0.0  0.0   \n673  0.0  1.0  0.0  0.0  0.0   7.0   1.0  1.0  0.0  5.0  0.0  0.0  0.0  0.0   \n675  0.0  1.0  0.0  0.0  0.0   5.0   4.0  1.0  0.0  2.0  0.0  0.0  0.0  0.0   \n677  2.0  1.0  0.0  0.0  0.0   4.0   7.0  0.0  0.0  1.0  0.0  0.0  0.0  0.0   \n679  0.0  0.0  0.0  0.0  0.0   1.0   3.0  1.0  0.0  1.0  0.0  0.0  0.0  0.0   \n683  1.0  0.0  0.0  0.0  0.0   0.0   0.0  0.0  2.0  0.0  0.0  0.0  0.0  0.0   \n684  0.0  1.0  0.0  0.0  0.0   1.0   0.0  0.0  1.0  0.0  0.0  0.0  0.0  0.0   \n685  0.0  0.0  0.0  0.0  0.0   2.0   1.0  0.0  0.0  2.0  0.0  0.0  0.0  0.0   \n687  0.0  0.0  0.0  0.0  0.0   2.0   1.0  0.0  0.0  0.0  0.0  0.0  0.0  0.0   \n688  0.0  0.0  0.0  0.0  0.0   2.0   2.0  0.0  0.0  2.0  0.0  0.0  0.0  0.0   \n690  0.0  0.0  0.0  0.0  0.0   0.0   1.0  0.0  0.0  1.0  0.0  0.0  0.0  0.0   \n695  0.0  1.0  0.0  0.0  0.0   0.0   0.0  0.0  0.0  0.0  0.0  0.0  0.0  0.0   \n701  0.0  0.0  0.0  0.0  0.0   0.0   0.0  0.0  0.0  1.0  0.0  1.0  0.0  0.0   \n706  0.0  0.0  0.0  0.0  0.0   0.0   1.0  1.0  0.0  0.0  0.0  0.0  0.0  0.0   \n709  0.0  2.0  0.0  0.0  0.0   5.0   5.0  1.0  1.0  7.0  0.0  0.0  0.0  0.0   \n711  0.0  0.0  0.0  0.0  0.0   6.0   4.0  0.0  5.0  1.0  0.0  0.0  0.0  0.0   \n\n       I    PI   PP   SG    atletas.apelido  atletas.atleta_id  \\\n643  1.0   9.0  0.0  0.0       Ygor Catatau             100977   \n645  1.0  35.0  0.0  2.0           Jonathan              86713   \n646  0.0   8.0  0.0  0.0            Ratinho             101841   \n647  0.0  63.0  0.0  1.0            Mariano              38877   \n648  0.0   7.0  0.0  0.0               Ruan             104153   \n649  0.0   8.0  0.0  0.0       David Duarte              91772   \n650  0.0   0.0  0.0  0.0              Edson             105901   \n654  1.0   1.0  0.0  0.0        Bruno Leite             102301   \n655  0.0   0.0  0.0  1.0    Daniel Oliveira             106076   \n658  0.0  10.0  0.0  0.0  Lucas Evangelista              84674   \n660  0.0   1.0  0.0  0.0              Kawan             106219   \n663  1.0  16.0  0.0  0.0        Lucas Braga              99119   \n664  0.0   2.0  0.0  0.0       Luis Phelipe             104500   \n667  0.0   3.0  0.0  0.0            Hurtado             105301   \n668  1.0  42.0  0.0  1.0          Jefferson              95220   \n673  0.0  12.0  0.0  2.0        Neto Borges             106411   \n675  0.0   3.0  0.0  0.0             Ronald             100969   \n677  2.0  26.0  0.0  1.0               Isla              69345   \n679  0.0  26.0  0.0  0.0            Fabinho             101729   \n683  0.0   9.0  0.0  0.0            Robinho              62104   \n684  0.0   8.0  0.0  0.0            Edílson              38523   \n685  0.0   1.0  0.0  0.0            Chrigor             101398   \n687  0.0   4.0  0.0  0.0     Abel Hernández              74159   \n688  1.0  10.0  0.0  0.0          Fragapane              79262   \n690  0.0   0.0  0.0  0.0        Davi Araújo             109626   \n695  0.0   1.0  0.0  0.0             Danilo             107231   \n701  0.0   0.0  0.0  0.0          Ravanelli              92193   \n706  0.0   1.0  0.0  0.0           Rentería              95356   \n709  0.0  17.0  0.0  3.0       Cayo Tenório             107367   \n711  0.0  14.0  0.0  0.0      Luiz Henrique             109282   \n\n     atletas.clube_id  atletas.jogos_num  atletas.media_num  \\\n643               267                  3               1.70   \n645               294                  7               2.93   \n646               290                  3               1.17   \n647               282                  5               2.98   \n648               264                  4               0.77   \n649               290                  2               3.40   \n650               265                  3               2.10   \n654               293                  1              -0.60   \n655               290                  2               2.75   \n658               280                  5               0.86   \n660               293                  1              -2.60   \n663               277                  6               0.42   \n664               280                  3               3.77   \n667               280                  3               0.47   \n668               290                  5               2.92   \n673               267                  4               4.25   \n675               356                  3               0.97   \n677               262                  4               2.60   \n679               293                  3              -0.47   \n683               284                  2               2.85   \n684               290                  1              -1.00   \n685               280                  1               2.40   \n687               285                  2               0.55   \n688               356                  5               0.10   \n690               263                  2               0.00   \n695               275                  1              -2.10   \n701               293                  1               8.50   \n706               263                  1               0.60   \n709               267                  4               4.33   \n711               266                  7               1.01   \n\n     atletas.pontos_num atletas.posicao_id  atletas.preco_num  \\\n643                -0.1                ata               1.95   \n645                 3.6                lat               4.47   \n646                 0.0                mei               2.10   \n647                 2.5                lat               8.85   \n648                 0.0                mei               1.22   \n649                 4.2                zag               3.42   \n650                 2.3                mei               1.62   \n654                 0.0                mei               0.77   \n655                 0.0                lat               2.15   \n658                 1.4                mei               3.06   \n660                 0.0                mei               0.72   \n663                 0.3                ata               1.89   \n664                 0.0                ata               4.64   \n667                 0.0                ata               2.24   \n668                 0.6                lat               5.34   \n673                 0.0                lat               5.32   \n675                -3.0                mei               1.37   \n677                -0.4                lat               8.17   \n679                 1.0                ata               0.77   \n683                 0.0                mei               5.01   \n684                -1.0                lat               5.90   \n685                 0.0                ata               2.25   \n687                 1.2                ata               6.86   \n688                 0.0                ata               1.59   \n690                 0.0                ata               0.76   \n695                 0.0                mei               0.77   \n701                 8.5                mei               4.61   \n706                 0.6                mei               5.62   \n709                 0.0                lat               4.88   \n711                 0.2                ata               1.50   \n\n    atletas.status_id  atletas.variacao_num  golContra  golFavor  rodada_id  \\\n643            Dúvida                 -0.12        2.0       1.0          9   \n645          Provável                  0.40        3.0       3.0          9   \n646              Nulo                  0.00        3.0       3.0          9   \n647              Nulo                 -1.16        3.0       1.0          9   \n648        Contundido                  0.00        2.0       0.0          9   \n649          Provável                  0.51        3.0       3.0          9   \n650            Dúvida                  0.15        2.0       0.0          9   \n654              Nulo                  0.00        1.0       1.0          9   \n655              Nulo                  0.00        3.0       3.0          9   \n658              Nulo                  0.26        1.0       1.0          9   \n660              Nulo                  0.00        1.0       1.0          9   \n663          Provável                  0.66        1.0       3.0          9   \n664        Contundido                  0.00        1.0       1.0          9   \n667              Nulo                  0.00        1.0       1.0          9   \n668          Provável                 -0.02        3.0       3.0          9   \n673              Nulo                  0.00        2.0       1.0          9   \n675          Provável                 -1.27        0.0       1.0          9   \n677            Dúvida                 -0.27        1.0       2.0          9   \n679          Provável                  0.00        1.0       1.0          9   \n683          Provável                  0.00        0.0       2.0          9   \n684          Provável                 -2.10        3.0       3.0          9   \n685              Nulo                  0.00        1.0       1.0          9   \n687          Provável                 -0.03        0.0       2.0          9   \n688              Nulo                  0.00        0.0       1.0          9   \n690              Nulo                  0.00        1.0       1.0          9   \n695              Nulo                  0.00        0.0       2.0          9   \n701              Nulo                  2.61        1.0       1.0          9   \n706              Nulo                 -1.38        1.0       1.0          9   \n709              Nulo                  0.00        2.0       1.0          9   \n711              Nulo                 -0.48        2.0       1.0          9   \n\n     adversario  jogoForaOuCasa  \n643       373.0             0.0  \n645       290.0             1.0  \n646       294.0             0.0  \n647       277.0             1.0  \n648       275.0             0.0  \n649       294.0             0.0  \n650       284.0             0.0  \n654       263.0             0.0  \n655       294.0             0.0  \n658       276.0             1.0  \n660       263.0             0.0  \n663       282.0             0.0  \n664       276.0             1.0  \n667       276.0             1.0  \n668       294.0             0.0  \n673       373.0             0.0  \n675       292.0             0.0  \n677       266.0             1.0  \n679       263.0             0.0  \n683       265.0             1.0  \n684       294.0             0.0  \n685       276.0             1.0  \n687       354.0             0.0  \n688       292.0             0.0  \n690       293.0             1.0  \n695       264.0             1.0  \n701       263.0             0.0  \n706       293.0             1.0  \n709       373.0             0.0  \n711       262.0             0.0  ",
      "text/html": "<div>\n<style scoped>\n    .dataframe tbody tr th:only-of-type {\n        vertical-align: middle;\n    }\n\n    .dataframe tbody tr th {\n        vertical-align: top;\n    }\n\n    .dataframe thead th {\n        text-align: right;\n    }\n</style>\n<table border=\"1\" class=\"dataframe\">\n  <thead>\n    <tr style=\"text-align: right;\">\n      <th></th>\n      <th>A</th>\n      <th>CA</th>\n      <th>CV</th>\n      <th>DD</th>\n      <th>DP</th>\n      <th>DS</th>\n      <th>FC</th>\n      <th>FD</th>\n      <th>FF</th>\n      <th>FS</th>\n      <th>FT</th>\n      <th>G</th>\n      <th>GC</th>\n      <th>GS</th>\n      <th>I</th>\n      <th>PI</th>\n      <th>PP</th>\n      <th>SG</th>\n      <th>atletas.apelido</th>\n      <th>atletas.atleta_id</th>\n      <th>atletas.clube_id</th>\n      <th>atletas.jogos_num</th>\n      <th>atletas.media_num</th>\n      <th>atletas.pontos_num</th>\n      <th>atletas.posicao_id</th>\n      <th>atletas.preco_num</th>\n      <th>atletas.status_id</th>\n      <th>atletas.variacao_num</th>\n      <th>golContra</th>\n      <th>golFavor</th>\n      <th>rodada_id</th>\n      <th>adversario</th>\n      <th>jogoForaOuCasa</th>\n    </tr>\n  </thead>\n  <tbody>\n    <tr>\n      <th>643</th>\n      <td>1.0</td>\n      <td>0.0</td>\n      <td>0.0</td>\n      <td>0.0</td>\n      <td>0.0</td>\n      <td>2.0</td>\n      <td>4.0</td>\n      <td>0.0</td>\n      <td>0.0</td>\n      <td>3.0</td>\n      <td>0.0</td>\n      <td>0.0</td>\n      <td>0.0</td>\n      <td>0.0</td>\n      <td>1.0</td>\n      <td>9.0</td>\n      <td>0.0</td>\n      <td>0.0</td>\n      <td>Ygor Catatau</td>\n      <td>100977</td>\n      <td>267</td>\n      <td>3</td>\n      <td>1.70</td>\n      <td>-0.1</td>\n      <td>ata</td>\n      <td>1.95</td>\n      <td>Dúvida</td>\n      <td>-0.12</td>\n      <td>2.0</td>\n      <td>1.0</td>\n      <td>9</td>\n      <td>373.0</td>\n      <td>0.0</td>\n    </tr>\n    <tr>\n      <th>645</th>\n      <td>0.0</td>\n      <td>1.0</td>\n      <td>0.0</td>\n      <td>0.0</td>\n      <td>0.0</td>\n      <td>15.0</td>\n      <td>6.0</td>\n      <td>1.0</td>\n      <td>1.0</td>\n      <td>5.0</td>\n      <td>0.0</td>\n      <td>0.0</td>\n      <td>0.0</td>\n      <td>0.0</td>\n      <td>1.0</td>\n      <td>35.0</td>\n      <td>0.0</td>\n      <td>2.0</td>\n      <td>Jonathan</td>\n      <td>86713</td>\n      <td>294</td>\n      <td>7</td>\n      <td>2.93</td>\n      <td>3.6</td>\n      <td>lat</td>\n      <td>4.47</td>\n      <td>Provável</td>\n      <td>0.40</td>\n      <td>3.0</td>\n      <td>3.0</td>\n      <td>9</td>\n      <td>290.0</td>\n      <td>1.0</td>\n    </tr>\n    <tr>\n      <th>646</th>\n      <td>0.0</td>\n      <td>1.0</td>\n      <td>0.0</td>\n      <td>0.0</td>\n      <td>0.0</td>\n      <td>6.0</td>\n      <td>4.0</td>\n      <td>0.0</td>\n      <td>1.0</td>\n      <td>3.0</td>\n      <td>0.0</td>\n      <td>0.0</td>\n      <td>0.0</td>\n      <td>0.0</td>\n      <td>0.0</td>\n      <td>8.0</td>\n      <td>0.0</td>\n      <td>0.0</td>\n      <td>Ratinho</td>\n      <td>101841</td>\n      <td>290</td>\n      <td>3</td>\n      <td>1.17</td>\n      <td>0.0</td>\n      <td>mei</td>\n      <td>2.10</td>\n      <td>Nulo</td>\n      <td>0.00</td>\n      <td>3.0</td>\n      <td>3.0</td>\n      <td>9</td>\n      <td>294.0</td>\n      <td>0.0</td>\n    </tr>\n    <tr>\n      <th>647</th>\n      <td>0.0</td>\n      <td>0.0</td>\n      <td>0.0</td>\n      <td>0.0</td>\n      <td>0.0</td>\n      <td>16.0</td>\n      <td>5.0</td>\n      <td>1.0</td>\n      <td>0.0</td>\n      <td>3.0</td>\n      <td>0.0</td>\n      <td>0.0</td>\n      <td>0.0</td>\n      <td>0.0</td>\n      <td>0.0</td>\n      <td>63.0</td>\n      <td>0.0</td>\n      <td>1.0</td>\n      <td>Mariano</td>\n      <td>38877</td>\n      <td>282</td>\n      <td>5</td>\n      <td>2.98</td>\n      <td>2.5</td>\n      <td>lat</td>\n      <td>8.85</td>\n      <td>Nulo</td>\n      <td>-1.16</td>\n      <td>3.0</td>\n      <td>1.0</td>\n      <td>9</td>\n      <td>277.0</td>\n      <td>1.0</td>\n    </tr>\n    <tr>\n      <th>648</th>\n      <td>0.0</td>\n      <td>0.0</td>\n      <td>0.0</td>\n      <td>0.0</td>\n      <td>0.0</td>\n      <td>3.0</td>\n      <td>2.0</td>\n      <td>0.0</td>\n      <td>1.0</td>\n      <td>2.0</td>\n      <td>0.0</td>\n      <td>0.0</td>\n      <td>0.0</td>\n      <td>0.0</td>\n      <td>0.0</td>\n      <td>7.0</td>\n      <td>0.0</td>\n      <td>0.0</td>\n      <td>Ruan</td>\n      <td>104153</td>\n      <td>264</td>\n      <td>4</td>\n      <td>0.77</td>\n      <td>0.0</td>\n      <td>mei</td>\n      <td>1.22</td>\n      <td>Contundido</td>\n      <td>0.00</td>\n      <td>2.0</td>\n      <td>0.0</td>\n      <td>9</td>\n      <td>275.0</td>\n      <td>0.0</td>\n    </tr>\n    <tr>\n      <th>649</th>\n      <td>0.0</td>\n      <td>0.0</td>\n      <td>0.0</td>\n      <td>0.0</td>\n      <td>0.0</td>\n      <td>5.0</td>\n      <td>0.0</td>\n      <td>0.0</td>\n      <td>2.0</td>\n      <td>2.0</td>\n      <td>0.0</td>\n      <td>0.0</td>\n      <td>0.0</td>\n      <td>0.0</td>\n      <td>0.0</td>\n      <td>8.0</td>\n      <td>0.0</td>\n      <td>0.0</td>\n      <td>David Duarte</td>\n      <td>91772</td>\n      <td>290</td>\n      <td>2</td>\n      <td>3.40</td>\n      <td>4.2</td>\n      <td>zag</td>\n      <td>3.42</td>\n      <td>Provável</td>\n      <td>0.51</td>\n      <td>3.0</td>\n      <td>3.0</td>\n      <td>9</td>\n      <td>294.0</td>\n      <td>0.0</td>\n    </tr>\n    <tr>\n      <th>650</th>\n      <td>0.0</td>\n      <td>0.0</td>\n      <td>0.0</td>\n      <td>0.0</td>\n      <td>0.0</td>\n      <td>4.0</td>\n      <td>0.0</td>\n      <td>0.0</td>\n      <td>1.0</td>\n      <td>3.0</td>\n      <td>0.0</td>\n      <td>0.0</td>\n      <td>0.0</td>\n      <td>0.0</td>\n      <td>0.0</td>\n      <td>0.0</td>\n      <td>0.0</td>\n      <td>0.0</td>\n      <td>Edson</td>\n      <td>105901</td>\n      <td>265</td>\n      <td>3</td>\n      <td>2.10</td>\n      <td>2.3</td>\n      <td>mei</td>\n      <td>1.62</td>\n      <td>Dúvida</td>\n      <td>0.15</td>\n      <td>2.0</td>\n      <td>0.0</td>\n      <td>9</td>\n      <td>284.0</td>\n      <td>0.0</td>\n    </tr>\n    <tr>\n      <th>654</th>\n      <td>0.0</td>\n      <td>0.0</td>\n      <td>0.0</td>\n      <td>0.0</td>\n      <td>0.0</td>\n      <td>0.0</td>\n      <td>0.0</td>\n      <td>0.0</td>\n      <td>0.0</td>\n      <td>0.0</td>\n      <td>0.0</td>\n      <td>0.0</td>\n      <td>0.0</td>\n      <td>0.0</td>\n      <td>1.0</td>\n      <td>1.0</td>\n      <td>0.0</td>\n      <td>0.0</td>\n      <td>Bruno Leite</td>\n      <td>102301</td>\n      <td>293</td>\n      <td>1</td>\n      <td>-0.60</td>\n      <td>0.0</td>\n      <td>mei</td>\n      <td>0.77</td>\n      <td>Nulo</td>\n      <td>0.00</td>\n      <td>1.0</td>\n      <td>1.0</td>\n      <td>9</td>\n      <td>263.0</td>\n      <td>0.0</td>\n    </tr>\n    <tr>\n      <th>655</th>\n      <td>0.0</td>\n      <td>1.0</td>\n      <td>0.0</td>\n      <td>0.0</td>\n      <td>0.0</td>\n      <td>3.0</td>\n      <td>1.0</td>\n      <td>0.0</td>\n      <td>0.0</td>\n      <td>0.0</td>\n      <td>0.0</td>\n      <td>0.0</td>\n      <td>0.0</td>\n      <td>0.0</td>\n      <td>0.0</td>\n      <td>0.0</td>\n      <td>0.0</td>\n      <td>1.0</td>\n      <td>Daniel Oliveira</td>\n      <td>106076</td>\n      <td>290</td>\n      <td>2</td>\n      <td>2.75</td>\n      <td>0.0</td>\n      <td>lat</td>\n      <td>2.15</td>\n      <td>Nulo</td>\n      <td>0.00</td>\n      <td>3.0</td>\n      <td>3.0</td>\n      <td>9</td>\n      <td>294.0</td>\n      <td>0.0</td>\n    </tr>\n    <tr>\n      <th>658</th>\n      <td>0.0</td>\n      <td>1.0</td>\n      <td>0.0</td>\n      <td>0.0</td>\n      <td>0.0</td>\n      <td>5.0</td>\n      <td>3.0</td>\n      <td>0.0</td>\n      <td>1.0</td>\n      <td>6.0</td>\n      <td>0.0</td>\n      <td>0.0</td>\n      <td>0.0</td>\n      <td>0.0</td>\n      <td>0.0</td>\n      <td>10.0</td>\n      <td>0.0</td>\n      <td>0.0</td>\n      <td>Lucas Evangelista</td>\n      <td>84674</td>\n      <td>280</td>\n      <td>5</td>\n      <td>0.86</td>\n      <td>1.4</td>\n      <td>mei</td>\n      <td>3.06</td>\n      <td>Nulo</td>\n      <td>0.26</td>\n      <td>1.0</td>\n      <td>1.0</td>\n      <td>9</td>\n      <td>276.0</td>\n      <td>1.0</td>\n    </tr>\n    <tr>\n      <th>660</th>\n      <td>0.0</td>\n      <td>1.0</td>\n      <td>0.0</td>\n      <td>0.0</td>\n      <td>0.0</td>\n      <td>0.0</td>\n      <td>1.0</td>\n      <td>0.0</td>\n      <td>0.0</td>\n      <td>0.0</td>\n      <td>0.0</td>\n      <td>0.0</td>\n      <td>0.0</td>\n      <td>0.0</td>\n      <td>0.0</td>\n      <td>1.0</td>\n      <td>0.0</td>\n      <td>0.0</td>\n      <td>Kawan</td>\n      <td>106219</td>\n      <td>293</td>\n      <td>1</td>\n      <td>-2.60</td>\n      <td>0.0</td>\n      <td>mei</td>\n      <td>0.72</td>\n      <td>Nulo</td>\n      <td>0.00</td>\n      <td>1.0</td>\n      <td>1.0</td>\n      <td>9</td>\n      <td>263.0</td>\n      <td>0.0</td>\n    </tr>\n    <tr>\n      <th>663</th>\n      <td>1.0</td>\n      <td>2.0</td>\n      <td>0.0</td>\n      <td>0.0</td>\n      <td>0.0</td>\n      <td>4.0</td>\n      <td>10.0</td>\n      <td>0.0</td>\n      <td>2.0</td>\n      <td>6.0</td>\n      <td>0.0</td>\n      <td>0.0</td>\n      <td>0.0</td>\n      <td>0.0</td>\n      <td>1.0</td>\n      <td>16.0</td>\n      <td>0.0</td>\n      <td>0.0</td>\n      <td>Lucas Braga</td>\n      <td>99119</td>\n      <td>277</td>\n      <td>6</td>\n      <td>0.42</td>\n      <td>0.3</td>\n      <td>ata</td>\n      <td>1.89</td>\n      <td>Provável</td>\n      <td>0.66</td>\n      <td>1.0</td>\n      <td>3.0</td>\n      <td>9</td>\n      <td>282.0</td>\n      <td>0.0</td>\n    </tr>\n    <tr>\n      <th>664</th>\n      <td>0.0</td>\n      <td>1.0</td>\n      <td>0.0</td>\n      <td>0.0</td>\n      <td>0.0</td>\n      <td>5.0</td>\n      <td>1.0</td>\n      <td>0.0</td>\n      <td>0.0</td>\n      <td>2.0</td>\n      <td>0.0</td>\n      <td>1.0</td>\n      <td>0.0</td>\n      <td>0.0</td>\n      <td>0.0</td>\n      <td>2.0</td>\n      <td>0.0</td>\n      <td>0.0</td>\n      <td>Luis Phelipe</td>\n      <td>104500</td>\n      <td>280</td>\n      <td>3</td>\n      <td>3.77</td>\n      <td>0.0</td>\n      <td>ata</td>\n      <td>4.64</td>\n      <td>Contundido</td>\n      <td>0.00</td>\n      <td>1.0</td>\n      <td>1.0</td>\n      <td>9</td>\n      <td>276.0</td>\n      <td>1.0</td>\n    </tr>\n    <tr>\n      <th>667</th>\n      <td>0.0</td>\n      <td>0.0</td>\n      <td>0.0</td>\n      <td>0.0</td>\n      <td>0.0</td>\n      <td>2.0</td>\n      <td>3.0</td>\n      <td>1.0</td>\n      <td>0.0</td>\n      <td>0.0</td>\n      <td>0.0</td>\n      <td>0.0</td>\n      <td>0.0</td>\n      <td>0.0</td>\n      <td>0.0</td>\n      <td>3.0</td>\n      <td>0.0</td>\n      <td>0.0</td>\n      <td>Hurtado</td>\n      <td>105301</td>\n      <td>280</td>\n      <td>3</td>\n      <td>0.47</td>\n      <td>0.0</td>\n      <td>ata</td>\n      <td>2.24</td>\n      <td>Nulo</td>\n      <td>0.00</td>\n      <td>1.0</td>\n      <td>1.0</td>\n      <td>9</td>\n      <td>276.0</td>\n      <td>1.0</td>\n    </tr>\n    <tr>\n      <th>668</th>\n      <td>0.0</td>\n      <td>1.0</td>\n      <td>0.0</td>\n      <td>0.0</td>\n      <td>0.0</td>\n      <td>8.0</td>\n      <td>5.0</td>\n      <td>0.0</td>\n      <td>1.0</td>\n      <td>4.0</td>\n      <td>0.0</td>\n      <td>1.0</td>\n      <td>0.0</td>\n      <td>0.0</td>\n      <td>1.0</td>\n      <td>42.0</td>\n      <td>0.0</td>\n      <td>1.0</td>\n      <td>Jefferson</td>\n      <td>95220</td>\n      <td>290</td>\n      <td>5</td>\n      <td>2.92</td>\n      <td>0.6</td>\n      <td>lat</td>\n      <td>5.34</td>\n      <td>Provável</td>\n      <td>-0.02</td>\n      <td>3.0</td>\n      <td>3.0</td>\n      <td>9</td>\n      <td>294.0</td>\n      <td>0.0</td>\n    </tr>\n    <tr>\n      <th>673</th>\n      <td>0.0</td>\n      <td>1.0</td>\n      <td>0.0</td>\n      <td>0.0</td>\n      <td>0.0</td>\n      <td>7.0</td>\n      <td>1.0</td>\n      <td>1.0</td>\n      <td>0.0</td>\n      <td>5.0</td>\n      <td>0.0</td>\n      <td>0.0</td>\n      <td>0.0</td>\n      <td>0.0</td>\n      <td>0.0</td>\n      <td>12.0</td>\n      <td>0.0</td>\n      <td>2.0</td>\n      <td>Neto Borges</td>\n      <td>106411</td>\n      <td>267</td>\n      <td>4</td>\n      <td>4.25</td>\n      <td>0.0</td>\n      <td>lat</td>\n      <td>5.32</td>\n      <td>Nulo</td>\n      <td>0.00</td>\n      <td>2.0</td>\n      <td>1.0</td>\n      <td>9</td>\n      <td>373.0</td>\n      <td>0.0</td>\n    </tr>\n    <tr>\n      <th>675</th>\n      <td>0.0</td>\n      <td>1.0</td>\n      <td>0.0</td>\n      <td>0.0</td>\n      <td>0.0</td>\n      <td>5.0</td>\n      <td>4.0</td>\n      <td>1.0</td>\n      <td>0.0</td>\n      <td>2.0</td>\n      <td>0.0</td>\n      <td>0.0</td>\n      <td>0.0</td>\n      <td>0.0</td>\n      <td>0.0</td>\n      <td>3.0</td>\n      <td>0.0</td>\n      <td>0.0</td>\n      <td>Ronald</td>\n      <td>100969</td>\n      <td>356</td>\n      <td>3</td>\n      <td>0.97</td>\n      <td>-3.0</td>\n      <td>mei</td>\n      <td>1.37</td>\n      <td>Provável</td>\n      <td>-1.27</td>\n      <td>0.0</td>\n      <td>1.0</td>\n      <td>9</td>\n      <td>292.0</td>\n      <td>0.0</td>\n    </tr>\n    <tr>\n      <th>677</th>\n      <td>2.0</td>\n      <td>1.0</td>\n      <td>0.0</td>\n      <td>0.0</td>\n      <td>0.0</td>\n      <td>4.0</td>\n      <td>7.0</td>\n      <td>0.0</td>\n      <td>0.0</td>\n      <td>1.0</td>\n      <td>0.0</td>\n      <td>0.0</td>\n      <td>0.0</td>\n      <td>0.0</td>\n      <td>2.0</td>\n      <td>26.0</td>\n      <td>0.0</td>\n      <td>1.0</td>\n      <td>Isla</td>\n      <td>69345</td>\n      <td>262</td>\n      <td>4</td>\n      <td>2.60</td>\n      <td>-0.4</td>\n      <td>lat</td>\n      <td>8.17</td>\n      <td>Dúvida</td>\n      <td>-0.27</td>\n      <td>1.0</td>\n      <td>2.0</td>\n      <td>9</td>\n      <td>266.0</td>\n      <td>1.0</td>\n    </tr>\n    <tr>\n      <th>679</th>\n      <td>0.0</td>\n      <td>0.0</td>\n      <td>0.0</td>\n      <td>0.0</td>\n      <td>0.0</td>\n      <td>1.0</td>\n      <td>3.0</td>\n      <td>1.0</td>\n      <td>0.0</td>\n      <td>1.0</td>\n      <td>0.0</td>\n      <td>0.0</td>\n      <td>0.0</td>\n      <td>0.0</td>\n      <td>0.0</td>\n      <td>26.0</td>\n      <td>0.0</td>\n      <td>0.0</td>\n      <td>Fabinho</td>\n      <td>101729</td>\n      <td>293</td>\n      <td>3</td>\n      <td>-0.47</td>\n      <td>1.0</td>\n      <td>ata</td>\n      <td>0.77</td>\n      <td>Provável</td>\n      <td>0.00</td>\n      <td>1.0</td>\n      <td>1.0</td>\n      <td>9</td>\n      <td>263.0</td>\n      <td>0.0</td>\n    </tr>\n    <tr>\n      <th>683</th>\n      <td>1.0</td>\n      <td>0.0</td>\n      <td>0.0</td>\n      <td>0.0</td>\n      <td>0.0</td>\n      <td>0.0</td>\n      <td>0.0</td>\n      <td>0.0</td>\n      <td>2.0</td>\n      <td>0.0</td>\n      <td>0.0</td>\n      <td>0.0</td>\n      <td>0.0</td>\n      <td>0.0</td>\n      <td>0.0</td>\n      <td>9.0</td>\n      <td>0.0</td>\n      <td>0.0</td>\n      <td>Robinho</td>\n      <td>62104</td>\n      <td>284</td>\n      <td>2</td>\n      <td>2.85</td>\n      <td>0.0</td>\n      <td>mei</td>\n      <td>5.01</td>\n      <td>Provável</td>\n      <td>0.00</td>\n      <td>0.0</td>\n      <td>2.0</td>\n      <td>9</td>\n      <td>265.0</td>\n      <td>1.0</td>\n    </tr>\n    <tr>\n      <th>684</th>\n      <td>0.0</td>\n      <td>1.0</td>\n      <td>0.0</td>\n      <td>0.0</td>\n      <td>0.0</td>\n      <td>1.0</td>\n      <td>0.0</td>\n      <td>0.0</td>\n      <td>1.0</td>\n      <td>0.0</td>\n      <td>0.0</td>\n      <td>0.0</td>\n      <td>0.0</td>\n      <td>0.0</td>\n      <td>0.0</td>\n      <td>8.0</td>\n      <td>0.0</td>\n      <td>0.0</td>\n      <td>Edílson</td>\n      <td>38523</td>\n      <td>290</td>\n      <td>1</td>\n      <td>-1.00</td>\n      <td>-1.0</td>\n      <td>lat</td>\n      <td>5.90</td>\n      <td>Provável</td>\n      <td>-2.10</td>\n      <td>3.0</td>\n      <td>3.0</td>\n      <td>9</td>\n      <td>294.0</td>\n      <td>0.0</td>\n    </tr>\n    <tr>\n      <th>685</th>\n      <td>0.0</td>\n      <td>0.0</td>\n      <td>0.0</td>\n      <td>0.0</td>\n      <td>0.0</td>\n      <td>2.0</td>\n      <td>1.0</td>\n      <td>0.0</td>\n      <td>0.0</td>\n      <td>2.0</td>\n      <td>0.0</td>\n      <td>0.0</td>\n      <td>0.0</td>\n      <td>0.0</td>\n      <td>0.0</td>\n      <td>1.0</td>\n      <td>0.0</td>\n      <td>0.0</td>\n      <td>Chrigor</td>\n      <td>101398</td>\n      <td>280</td>\n      <td>1</td>\n      <td>2.40</td>\n      <td>0.0</td>\n      <td>ata</td>\n      <td>2.25</td>\n      <td>Nulo</td>\n      <td>0.00</td>\n      <td>1.0</td>\n      <td>1.0</td>\n      <td>9</td>\n      <td>276.0</td>\n      <td>1.0</td>\n    </tr>\n    <tr>\n      <th>687</th>\n      <td>0.0</td>\n      <td>0.0</td>\n      <td>0.0</td>\n      <td>0.0</td>\n      <td>0.0</td>\n      <td>2.0</td>\n      <td>1.0</td>\n      <td>0.0</td>\n      <td>0.0</td>\n      <td>0.0</td>\n      <td>0.0</td>\n      <td>0.0</td>\n      <td>0.0</td>\n      <td>0.0</td>\n      <td>0.0</td>\n      <td>4.0</td>\n      <td>0.0</td>\n      <td>0.0</td>\n      <td>Abel Hernández</td>\n      <td>74159</td>\n      <td>285</td>\n      <td>2</td>\n      <td>0.55</td>\n      <td>1.2</td>\n      <td>ata</td>\n      <td>6.86</td>\n      <td>Provável</td>\n      <td>-0.03</td>\n      <td>0.0</td>\n      <td>2.0</td>\n      <td>9</td>\n      <td>354.0</td>\n      <td>0.0</td>\n    </tr>\n    <tr>\n      <th>688</th>\n      <td>0.0</td>\n      <td>0.0</td>\n      <td>0.0</td>\n      <td>0.0</td>\n      <td>0.0</td>\n      <td>2.0</td>\n      <td>2.0</td>\n      <td>0.0</td>\n      <td>0.0</td>\n      <td>2.0</td>\n      <td>0.0</td>\n      <td>0.0</td>\n      <td>0.0</td>\n      <td>0.0</td>\n      <td>1.0</td>\n      <td>10.0</td>\n      <td>0.0</td>\n      <td>0.0</td>\n      <td>Fragapane</td>\n      <td>79262</td>\n      <td>356</td>\n      <td>5</td>\n      <td>0.10</td>\n      <td>0.0</td>\n      <td>ata</td>\n      <td>1.59</td>\n      <td>Nulo</td>\n      <td>0.00</td>\n      <td>0.0</td>\n      <td>1.0</td>\n      <td>9</td>\n      <td>292.0</td>\n      <td>0.0</td>\n    </tr>\n    <tr>\n      <th>690</th>\n      <td>0.0</td>\n      <td>0.0</td>\n      <td>0.0</td>\n      <td>0.0</td>\n      <td>0.0</td>\n      <td>0.0</td>\n      <td>1.0</td>\n      <td>0.0</td>\n      <td>0.0</td>\n      <td>1.0</td>\n      <td>0.0</td>\n      <td>0.0</td>\n      <td>0.0</td>\n      <td>0.0</td>\n      <td>0.0</td>\n      <td>0.0</td>\n      <td>0.0</td>\n      <td>0.0</td>\n      <td>Davi Araújo</td>\n      <td>109626</td>\n      <td>263</td>\n      <td>2</td>\n      <td>0.00</td>\n      <td>0.0</td>\n      <td>ata</td>\n      <td>0.76</td>\n      <td>Nulo</td>\n      <td>0.00</td>\n      <td>1.0</td>\n      <td>1.0</td>\n      <td>9</td>\n      <td>293.0</td>\n      <td>1.0</td>\n    </tr>\n    <tr>\n      <th>695</th>\n      <td>0.0</td>\n      <td>1.0</td>\n      <td>0.0</td>\n      <td>0.0</td>\n      <td>0.0</td>\n      <td>0.0</td>\n      <td>0.0</td>\n      <td>0.0</td>\n      <td>0.0</td>\n      <td>0.0</td>\n      <td>0.0</td>\n      <td>0.0</td>\n      <td>0.0</td>\n      <td>0.0</td>\n      <td>0.0</td>\n      <td>1.0</td>\n      <td>0.0</td>\n      <td>0.0</td>\n      <td>Danilo</td>\n      <td>107231</td>\n      <td>275</td>\n      <td>1</td>\n      <td>-2.10</td>\n      <td>0.0</td>\n      <td>mei</td>\n      <td>0.77</td>\n      <td>Nulo</td>\n      <td>0.00</td>\n      <td>0.0</td>\n      <td>2.0</td>\n      <td>9</td>\n      <td>264.0</td>\n      <td>1.0</td>\n    </tr>\n    <tr>\n      <th>701</th>\n      <td>0.0</td>\n      <td>0.0</td>\n      <td>0.0</td>\n      <td>0.0</td>\n      <td>0.0</td>\n      <td>0.0</td>\n      <td>0.0</td>\n      <td>0.0</td>\n      <td>0.0</td>\n      <td>1.0</td>\n      <td>0.0</td>\n      <td>1.0</td>\n      <td>0.0</td>\n      <td>0.0</td>\n      <td>0.0</td>\n      <td>0.0</td>\n      <td>0.0</td>\n      <td>0.0</td>\n      <td>Ravanelli</td>\n      <td>92193</td>\n      <td>293</td>\n      <td>1</td>\n      <td>8.50</td>\n      <td>8.5</td>\n      <td>mei</td>\n      <td>4.61</td>\n      <td>Nulo</td>\n      <td>2.61</td>\n      <td>1.0</td>\n      <td>1.0</td>\n      <td>9</td>\n      <td>263.0</td>\n      <td>0.0</td>\n    </tr>\n    <tr>\n      <th>706</th>\n      <td>0.0</td>\n      <td>0.0</td>\n      <td>0.0</td>\n      <td>0.0</td>\n      <td>0.0</td>\n      <td>0.0</td>\n      <td>1.0</td>\n      <td>1.0</td>\n      <td>0.0</td>\n      <td>0.0</td>\n      <td>0.0</td>\n      <td>0.0</td>\n      <td>0.0</td>\n      <td>0.0</td>\n      <td>0.0</td>\n      <td>1.0</td>\n      <td>0.0</td>\n      <td>0.0</td>\n      <td>Rentería</td>\n      <td>95356</td>\n      <td>263</td>\n      <td>1</td>\n      <td>0.60</td>\n      <td>0.6</td>\n      <td>mei</td>\n      <td>5.62</td>\n      <td>Nulo</td>\n      <td>-1.38</td>\n      <td>1.0</td>\n      <td>1.0</td>\n      <td>9</td>\n      <td>293.0</td>\n      <td>1.0</td>\n    </tr>\n    <tr>\n      <th>709</th>\n      <td>0.0</td>\n      <td>2.0</td>\n      <td>0.0</td>\n      <td>0.0</td>\n      <td>0.0</td>\n      <td>5.0</td>\n      <td>5.0</td>\n      <td>1.0</td>\n      <td>1.0</td>\n      <td>7.0</td>\n      <td>0.0</td>\n      <td>0.0</td>\n      <td>0.0</td>\n      <td>0.0</td>\n      <td>0.0</td>\n      <td>17.0</td>\n      <td>0.0</td>\n      <td>3.0</td>\n      <td>Cayo Tenório</td>\n      <td>107367</td>\n      <td>267</td>\n      <td>4</td>\n      <td>4.33</td>\n      <td>0.0</td>\n      <td>lat</td>\n      <td>4.88</td>\n      <td>Nulo</td>\n      <td>0.00</td>\n      <td>2.0</td>\n      <td>1.0</td>\n      <td>9</td>\n      <td>373.0</td>\n      <td>0.0</td>\n    </tr>\n    <tr>\n      <th>711</th>\n      <td>0.0</td>\n      <td>0.0</td>\n      <td>0.0</td>\n      <td>0.0</td>\n      <td>0.0</td>\n      <td>6.0</td>\n      <td>4.0</td>\n      <td>0.0</td>\n      <td>5.0</td>\n      <td>1.0</td>\n      <td>0.0</td>\n      <td>0.0</td>\n      <td>0.0</td>\n      <td>0.0</td>\n      <td>0.0</td>\n      <td>14.0</td>\n      <td>0.0</td>\n      <td>0.0</td>\n      <td>Luiz Henrique</td>\n      <td>109282</td>\n      <td>266</td>\n      <td>7</td>\n      <td>1.01</td>\n      <td>0.2</td>\n      <td>ata</td>\n      <td>1.50</td>\n      <td>Nulo</td>\n      <td>-0.48</td>\n      <td>2.0</td>\n      <td>1.0</td>\n      <td>9</td>\n      <td>262.0</td>\n      <td>0.0</td>\n    </tr>\n  </tbody>\n</table>\n</div>"
     },
     "metadata": {},
     "execution_count": 141
    }
   ],
   "source": [
    "pd.set_option('display.max_columns', None)\n",
    "df_jogadores.tail(30)"
   ]
  },
  {
   "source": [
    "<hr>"
   ],
   "cell_type": "markdown",
   "metadata": {}
  },
  {
   "source": [
    "### Análise por visualização dos dados"
   ],
   "cell_type": "markdown",
   "metadata": {}
  },
  {
   "source": [
    "### Correção e limpeza final dos dados\n",
    "    - Remover treinadores do dataset\n",
    "    - Remover atletas com pountuação zerada e contundido"
   ],
   "cell_type": "markdown",
   "metadata": {}
  },
  {
   "cell_type": "code",
   "execution_count": 145,
   "metadata": {},
   "outputs": [],
   "source": [
    "# Remover técnicos do dataset\n",
    "df_jogadores = df_jogadores[df_jogadores['atletas.posicao_id'] != 'tec']"
   ]
  },
  {
   "cell_type": "code",
   "execution_count": 146,
   "metadata": {},
   "outputs": [],
   "source": [
    "# Remover técnicos do dataset\n",
    "df_jogadores = df_jogadores[ (df_jogadores['atletas.pontos_num'] != 0) & (df_jogadores['atletas.status_id'] != 'Contundido')]"
   ]
  },
  {
   "cell_type": "code",
   "execution_count": 147,
   "metadata": {},
   "outputs": [
    {
     "output_type": "execute_result",
     "data": {
      "text/plain": "       A   CA   CV   DD   DP   DS   FC   FD   FF   FS   FT    G   GC   GS  \\\n11   0.0  0.0  0.0  2.0  0.0  0.0  0.0  0.0  0.0  1.0  0.0  0.0  0.0  1.0   \n110  0.0  0.0  1.0  3.0  0.0  0.0  0.0  0.0  0.0  2.0  0.0  0.0  0.0  4.0   \n128  0.0  0.0  1.0  3.0  0.0  0.0  0.0  0.0  0.0  2.0  0.0  0.0  0.0  5.0   \n28   0.0  0.0  1.0  3.0  0.0  0.0  0.0  0.0  0.0  2.0  0.0  0.0  0.0  6.0   \n681  0.0  0.0  1.0  6.0  0.0  0.0  0.0  0.0  0.0  2.0  0.0  0.0  0.0  6.0   \n\n       I    PI   PP   SG atletas.apelido  atletas.atleta_id  atletas.clube_id  \\\n11   0.0   9.0  0.0  0.0     Diego Alves              38509               262   \n110  0.0   9.0  0.0  0.0     Diego Alves              38509               262   \n128  0.0  13.0  0.0  0.0     Diego Alves              38509               262   \n28   0.0  14.0  0.0  0.0     Diego Alves              38509               262   \n681  0.0  19.0  0.0  1.0     Diego Alves              38509               262   \n\n     atletas.jogos_num  atletas.media_num  atletas.pontos_num  \\\n11                   1               5.60                 5.6   \n110                  2              -0.45                -6.5   \n128                  3              -1.10                -2.4   \n28                   4              -1.35                -2.1   \n681                  5               2.22                16.5   \n\n    atletas.posicao_id  atletas.preco_num atletas.status_id  \\\n11                 gol              14.21          Provável   \n110                gol               9.28          Suspenso   \n128                gol               7.33          Provável   \n28                 gol               6.58          Provável   \n681                gol              10.72            Dúvida   \n\n     atletas.variacao_num  golContra  golFavor  rodada_id  adversario  \\\n11                   0.21        1.0       0.0          1       282.0   \n110                 -4.93        3.0       0.0          2       373.0   \n128                 -1.95        1.0       1.0          4       284.0   \n28                  -0.75        1.0       1.0          5       263.0   \n681                  4.14        0.0       1.0          6       277.0   \n\n     jogoForaOuCasa  \n11              0.0  \n110             1.0  \n128             0.0  \n28              0.0  \n681             1.0  ",
      "text/html": "<div>\n<style scoped>\n    .dataframe tbody tr th:only-of-type {\n        vertical-align: middle;\n    }\n\n    .dataframe tbody tr th {\n        vertical-align: top;\n    }\n\n    .dataframe thead th {\n        text-align: right;\n    }\n</style>\n<table border=\"1\" class=\"dataframe\">\n  <thead>\n    <tr style=\"text-align: right;\">\n      <th></th>\n      <th>A</th>\n      <th>CA</th>\n      <th>CV</th>\n      <th>DD</th>\n      <th>DP</th>\n      <th>DS</th>\n      <th>FC</th>\n      <th>FD</th>\n      <th>FF</th>\n      <th>FS</th>\n      <th>FT</th>\n      <th>G</th>\n      <th>GC</th>\n      <th>GS</th>\n      <th>I</th>\n      <th>PI</th>\n      <th>PP</th>\n      <th>SG</th>\n      <th>atletas.apelido</th>\n      <th>atletas.atleta_id</th>\n      <th>atletas.clube_id</th>\n      <th>atletas.jogos_num</th>\n      <th>atletas.media_num</th>\n      <th>atletas.pontos_num</th>\n      <th>atletas.posicao_id</th>\n      <th>atletas.preco_num</th>\n      <th>atletas.status_id</th>\n      <th>atletas.variacao_num</th>\n      <th>golContra</th>\n      <th>golFavor</th>\n      <th>rodada_id</th>\n      <th>adversario</th>\n      <th>jogoForaOuCasa</th>\n    </tr>\n  </thead>\n  <tbody>\n    <tr>\n      <th>11</th>\n      <td>0.0</td>\n      <td>0.0</td>\n      <td>0.0</td>\n      <td>2.0</td>\n      <td>0.0</td>\n      <td>0.0</td>\n      <td>0.0</td>\n      <td>0.0</td>\n      <td>0.0</td>\n      <td>1.0</td>\n      <td>0.0</td>\n      <td>0.0</td>\n      <td>0.0</td>\n      <td>1.0</td>\n      <td>0.0</td>\n      <td>9.0</td>\n      <td>0.0</td>\n      <td>0.0</td>\n      <td>Diego Alves</td>\n      <td>38509</td>\n      <td>262</td>\n      <td>1</td>\n      <td>5.60</td>\n      <td>5.6</td>\n      <td>gol</td>\n      <td>14.21</td>\n      <td>Provável</td>\n      <td>0.21</td>\n      <td>1.0</td>\n      <td>0.0</td>\n      <td>1</td>\n      <td>282.0</td>\n      <td>0.0</td>\n    </tr>\n    <tr>\n      <th>110</th>\n      <td>0.0</td>\n      <td>0.0</td>\n      <td>1.0</td>\n      <td>3.0</td>\n      <td>0.0</td>\n      <td>0.0</td>\n      <td>0.0</td>\n      <td>0.0</td>\n      <td>0.0</td>\n      <td>2.0</td>\n      <td>0.0</td>\n      <td>0.0</td>\n      <td>0.0</td>\n      <td>4.0</td>\n      <td>0.0</td>\n      <td>9.0</td>\n      <td>0.0</td>\n      <td>0.0</td>\n      <td>Diego Alves</td>\n      <td>38509</td>\n      <td>262</td>\n      <td>2</td>\n      <td>-0.45</td>\n      <td>-6.5</td>\n      <td>gol</td>\n      <td>9.28</td>\n      <td>Suspenso</td>\n      <td>-4.93</td>\n      <td>3.0</td>\n      <td>0.0</td>\n      <td>2</td>\n      <td>373.0</td>\n      <td>1.0</td>\n    </tr>\n    <tr>\n      <th>128</th>\n      <td>0.0</td>\n      <td>0.0</td>\n      <td>1.0</td>\n      <td>3.0</td>\n      <td>0.0</td>\n      <td>0.0</td>\n      <td>0.0</td>\n      <td>0.0</td>\n      <td>0.0</td>\n      <td>2.0</td>\n      <td>0.0</td>\n      <td>0.0</td>\n      <td>0.0</td>\n      <td>5.0</td>\n      <td>0.0</td>\n      <td>13.0</td>\n      <td>0.0</td>\n      <td>0.0</td>\n      <td>Diego Alves</td>\n      <td>38509</td>\n      <td>262</td>\n      <td>3</td>\n      <td>-1.10</td>\n      <td>-2.4</td>\n      <td>gol</td>\n      <td>7.33</td>\n      <td>Provável</td>\n      <td>-1.95</td>\n      <td>1.0</td>\n      <td>1.0</td>\n      <td>4</td>\n      <td>284.0</td>\n      <td>0.0</td>\n    </tr>\n    <tr>\n      <th>28</th>\n      <td>0.0</td>\n      <td>0.0</td>\n      <td>1.0</td>\n      <td>3.0</td>\n      <td>0.0</td>\n      <td>0.0</td>\n      <td>0.0</td>\n      <td>0.0</td>\n      <td>0.0</td>\n      <td>2.0</td>\n      <td>0.0</td>\n      <td>0.0</td>\n      <td>0.0</td>\n      <td>6.0</td>\n      <td>0.0</td>\n      <td>14.0</td>\n      <td>0.0</td>\n      <td>0.0</td>\n      <td>Diego Alves</td>\n      <td>38509</td>\n      <td>262</td>\n      <td>4</td>\n      <td>-1.35</td>\n      <td>-2.1</td>\n      <td>gol</td>\n      <td>6.58</td>\n      <td>Provável</td>\n      <td>-0.75</td>\n      <td>1.0</td>\n      <td>1.0</td>\n      <td>5</td>\n      <td>263.0</td>\n      <td>0.0</td>\n    </tr>\n    <tr>\n      <th>681</th>\n      <td>0.0</td>\n      <td>0.0</td>\n      <td>1.0</td>\n      <td>6.0</td>\n      <td>0.0</td>\n      <td>0.0</td>\n      <td>0.0</td>\n      <td>0.0</td>\n      <td>0.0</td>\n      <td>2.0</td>\n      <td>0.0</td>\n      <td>0.0</td>\n      <td>0.0</td>\n      <td>6.0</td>\n      <td>0.0</td>\n      <td>19.0</td>\n      <td>0.0</td>\n      <td>1.0</td>\n      <td>Diego Alves</td>\n      <td>38509</td>\n      <td>262</td>\n      <td>5</td>\n      <td>2.22</td>\n      <td>16.5</td>\n      <td>gol</td>\n      <td>10.72</td>\n      <td>Dúvida</td>\n      <td>4.14</td>\n      <td>0.0</td>\n      <td>1.0</td>\n      <td>6</td>\n      <td>277.0</td>\n      <td>1.0</td>\n    </tr>\n  </tbody>\n</table>\n</div>"
     },
     "metadata": {},
     "execution_count": 147
    }
   ],
   "source": [
    "df_jogadores[(df_jogadores['atletas.clube_id'] == 262) & (df_jogadores['atletas.atleta_id'] == 38509)]"
   ]
  },
  {
   "cell_type": "markdown",
   "metadata": {},
   "source": [
    "<hr>"
   ]
  },
  {
   "cell_type": "markdown",
   "metadata": {},
   "source": [
    "### Ajuste do DataFrame de Teste"
   ]
  },
  {
   "cell_type": "code",
   "execution_count": 197,
   "metadata": {},
   "outputs": [
    {
     "output_type": "execute_result",
     "data": {
      "text/plain": "        LAT     LONG  Original_473  Original_269  Zero  Maçã-Verde  Tangerina  \\\n0  -23.5489 -46.6388            22            65    22          14          3   \n1  -23.5489 -46.6388            11            56    16          14         43   \n2  -23.5489 -46.6388            86            51     8          11         41   \n3  -23.5489 -46.6388            76            47    65          11         37   \n4  -23.5489 -46.6388            68            42    60           6         35   \n5  -23.5489 -46.6388            57            35    55          43         31   \n6  -23.5489 -46.6388            45            33    50          39         25   \n7  -23.5489 -46.6388            34            28    41          39         22   \n8  -23.5489 -46.6388            22            24    31          35         18   \n9  -23.5489 -46.6388             9            16    26          33         13   \n10 -23.5489 -46.6388            86            12    22          29          8   \n11 -23.5489 -46.6388            75            10    12          25          2   \n12 -23.5489 -46.6388            67             0     3          21         43   \n13 -23.5489 -46.6388            59            65    65          20         38   \n14 -23.5489 -46.6388            50            63    56          18         32   \n15 -23.5489 -46.6388            39            59    48          12         30   \n16 -23.5489 -46.6388            26            50    44           7         27   \n17 -23.5489 -46.6388            15            45    39           3         25   \n18 -23.5489 -46.6388             7            35    31          43         21   \n19 -23.5489 -46.6388            86            27    21          39         17   \n20 -23.5489 -46.6388            78            17    11          35         11   \n21 -23.5489 -46.6388            65            12     7          34          9   \n22 -23.5489 -46.6388            57             3    65          28          4   \n23 -23.5489 -46.6388            47            65    55          24         43   \n24 -23.5489 -46.6388            37            62    46          21         40   \n25 -23.5489 -46.6388            28            60    37          15         36   \n26 -23.5489 -46.6388            16            52    30          10         31   \n27 -23.5489 -46.6388             8            43    25          10         29   \n28 -23.5489 -46.6388            86            39    19           4         24   \n29 -23.5489 -46.6388            78            33     9          43         20   \n30 -23.5489 -46.6388            67            27    65          43         17   \n31 -23.5489 -46.6388            57            21    61          43         12   \n32 -23.5489 -46.6388            45            17    57          38          9   \n33 -23.5489 -46.6388            34            15    53          32          5   \n34 -23.5489 -46.6388            23            13    45          31         43   \n35 -23.5489 -46.6388            10             6    39          26         39   \n36 -23.5489 -46.6388            86            65    35          25         35   \n37 -23.5489 -46.6388            74            56    25          25         33   \n38 -23.5489 -46.6388            63            50    16          24         30   \n39 -23.5489 -46.6388            54            40    11          20         28   \n40 -23.5489 -46.6388            47            38     2          20         23   \n41 -23.5489 -46.6388            35            32    65          18         20   \n42 -23.5489 -46.6388            28            25    59          18         14   \n43 -23.5489 -46.6388            21            18    52          14          9   \n44 -23.5489 -46.6388             8            14    43           9          6   \n45 -23.5489 -46.6388            86             5    34           5         43   \n46 -23.5489 -46.6388            79            65    28          43         37   \n47 -23.5489 -46.6388            70            61    20          38         35   \n48 -23.5489 -46.6388            62            51    16          36         33   \n49 -23.5489 -46.6388            49            41    11          34         30   \n\n    Citrus  Açaí-Guaraná  Pêssego  total_un  \n0       26            43       18       213  \n1       20            37       15       212  \n2       20            35       12       264  \n3       14            32       10       292  \n4       13            26        5       255  \n5        9            22       43       295  \n6        5            16       39       252  \n7       43            13       34       254  \n8       40             8       29       207  \n9       38             4       24       163  \n10      37            43       20       257  \n11      35            39       14       212  \n12      34            33        9       210  \n13      34            27        3       311  \n14      34            25       43       321  \n15      30            20       37       275  \n16      30            14       34       232  \n17      25             8       29       189  \n18      20             2       27       186  \n19      19            43       21       273  \n20      17            38       19       226  \n21      16            32       14       189  \n22      13            30       10       210  \n23      12            25        4       275  \n24       9            21       43       279  \n25       9            16       39       240  \n26       4            12       33       188  \n27      43             9       29       196  \n28      41             3       24       240  \n29      36            43       21       283  \n30      33            37       18       307  \n31      33            31       16       274  \n32      29            27       10       232  \n33      29            21        6       195  \n34      25            15       43       238  \n35      24            13       38       195  \n36      22             7       36       311  \n37      21             3       30       267  \n38      15            43       24       265  \n39      12            40       21       226  \n40       6            36       18       190  \n41      43            34       12       259  \n42      40            28        8       220  \n43      36            24        5       179  \n44      32            21       43       176  \n45      30            18       40       261  \n46      29            12       34       327  \n47      26            10       30       290  \n48      26             6       28       258  \n49      26            43       22       256  ",
      "text/html": "<div>\n<style scoped>\n    .dataframe tbody tr th:only-of-type {\n        vertical-align: middle;\n    }\n\n    .dataframe tbody tr th {\n        vertical-align: top;\n    }\n\n    .dataframe thead th {\n        text-align: right;\n    }\n</style>\n<table border=\"1\" class=\"dataframe\">\n  <thead>\n    <tr style=\"text-align: right;\">\n      <th></th>\n      <th>LAT</th>\n      <th>LONG</th>\n      <th>Original_473</th>\n      <th>Original_269</th>\n      <th>Zero</th>\n      <th>Maçã-Verde</th>\n      <th>Tangerina</th>\n      <th>Citrus</th>\n      <th>Açaí-Guaraná</th>\n      <th>Pêssego</th>\n      <th>total_un</th>\n    </tr>\n  </thead>\n  <tbody>\n    <tr>\n      <th>0</th>\n      <td>-23.5489</td>\n      <td>-46.6388</td>\n      <td>22</td>\n      <td>65</td>\n      <td>22</td>\n      <td>14</td>\n      <td>3</td>\n      <td>26</td>\n      <td>43</td>\n      <td>18</td>\n      <td>213</td>\n    </tr>\n    <tr>\n      <th>1</th>\n      <td>-23.5489</td>\n      <td>-46.6388</td>\n      <td>11</td>\n      <td>56</td>\n      <td>16</td>\n      <td>14</td>\n      <td>43</td>\n      <td>20</td>\n      <td>37</td>\n      <td>15</td>\n      <td>212</td>\n    </tr>\n    <tr>\n      <th>2</th>\n      <td>-23.5489</td>\n      <td>-46.6388</td>\n      <td>86</td>\n      <td>51</td>\n      <td>8</td>\n      <td>11</td>\n      <td>41</td>\n      <td>20</td>\n      <td>35</td>\n      <td>12</td>\n      <td>264</td>\n    </tr>\n    <tr>\n      <th>3</th>\n      <td>-23.5489</td>\n      <td>-46.6388</td>\n      <td>76</td>\n      <td>47</td>\n      <td>65</td>\n      <td>11</td>\n      <td>37</td>\n      <td>14</td>\n      <td>32</td>\n      <td>10</td>\n      <td>292</td>\n    </tr>\n    <tr>\n      <th>4</th>\n      <td>-23.5489</td>\n      <td>-46.6388</td>\n      <td>68</td>\n      <td>42</td>\n      <td>60</td>\n      <td>6</td>\n      <td>35</td>\n      <td>13</td>\n      <td>26</td>\n      <td>5</td>\n      <td>255</td>\n    </tr>\n    <tr>\n      <th>5</th>\n      <td>-23.5489</td>\n      <td>-46.6388</td>\n      <td>57</td>\n      <td>35</td>\n      <td>55</td>\n      <td>43</td>\n      <td>31</td>\n      <td>9</td>\n      <td>22</td>\n      <td>43</td>\n      <td>295</td>\n    </tr>\n    <tr>\n      <th>6</th>\n      <td>-23.5489</td>\n      <td>-46.6388</td>\n      <td>45</td>\n      <td>33</td>\n      <td>50</td>\n      <td>39</td>\n      <td>25</td>\n      <td>5</td>\n      <td>16</td>\n      <td>39</td>\n      <td>252</td>\n    </tr>\n    <tr>\n      <th>7</th>\n      <td>-23.5489</td>\n      <td>-46.6388</td>\n      <td>34</td>\n      <td>28</td>\n      <td>41</td>\n      <td>39</td>\n      <td>22</td>\n      <td>43</td>\n      <td>13</td>\n      <td>34</td>\n      <td>254</td>\n    </tr>\n    <tr>\n      <th>8</th>\n      <td>-23.5489</td>\n      <td>-46.6388</td>\n      <td>22</td>\n      <td>24</td>\n      <td>31</td>\n      <td>35</td>\n      <td>18</td>\n      <td>40</td>\n      <td>8</td>\n      <td>29</td>\n      <td>207</td>\n    </tr>\n    <tr>\n      <th>9</th>\n      <td>-23.5489</td>\n      <td>-46.6388</td>\n      <td>9</td>\n      <td>16</td>\n      <td>26</td>\n      <td>33</td>\n      <td>13</td>\n      <td>38</td>\n      <td>4</td>\n      <td>24</td>\n      <td>163</td>\n    </tr>\n    <tr>\n      <th>10</th>\n      <td>-23.5489</td>\n      <td>-46.6388</td>\n      <td>86</td>\n      <td>12</td>\n      <td>22</td>\n      <td>29</td>\n      <td>8</td>\n      <td>37</td>\n      <td>43</td>\n      <td>20</td>\n      <td>257</td>\n    </tr>\n    <tr>\n      <th>11</th>\n      <td>-23.5489</td>\n      <td>-46.6388</td>\n      <td>75</td>\n      <td>10</td>\n      <td>12</td>\n      <td>25</td>\n      <td>2</td>\n      <td>35</td>\n      <td>39</td>\n      <td>14</td>\n      <td>212</td>\n    </tr>\n    <tr>\n      <th>12</th>\n      <td>-23.5489</td>\n      <td>-46.6388</td>\n      <td>67</td>\n      <td>0</td>\n      <td>3</td>\n      <td>21</td>\n      <td>43</td>\n      <td>34</td>\n      <td>33</td>\n      <td>9</td>\n      <td>210</td>\n    </tr>\n    <tr>\n      <th>13</th>\n      <td>-23.5489</td>\n      <td>-46.6388</td>\n      <td>59</td>\n      <td>65</td>\n      <td>65</td>\n      <td>20</td>\n      <td>38</td>\n      <td>34</td>\n      <td>27</td>\n      <td>3</td>\n      <td>311</td>\n    </tr>\n    <tr>\n      <th>14</th>\n      <td>-23.5489</td>\n      <td>-46.6388</td>\n      <td>50</td>\n      <td>63</td>\n      <td>56</td>\n      <td>18</td>\n      <td>32</td>\n      <td>34</td>\n      <td>25</td>\n      <td>43</td>\n      <td>321</td>\n    </tr>\n    <tr>\n      <th>15</th>\n      <td>-23.5489</td>\n      <td>-46.6388</td>\n      <td>39</td>\n      <td>59</td>\n      <td>48</td>\n      <td>12</td>\n      <td>30</td>\n      <td>30</td>\n      <td>20</td>\n      <td>37</td>\n      <td>275</td>\n    </tr>\n    <tr>\n      <th>16</th>\n      <td>-23.5489</td>\n      <td>-46.6388</td>\n      <td>26</td>\n      <td>50</td>\n      <td>44</td>\n      <td>7</td>\n      <td>27</td>\n      <td>30</td>\n      <td>14</td>\n      <td>34</td>\n      <td>232</td>\n    </tr>\n    <tr>\n      <th>17</th>\n      <td>-23.5489</td>\n      <td>-46.6388</td>\n      <td>15</td>\n      <td>45</td>\n      <td>39</td>\n      <td>3</td>\n      <td>25</td>\n      <td>25</td>\n      <td>8</td>\n      <td>29</td>\n      <td>189</td>\n    </tr>\n    <tr>\n      <th>18</th>\n      <td>-23.5489</td>\n      <td>-46.6388</td>\n      <td>7</td>\n      <td>35</td>\n      <td>31</td>\n      <td>43</td>\n      <td>21</td>\n      <td>20</td>\n      <td>2</td>\n      <td>27</td>\n      <td>186</td>\n    </tr>\n    <tr>\n      <th>19</th>\n      <td>-23.5489</td>\n      <td>-46.6388</td>\n      <td>86</td>\n      <td>27</td>\n      <td>21</td>\n      <td>39</td>\n      <td>17</td>\n      <td>19</td>\n      <td>43</td>\n      <td>21</td>\n      <td>273</td>\n    </tr>\n    <tr>\n      <th>20</th>\n      <td>-23.5489</td>\n      <td>-46.6388</td>\n      <td>78</td>\n      <td>17</td>\n      <td>11</td>\n      <td>35</td>\n      <td>11</td>\n      <td>17</td>\n      <td>38</td>\n      <td>19</td>\n      <td>226</td>\n    </tr>\n    <tr>\n      <th>21</th>\n      <td>-23.5489</td>\n      <td>-46.6388</td>\n      <td>65</td>\n      <td>12</td>\n      <td>7</td>\n      <td>34</td>\n      <td>9</td>\n      <td>16</td>\n      <td>32</td>\n      <td>14</td>\n      <td>189</td>\n    </tr>\n    <tr>\n      <th>22</th>\n      <td>-23.5489</td>\n      <td>-46.6388</td>\n      <td>57</td>\n      <td>3</td>\n      <td>65</td>\n      <td>28</td>\n      <td>4</td>\n      <td>13</td>\n      <td>30</td>\n      <td>10</td>\n      <td>210</td>\n    </tr>\n    <tr>\n      <th>23</th>\n      <td>-23.5489</td>\n      <td>-46.6388</td>\n      <td>47</td>\n      <td>65</td>\n      <td>55</td>\n      <td>24</td>\n      <td>43</td>\n      <td>12</td>\n      <td>25</td>\n      <td>4</td>\n      <td>275</td>\n    </tr>\n    <tr>\n      <th>24</th>\n      <td>-23.5489</td>\n      <td>-46.6388</td>\n      <td>37</td>\n      <td>62</td>\n      <td>46</td>\n      <td>21</td>\n      <td>40</td>\n      <td>9</td>\n      <td>21</td>\n      <td>43</td>\n      <td>279</td>\n    </tr>\n    <tr>\n      <th>25</th>\n      <td>-23.5489</td>\n      <td>-46.6388</td>\n      <td>28</td>\n      <td>60</td>\n      <td>37</td>\n      <td>15</td>\n      <td>36</td>\n      <td>9</td>\n      <td>16</td>\n      <td>39</td>\n      <td>240</td>\n    </tr>\n    <tr>\n      <th>26</th>\n      <td>-23.5489</td>\n      <td>-46.6388</td>\n      <td>16</td>\n      <td>52</td>\n      <td>30</td>\n      <td>10</td>\n      <td>31</td>\n      <td>4</td>\n      <td>12</td>\n      <td>33</td>\n      <td>188</td>\n    </tr>\n    <tr>\n      <th>27</th>\n      <td>-23.5489</td>\n      <td>-46.6388</td>\n      <td>8</td>\n      <td>43</td>\n      <td>25</td>\n      <td>10</td>\n      <td>29</td>\n      <td>43</td>\n      <td>9</td>\n      <td>29</td>\n      <td>196</td>\n    </tr>\n    <tr>\n      <th>28</th>\n      <td>-23.5489</td>\n      <td>-46.6388</td>\n      <td>86</td>\n      <td>39</td>\n      <td>19</td>\n      <td>4</td>\n      <td>24</td>\n      <td>41</td>\n      <td>3</td>\n      <td>24</td>\n      <td>240</td>\n    </tr>\n    <tr>\n      <th>29</th>\n      <td>-23.5489</td>\n      <td>-46.6388</td>\n      <td>78</td>\n      <td>33</td>\n      <td>9</td>\n      <td>43</td>\n      <td>20</td>\n      <td>36</td>\n      <td>43</td>\n      <td>21</td>\n      <td>283</td>\n    </tr>\n    <tr>\n      <th>30</th>\n      <td>-23.5489</td>\n      <td>-46.6388</td>\n      <td>67</td>\n      <td>27</td>\n      <td>65</td>\n      <td>43</td>\n      <td>17</td>\n      <td>33</td>\n      <td>37</td>\n      <td>18</td>\n      <td>307</td>\n    </tr>\n    <tr>\n      <th>31</th>\n      <td>-23.5489</td>\n      <td>-46.6388</td>\n      <td>57</td>\n      <td>21</td>\n      <td>61</td>\n      <td>43</td>\n      <td>12</td>\n      <td>33</td>\n      <td>31</td>\n      <td>16</td>\n      <td>274</td>\n    </tr>\n    <tr>\n      <th>32</th>\n      <td>-23.5489</td>\n      <td>-46.6388</td>\n      <td>45</td>\n      <td>17</td>\n      <td>57</td>\n      <td>38</td>\n      <td>9</td>\n      <td>29</td>\n      <td>27</td>\n      <td>10</td>\n      <td>232</td>\n    </tr>\n    <tr>\n      <th>33</th>\n      <td>-23.5489</td>\n      <td>-46.6388</td>\n      <td>34</td>\n      <td>15</td>\n      <td>53</td>\n      <td>32</td>\n      <td>5</td>\n      <td>29</td>\n      <td>21</td>\n      <td>6</td>\n      <td>195</td>\n    </tr>\n    <tr>\n      <th>34</th>\n      <td>-23.5489</td>\n      <td>-46.6388</td>\n      <td>23</td>\n      <td>13</td>\n      <td>45</td>\n      <td>31</td>\n      <td>43</td>\n      <td>25</td>\n      <td>15</td>\n      <td>43</td>\n      <td>238</td>\n    </tr>\n    <tr>\n      <th>35</th>\n      <td>-23.5489</td>\n      <td>-46.6388</td>\n      <td>10</td>\n      <td>6</td>\n      <td>39</td>\n      <td>26</td>\n      <td>39</td>\n      <td>24</td>\n      <td>13</td>\n      <td>38</td>\n      <td>195</td>\n    </tr>\n    <tr>\n      <th>36</th>\n      <td>-23.5489</td>\n      <td>-46.6388</td>\n      <td>86</td>\n      <td>65</td>\n      <td>35</td>\n      <td>25</td>\n      <td>35</td>\n      <td>22</td>\n      <td>7</td>\n      <td>36</td>\n      <td>311</td>\n    </tr>\n    <tr>\n      <th>37</th>\n      <td>-23.5489</td>\n      <td>-46.6388</td>\n      <td>74</td>\n      <td>56</td>\n      <td>25</td>\n      <td>25</td>\n      <td>33</td>\n      <td>21</td>\n      <td>3</td>\n      <td>30</td>\n      <td>267</td>\n    </tr>\n    <tr>\n      <th>38</th>\n      <td>-23.5489</td>\n      <td>-46.6388</td>\n      <td>63</td>\n      <td>50</td>\n      <td>16</td>\n      <td>24</td>\n      <td>30</td>\n      <td>15</td>\n      <td>43</td>\n      <td>24</td>\n      <td>265</td>\n    </tr>\n    <tr>\n      <th>39</th>\n      <td>-23.5489</td>\n      <td>-46.6388</td>\n      <td>54</td>\n      <td>40</td>\n      <td>11</td>\n      <td>20</td>\n      <td>28</td>\n      <td>12</td>\n      <td>40</td>\n      <td>21</td>\n      <td>226</td>\n    </tr>\n    <tr>\n      <th>40</th>\n      <td>-23.5489</td>\n      <td>-46.6388</td>\n      <td>47</td>\n      <td>38</td>\n      <td>2</td>\n      <td>20</td>\n      <td>23</td>\n      <td>6</td>\n      <td>36</td>\n      <td>18</td>\n      <td>190</td>\n    </tr>\n    <tr>\n      <th>41</th>\n      <td>-23.5489</td>\n      <td>-46.6388</td>\n      <td>35</td>\n      <td>32</td>\n      <td>65</td>\n      <td>18</td>\n      <td>20</td>\n      <td>43</td>\n      <td>34</td>\n      <td>12</td>\n      <td>259</td>\n    </tr>\n    <tr>\n      <th>42</th>\n      <td>-23.5489</td>\n      <td>-46.6388</td>\n      <td>28</td>\n      <td>25</td>\n      <td>59</td>\n      <td>18</td>\n      <td>14</td>\n      <td>40</td>\n      <td>28</td>\n      <td>8</td>\n      <td>220</td>\n    </tr>\n    <tr>\n      <th>43</th>\n      <td>-23.5489</td>\n      <td>-46.6388</td>\n      <td>21</td>\n      <td>18</td>\n      <td>52</td>\n      <td>14</td>\n      <td>9</td>\n      <td>36</td>\n      <td>24</td>\n      <td>5</td>\n      <td>179</td>\n    </tr>\n    <tr>\n      <th>44</th>\n      <td>-23.5489</td>\n      <td>-46.6388</td>\n      <td>8</td>\n      <td>14</td>\n      <td>43</td>\n      <td>9</td>\n      <td>6</td>\n      <td>32</td>\n      <td>21</td>\n      <td>43</td>\n      <td>176</td>\n    </tr>\n    <tr>\n      <th>45</th>\n      <td>-23.5489</td>\n      <td>-46.6388</td>\n      <td>86</td>\n      <td>5</td>\n      <td>34</td>\n      <td>5</td>\n      <td>43</td>\n      <td>30</td>\n      <td>18</td>\n      <td>40</td>\n      <td>261</td>\n    </tr>\n    <tr>\n      <th>46</th>\n      <td>-23.5489</td>\n      <td>-46.6388</td>\n      <td>79</td>\n      <td>65</td>\n      <td>28</td>\n      <td>43</td>\n      <td>37</td>\n      <td>29</td>\n      <td>12</td>\n      <td>34</td>\n      <td>327</td>\n    </tr>\n    <tr>\n      <th>47</th>\n      <td>-23.5489</td>\n      <td>-46.6388</td>\n      <td>70</td>\n      <td>61</td>\n      <td>20</td>\n      <td>38</td>\n      <td>35</td>\n      <td>26</td>\n      <td>10</td>\n      <td>30</td>\n      <td>290</td>\n    </tr>\n    <tr>\n      <th>48</th>\n      <td>-23.5489</td>\n      <td>-46.6388</td>\n      <td>62</td>\n      <td>51</td>\n      <td>16</td>\n      <td>36</td>\n      <td>33</td>\n      <td>26</td>\n      <td>6</td>\n      <td>28</td>\n      <td>258</td>\n    </tr>\n    <tr>\n      <th>49</th>\n      <td>-23.5489</td>\n      <td>-46.6388</td>\n      <td>49</td>\n      <td>41</td>\n      <td>11</td>\n      <td>34</td>\n      <td>30</td>\n      <td>26</td>\n      <td>43</td>\n      <td>22</td>\n      <td>256</td>\n    </tr>\n  </tbody>\n</table>\n</div>"
     },
     "metadata": {},
     "execution_count": 197
    }
   ],
   "source": [
    "#total geral de unidades por linha\n",
    "df_teste['total_un'] = df_teste.apply(lambda x: (x['Original_473'] + x['Original_269'] + x['Zero'] + x['Maçã-Verde'] + x['Tangerina'] + x['Citrus'] + x['Açaí-Guaraná'] + x['Pêssego'] ), axis=1)\n",
    "df_teste = df_teste.drop(['Tempo', 'Estação', 'Movimentação'],  axis=1)\n",
    "df_teste.head(50)\n"
   ]
  },
  {
   "cell_type": "code",
   "execution_count": 198,
   "metadata": {},
   "outputs": [],
   "source": [
    "X_train = df.drop(\"TARGET\", axis=1)\n",
    "Y_train = df[\"TARGET\"]\n",
    "X_test = df_teste"
   ]
  },
  {
   "cell_type": "code",
   "execution_count": 200,
   "metadata": {},
   "outputs": [],
   "source": [
    "#Balanceamento das classes com menos registros no dataset treino\n",
    "smt = SMOTE()\n",
    "X_train, Y_train = smt.fit_sample(X_train,Y_train)"
   ]
  },
  {
   "cell_type": "code",
   "execution_count": 201,
   "metadata": {},
   "outputs": [],
   "source": [
    "#Normalização dos dados\n",
    "sc = StandardScaler()\n",
    "X_train = sc.fit_transform(X_train)\n",
    "X_test = sc.transform(X_test)\n"
   ]
  },
  {
   "cell_type": "markdown",
   "metadata": {},
   "source": [
    "### Treinando um classificador com base em no modelo Random Forest"
   ]
  },
  {
   "cell_type": "code",
   "execution_count": 212,
   "metadata": {
    "tags": []
   },
   "outputs": [],
   "source": [
    "#Algorítomo Machine Learning \n",
    "random_forest = RandomForestClassifier(n_estimators=80, max_depth=11, max_features=5, bootstrap=True, min_samples_leaf=3, min_samples_split=7)\n",
    "random_forest.fit(X_train, Y_train)\n",
    "Y_pred = random_forest.predict(X_test)\n",
    "\n",
    "#importantes = pd.DataFrame(random_forest.feature_importances_, index= X_train.columns, columns=['importance']).sort_values('importance', ascending=False)\n",
    "#importantes\n",
    "# Acurácia alcançada pela árvore de decisão\n",
    "#print(\"Acurácia: {}%\".format(100*round(accuracy_score(y_test, Y_pred), 2)))"
   ]
  },
  {
   "cell_type": "code",
   "execution_count": 213,
   "metadata": {
    "tags": []
   },
   "outputs": [
    {
     "output_type": "execute_result",
     "data": {
      "text/plain": "96.04"
     },
     "metadata": {},
     "execution_count": 213
    }
   ],
   "source": [
    "# Acurácia alcançada pela árvore de decisão\n",
    "round(random_forest.score(X_train, Y_train) * 100, 2)"
   ]
  },
  {
   "cell_type": "markdown",
   "metadata": {},
   "source": [
    "### Submissão"
   ]
  },
  {
   "cell_type": "code",
   "execution_count": 210,
   "metadata": {},
   "outputs": [
    {
     "output_type": "execute_result",
     "data": {
      "text/plain": "        LAT     LONG  Original_473  Original_269  Zero  Maçã-Verde  Tangerina  \\\n0  -23.5489 -46.6388            22            65    22          14          3   \n1  -23.5489 -46.6388            11            56    16          14         43   \n2  -23.5489 -46.6388            86            51     8          11         41   \n3  -23.5489 -46.6388            76            47    65          11         37   \n4  -23.5489 -46.6388            68            42    60           6         35   \n5  -23.5489 -46.6388            57            35    55          43         31   \n6  -23.5489 -46.6388            45            33    50          39         25   \n7  -23.5489 -46.6388            34            28    41          39         22   \n8  -23.5489 -46.6388            22            24    31          35         18   \n9  -23.5489 -46.6388             9            16    26          33         13   \n10 -23.5489 -46.6388            86            12    22          29          8   \n11 -23.5489 -46.6388            75            10    12          25          2   \n12 -23.5489 -46.6388            67             0     3          21         43   \n13 -23.5489 -46.6388            59            65    65          20         38   \n14 -23.5489 -46.6388            50            63    56          18         32   \n15 -23.5489 -46.6388            39            59    48          12         30   \n16 -23.5489 -46.6388            26            50    44           7         27   \n17 -23.5489 -46.6388            15            45    39           3         25   \n18 -23.5489 -46.6388             7            35    31          43         21   \n19 -23.5489 -46.6388            86            27    21          39         17   \n20 -23.5489 -46.6388            78            17    11          35         11   \n21 -23.5489 -46.6388            65            12     7          34          9   \n22 -23.5489 -46.6388            57             3    65          28          4   \n23 -23.5489 -46.6388            47            65    55          24         43   \n24 -23.5489 -46.6388            37            62    46          21         40   \n25 -23.5489 -46.6388            28            60    37          15         36   \n26 -23.5489 -46.6388            16            52    30          10         31   \n27 -23.5489 -46.6388             8            43    25          10         29   \n28 -23.5489 -46.6388            86            39    19           4         24   \n29 -23.5489 -46.6388            78            33     9          43         20   \n30 -23.5489 -46.6388            67            27    65          43         17   \n31 -23.5489 -46.6388            57            21    61          43         12   \n32 -23.5489 -46.6388            45            17    57          38          9   \n33 -23.5489 -46.6388            34            15    53          32          5   \n34 -23.5489 -46.6388            23            13    45          31         43   \n35 -23.5489 -46.6388            10             6    39          26         39   \n36 -23.5489 -46.6388            86            65    35          25         35   \n37 -23.5489 -46.6388            74            56    25          25         33   \n38 -23.5489 -46.6388            63            50    16          24         30   \n39 -23.5489 -46.6388            54            40    11          20         28   \n40 -23.5489 -46.6388            47            38     2          20         23   \n41 -23.5489 -46.6388            35            32    65          18         20   \n42 -23.5489 -46.6388            28            25    59          18         14   \n43 -23.5489 -46.6388            21            18    52          14          9   \n44 -23.5489 -46.6388             8            14    43           9          6   \n45 -23.5489 -46.6388            86             5    34           5         43   \n46 -23.5489 -46.6388            79            65    28          43         37   \n47 -23.5489 -46.6388            70            61    20          38         35   \n48 -23.5489 -46.6388            62            51    16          36         33   \n49 -23.5489 -46.6388            49            41    11          34         30   \n\n    Citrus  Açaí-Guaraná  Pêssego  total_un       TARGET  \n0       26            43       18       213  REABASTECER  \n1       20            37       15       212  REABASTECER  \n2       20            35       12       264  REABASTECER  \n3       14            32       10       292       NORMAL  \n4       13            26        5       255  REABASTECER  \n5        9            22       43       295       NORMAL  \n6        5            16       39       252  REABASTECER  \n7       43            13       34       254       NORMAL  \n8       40             8       29       207       NORMAL  \n9       38             4       24       163  REABASTECER  \n10      37            43       20       257       NORMAL  \n11      35            39       14       212  REABASTECER  \n12      34            33        9       210  REABASTECER  \n13      34            27        3       311  REABASTECER  \n14      34            25       43       321       NORMAL  \n15      30            20       37       275       NORMAL  \n16      30            14       34       232       NORMAL  \n17      25             8       29       189  REABASTECER  \n18      20             2       27       186  REABASTECER  \n19      19            43       21       273       NORMAL  \n20      17            38       19       226       NORMAL  \n21      16            32       14       189  REABASTECER  \n22      13            30       10       210  REABASTECER  \n23      12            25        4       275  REABASTECER  \n24       9            21       43       279       NORMAL  \n25       9            16       39       240       NORMAL  \n26       4            12       33       188  REABASTECER  \n27      43             9       29       196  REABASTECER  \n28      41             3       24       240  REABASTECER  \n29      36            43       21       283  REABASTECER  \n30      33            37       18       307       NORMAL  \n31      33            31       16       274       NORMAL  \n32      29            27       10       232       NORMAL  \n33      29            21        6       195  REABASTECER  \n34      25            15       43       238       NORMAL  \n35      24            13       38       195  REABASTECER  \n36      22             7       36       311       NORMAL  \n37      21             3       30       267  REABASTECER  \n38      15            43       24       265       NORMAL  \n39      12            40       21       226       NORMAL  \n40       6            36       18       190  REABASTECER  \n41      43            34       12       259       NORMAL  \n42      40            28        8       220       NORMAL  \n43      36            24        5       179  REABASTECER  \n44      32            21       43       176  REABASTECER  \n45      30            18       40       261  REABASTECER  \n46      29            12       34       327       NORMAL  \n47      26            10       30       290       NORMAL  \n48      26             6       28       258  REABASTECER  \n49      26            43       22       256       NORMAL  ",
      "text/html": "<div>\n<style scoped>\n    .dataframe tbody tr th:only-of-type {\n        vertical-align: middle;\n    }\n\n    .dataframe tbody tr th {\n        vertical-align: top;\n    }\n\n    .dataframe thead th {\n        text-align: right;\n    }\n</style>\n<table border=\"1\" class=\"dataframe\">\n  <thead>\n    <tr style=\"text-align: right;\">\n      <th></th>\n      <th>LAT</th>\n      <th>LONG</th>\n      <th>Original_473</th>\n      <th>Original_269</th>\n      <th>Zero</th>\n      <th>Maçã-Verde</th>\n      <th>Tangerina</th>\n      <th>Citrus</th>\n      <th>Açaí-Guaraná</th>\n      <th>Pêssego</th>\n      <th>total_un</th>\n      <th>TARGET</th>\n    </tr>\n  </thead>\n  <tbody>\n    <tr>\n      <th>0</th>\n      <td>-23.5489</td>\n      <td>-46.6388</td>\n      <td>22</td>\n      <td>65</td>\n      <td>22</td>\n      <td>14</td>\n      <td>3</td>\n      <td>26</td>\n      <td>43</td>\n      <td>18</td>\n      <td>213</td>\n      <td>REABASTECER</td>\n    </tr>\n    <tr>\n      <th>1</th>\n      <td>-23.5489</td>\n      <td>-46.6388</td>\n      <td>11</td>\n      <td>56</td>\n      <td>16</td>\n      <td>14</td>\n      <td>43</td>\n      <td>20</td>\n      <td>37</td>\n      <td>15</td>\n      <td>212</td>\n      <td>REABASTECER</td>\n    </tr>\n    <tr>\n      <th>2</th>\n      <td>-23.5489</td>\n      <td>-46.6388</td>\n      <td>86</td>\n      <td>51</td>\n      <td>8</td>\n      <td>11</td>\n      <td>41</td>\n      <td>20</td>\n      <td>35</td>\n      <td>12</td>\n      <td>264</td>\n      <td>REABASTECER</td>\n    </tr>\n    <tr>\n      <th>3</th>\n      <td>-23.5489</td>\n      <td>-46.6388</td>\n      <td>76</td>\n      <td>47</td>\n      <td>65</td>\n      <td>11</td>\n      <td>37</td>\n      <td>14</td>\n      <td>32</td>\n      <td>10</td>\n      <td>292</td>\n      <td>NORMAL</td>\n    </tr>\n    <tr>\n      <th>4</th>\n      <td>-23.5489</td>\n      <td>-46.6388</td>\n      <td>68</td>\n      <td>42</td>\n      <td>60</td>\n      <td>6</td>\n      <td>35</td>\n      <td>13</td>\n      <td>26</td>\n      <td>5</td>\n      <td>255</td>\n      <td>REABASTECER</td>\n    </tr>\n    <tr>\n      <th>5</th>\n      <td>-23.5489</td>\n      <td>-46.6388</td>\n      <td>57</td>\n      <td>35</td>\n      <td>55</td>\n      <td>43</td>\n      <td>31</td>\n      <td>9</td>\n      <td>22</td>\n      <td>43</td>\n      <td>295</td>\n      <td>NORMAL</td>\n    </tr>\n    <tr>\n      <th>6</th>\n      <td>-23.5489</td>\n      <td>-46.6388</td>\n      <td>45</td>\n      <td>33</td>\n      <td>50</td>\n      <td>39</td>\n      <td>25</td>\n      <td>5</td>\n      <td>16</td>\n      <td>39</td>\n      <td>252</td>\n      <td>REABASTECER</td>\n    </tr>\n    <tr>\n      <th>7</th>\n      <td>-23.5489</td>\n      <td>-46.6388</td>\n      <td>34</td>\n      <td>28</td>\n      <td>41</td>\n      <td>39</td>\n      <td>22</td>\n      <td>43</td>\n      <td>13</td>\n      <td>34</td>\n      <td>254</td>\n      <td>NORMAL</td>\n    </tr>\n    <tr>\n      <th>8</th>\n      <td>-23.5489</td>\n      <td>-46.6388</td>\n      <td>22</td>\n      <td>24</td>\n      <td>31</td>\n      <td>35</td>\n      <td>18</td>\n      <td>40</td>\n      <td>8</td>\n      <td>29</td>\n      <td>207</td>\n      <td>NORMAL</td>\n    </tr>\n    <tr>\n      <th>9</th>\n      <td>-23.5489</td>\n      <td>-46.6388</td>\n      <td>9</td>\n      <td>16</td>\n      <td>26</td>\n      <td>33</td>\n      <td>13</td>\n      <td>38</td>\n      <td>4</td>\n      <td>24</td>\n      <td>163</td>\n      <td>REABASTECER</td>\n    </tr>\n    <tr>\n      <th>10</th>\n      <td>-23.5489</td>\n      <td>-46.6388</td>\n      <td>86</td>\n      <td>12</td>\n      <td>22</td>\n      <td>29</td>\n      <td>8</td>\n      <td>37</td>\n      <td>43</td>\n      <td>20</td>\n      <td>257</td>\n      <td>NORMAL</td>\n    </tr>\n    <tr>\n      <th>11</th>\n      <td>-23.5489</td>\n      <td>-46.6388</td>\n      <td>75</td>\n      <td>10</td>\n      <td>12</td>\n      <td>25</td>\n      <td>2</td>\n      <td>35</td>\n      <td>39</td>\n      <td>14</td>\n      <td>212</td>\n      <td>REABASTECER</td>\n    </tr>\n    <tr>\n      <th>12</th>\n      <td>-23.5489</td>\n      <td>-46.6388</td>\n      <td>67</td>\n      <td>0</td>\n      <td>3</td>\n      <td>21</td>\n      <td>43</td>\n      <td>34</td>\n      <td>33</td>\n      <td>9</td>\n      <td>210</td>\n      <td>REABASTECER</td>\n    </tr>\n    <tr>\n      <th>13</th>\n      <td>-23.5489</td>\n      <td>-46.6388</td>\n      <td>59</td>\n      <td>65</td>\n      <td>65</td>\n      <td>20</td>\n      <td>38</td>\n      <td>34</td>\n      <td>27</td>\n      <td>3</td>\n      <td>311</td>\n      <td>REABASTECER</td>\n    </tr>\n    <tr>\n      <th>14</th>\n      <td>-23.5489</td>\n      <td>-46.6388</td>\n      <td>50</td>\n      <td>63</td>\n      <td>56</td>\n      <td>18</td>\n      <td>32</td>\n      <td>34</td>\n      <td>25</td>\n      <td>43</td>\n      <td>321</td>\n      <td>NORMAL</td>\n    </tr>\n    <tr>\n      <th>15</th>\n      <td>-23.5489</td>\n      <td>-46.6388</td>\n      <td>39</td>\n      <td>59</td>\n      <td>48</td>\n      <td>12</td>\n      <td>30</td>\n      <td>30</td>\n      <td>20</td>\n      <td>37</td>\n      <td>275</td>\n      <td>NORMAL</td>\n    </tr>\n    <tr>\n      <th>16</th>\n      <td>-23.5489</td>\n      <td>-46.6388</td>\n      <td>26</td>\n      <td>50</td>\n      <td>44</td>\n      <td>7</td>\n      <td>27</td>\n      <td>30</td>\n      <td>14</td>\n      <td>34</td>\n      <td>232</td>\n      <td>NORMAL</td>\n    </tr>\n    <tr>\n      <th>17</th>\n      <td>-23.5489</td>\n      <td>-46.6388</td>\n      <td>15</td>\n      <td>45</td>\n      <td>39</td>\n      <td>3</td>\n      <td>25</td>\n      <td>25</td>\n      <td>8</td>\n      <td>29</td>\n      <td>189</td>\n      <td>REABASTECER</td>\n    </tr>\n    <tr>\n      <th>18</th>\n      <td>-23.5489</td>\n      <td>-46.6388</td>\n      <td>7</td>\n      <td>35</td>\n      <td>31</td>\n      <td>43</td>\n      <td>21</td>\n      <td>20</td>\n      <td>2</td>\n      <td>27</td>\n      <td>186</td>\n      <td>REABASTECER</td>\n    </tr>\n    <tr>\n      <th>19</th>\n      <td>-23.5489</td>\n      <td>-46.6388</td>\n      <td>86</td>\n      <td>27</td>\n      <td>21</td>\n      <td>39</td>\n      <td>17</td>\n      <td>19</td>\n      <td>43</td>\n      <td>21</td>\n      <td>273</td>\n      <td>NORMAL</td>\n    </tr>\n    <tr>\n      <th>20</th>\n      <td>-23.5489</td>\n      <td>-46.6388</td>\n      <td>78</td>\n      <td>17</td>\n      <td>11</td>\n      <td>35</td>\n      <td>11</td>\n      <td>17</td>\n      <td>38</td>\n      <td>19</td>\n      <td>226</td>\n      <td>NORMAL</td>\n    </tr>\n    <tr>\n      <th>21</th>\n      <td>-23.5489</td>\n      <td>-46.6388</td>\n      <td>65</td>\n      <td>12</td>\n      <td>7</td>\n      <td>34</td>\n      <td>9</td>\n      <td>16</td>\n      <td>32</td>\n      <td>14</td>\n      <td>189</td>\n      <td>REABASTECER</td>\n    </tr>\n    <tr>\n      <th>22</th>\n      <td>-23.5489</td>\n      <td>-46.6388</td>\n      <td>57</td>\n      <td>3</td>\n      <td>65</td>\n      <td>28</td>\n      <td>4</td>\n      <td>13</td>\n      <td>30</td>\n      <td>10</td>\n      <td>210</td>\n      <td>REABASTECER</td>\n    </tr>\n    <tr>\n      <th>23</th>\n      <td>-23.5489</td>\n      <td>-46.6388</td>\n      <td>47</td>\n      <td>65</td>\n      <td>55</td>\n      <td>24</td>\n      <td>43</td>\n      <td>12</td>\n      <td>25</td>\n      <td>4</td>\n      <td>275</td>\n      <td>REABASTECER</td>\n    </tr>\n    <tr>\n      <th>24</th>\n      <td>-23.5489</td>\n      <td>-46.6388</td>\n      <td>37</td>\n      <td>62</td>\n      <td>46</td>\n      <td>21</td>\n      <td>40</td>\n      <td>9</td>\n      <td>21</td>\n      <td>43</td>\n      <td>279</td>\n      <td>NORMAL</td>\n    </tr>\n    <tr>\n      <th>25</th>\n      <td>-23.5489</td>\n      <td>-46.6388</td>\n      <td>28</td>\n      <td>60</td>\n      <td>37</td>\n      <td>15</td>\n      <td>36</td>\n      <td>9</td>\n      <td>16</td>\n      <td>39</td>\n      <td>240</td>\n      <td>NORMAL</td>\n    </tr>\n    <tr>\n      <th>26</th>\n      <td>-23.5489</td>\n      <td>-46.6388</td>\n      <td>16</td>\n      <td>52</td>\n      <td>30</td>\n      <td>10</td>\n      <td>31</td>\n      <td>4</td>\n      <td>12</td>\n      <td>33</td>\n      <td>188</td>\n      <td>REABASTECER</td>\n    </tr>\n    <tr>\n      <th>27</th>\n      <td>-23.5489</td>\n      <td>-46.6388</td>\n      <td>8</td>\n      <td>43</td>\n      <td>25</td>\n      <td>10</td>\n      <td>29</td>\n      <td>43</td>\n      <td>9</td>\n      <td>29</td>\n      <td>196</td>\n      <td>REABASTECER</td>\n    </tr>\n    <tr>\n      <th>28</th>\n      <td>-23.5489</td>\n      <td>-46.6388</td>\n      <td>86</td>\n      <td>39</td>\n      <td>19</td>\n      <td>4</td>\n      <td>24</td>\n      <td>41</td>\n      <td>3</td>\n      <td>24</td>\n      <td>240</td>\n      <td>REABASTECER</td>\n    </tr>\n    <tr>\n      <th>29</th>\n      <td>-23.5489</td>\n      <td>-46.6388</td>\n      <td>78</td>\n      <td>33</td>\n      <td>9</td>\n      <td>43</td>\n      <td>20</td>\n      <td>36</td>\n      <td>43</td>\n      <td>21</td>\n      <td>283</td>\n      <td>REABASTECER</td>\n    </tr>\n    <tr>\n      <th>30</th>\n      <td>-23.5489</td>\n      <td>-46.6388</td>\n      <td>67</td>\n      <td>27</td>\n      <td>65</td>\n      <td>43</td>\n      <td>17</td>\n      <td>33</td>\n      <td>37</td>\n      <td>18</td>\n      <td>307</td>\n      <td>NORMAL</td>\n    </tr>\n    <tr>\n      <th>31</th>\n      <td>-23.5489</td>\n      <td>-46.6388</td>\n      <td>57</td>\n      <td>21</td>\n      <td>61</td>\n      <td>43</td>\n      <td>12</td>\n      <td>33</td>\n      <td>31</td>\n      <td>16</td>\n      <td>274</td>\n      <td>NORMAL</td>\n    </tr>\n    <tr>\n      <th>32</th>\n      <td>-23.5489</td>\n      <td>-46.6388</td>\n      <td>45</td>\n      <td>17</td>\n      <td>57</td>\n      <td>38</td>\n      <td>9</td>\n      <td>29</td>\n      <td>27</td>\n      <td>10</td>\n      <td>232</td>\n      <td>NORMAL</td>\n    </tr>\n    <tr>\n      <th>33</th>\n      <td>-23.5489</td>\n      <td>-46.6388</td>\n      <td>34</td>\n      <td>15</td>\n      <td>53</td>\n      <td>32</td>\n      <td>5</td>\n      <td>29</td>\n      <td>21</td>\n      <td>6</td>\n      <td>195</td>\n      <td>REABASTECER</td>\n    </tr>\n    <tr>\n      <th>34</th>\n      <td>-23.5489</td>\n      <td>-46.6388</td>\n      <td>23</td>\n      <td>13</td>\n      <td>45</td>\n      <td>31</td>\n      <td>43</td>\n      <td>25</td>\n      <td>15</td>\n      <td>43</td>\n      <td>238</td>\n      <td>NORMAL</td>\n    </tr>\n    <tr>\n      <th>35</th>\n      <td>-23.5489</td>\n      <td>-46.6388</td>\n      <td>10</td>\n      <td>6</td>\n      <td>39</td>\n      <td>26</td>\n      <td>39</td>\n      <td>24</td>\n      <td>13</td>\n      <td>38</td>\n      <td>195</td>\n      <td>REABASTECER</td>\n    </tr>\n    <tr>\n      <th>36</th>\n      <td>-23.5489</td>\n      <td>-46.6388</td>\n      <td>86</td>\n      <td>65</td>\n      <td>35</td>\n      <td>25</td>\n      <td>35</td>\n      <td>22</td>\n      <td>7</td>\n      <td>36</td>\n      <td>311</td>\n      <td>NORMAL</td>\n    </tr>\n    <tr>\n      <th>37</th>\n      <td>-23.5489</td>\n      <td>-46.6388</td>\n      <td>74</td>\n      <td>56</td>\n      <td>25</td>\n      <td>25</td>\n      <td>33</td>\n      <td>21</td>\n      <td>3</td>\n      <td>30</td>\n      <td>267</td>\n      <td>REABASTECER</td>\n    </tr>\n    <tr>\n      <th>38</th>\n      <td>-23.5489</td>\n      <td>-46.6388</td>\n      <td>63</td>\n      <td>50</td>\n      <td>16</td>\n      <td>24</td>\n      <td>30</td>\n      <td>15</td>\n      <td>43</td>\n      <td>24</td>\n      <td>265</td>\n      <td>NORMAL</td>\n    </tr>\n    <tr>\n      <th>39</th>\n      <td>-23.5489</td>\n      <td>-46.6388</td>\n      <td>54</td>\n      <td>40</td>\n      <td>11</td>\n      <td>20</td>\n      <td>28</td>\n      <td>12</td>\n      <td>40</td>\n      <td>21</td>\n      <td>226</td>\n      <td>NORMAL</td>\n    </tr>\n    <tr>\n      <th>40</th>\n      <td>-23.5489</td>\n      <td>-46.6388</td>\n      <td>47</td>\n      <td>38</td>\n      <td>2</td>\n      <td>20</td>\n      <td>23</td>\n      <td>6</td>\n      <td>36</td>\n      <td>18</td>\n      <td>190</td>\n      <td>REABASTECER</td>\n    </tr>\n    <tr>\n      <th>41</th>\n      <td>-23.5489</td>\n      <td>-46.6388</td>\n      <td>35</td>\n      <td>32</td>\n      <td>65</td>\n      <td>18</td>\n      <td>20</td>\n      <td>43</td>\n      <td>34</td>\n      <td>12</td>\n      <td>259</td>\n      <td>NORMAL</td>\n    </tr>\n    <tr>\n      <th>42</th>\n      <td>-23.5489</td>\n      <td>-46.6388</td>\n      <td>28</td>\n      <td>25</td>\n      <td>59</td>\n      <td>18</td>\n      <td>14</td>\n      <td>40</td>\n      <td>28</td>\n      <td>8</td>\n      <td>220</td>\n      <td>NORMAL</td>\n    </tr>\n    <tr>\n      <th>43</th>\n      <td>-23.5489</td>\n      <td>-46.6388</td>\n      <td>21</td>\n      <td>18</td>\n      <td>52</td>\n      <td>14</td>\n      <td>9</td>\n      <td>36</td>\n      <td>24</td>\n      <td>5</td>\n      <td>179</td>\n      <td>REABASTECER</td>\n    </tr>\n    <tr>\n      <th>44</th>\n      <td>-23.5489</td>\n      <td>-46.6388</td>\n      <td>8</td>\n      <td>14</td>\n      <td>43</td>\n      <td>9</td>\n      <td>6</td>\n      <td>32</td>\n      <td>21</td>\n      <td>43</td>\n      <td>176</td>\n      <td>REABASTECER</td>\n    </tr>\n    <tr>\n      <th>45</th>\n      <td>-23.5489</td>\n      <td>-46.6388</td>\n      <td>86</td>\n      <td>5</td>\n      <td>34</td>\n      <td>5</td>\n      <td>43</td>\n      <td>30</td>\n      <td>18</td>\n      <td>40</td>\n      <td>261</td>\n      <td>REABASTECER</td>\n    </tr>\n    <tr>\n      <th>46</th>\n      <td>-23.5489</td>\n      <td>-46.6388</td>\n      <td>79</td>\n      <td>65</td>\n      <td>28</td>\n      <td>43</td>\n      <td>37</td>\n      <td>29</td>\n      <td>12</td>\n      <td>34</td>\n      <td>327</td>\n      <td>NORMAL</td>\n    </tr>\n    <tr>\n      <th>47</th>\n      <td>-23.5489</td>\n      <td>-46.6388</td>\n      <td>70</td>\n      <td>61</td>\n      <td>20</td>\n      <td>38</td>\n      <td>35</td>\n      <td>26</td>\n      <td>10</td>\n      <td>30</td>\n      <td>290</td>\n      <td>NORMAL</td>\n    </tr>\n    <tr>\n      <th>48</th>\n      <td>-23.5489</td>\n      <td>-46.6388</td>\n      <td>62</td>\n      <td>51</td>\n      <td>16</td>\n      <td>36</td>\n      <td>33</td>\n      <td>26</td>\n      <td>6</td>\n      <td>28</td>\n      <td>258</td>\n      <td>REABASTECER</td>\n    </tr>\n    <tr>\n      <th>49</th>\n      <td>-23.5489</td>\n      <td>-46.6388</td>\n      <td>49</td>\n      <td>41</td>\n      <td>11</td>\n      <td>34</td>\n      <td>30</td>\n      <td>26</td>\n      <td>43</td>\n      <td>22</td>\n      <td>256</td>\n      <td>NORMAL</td>\n    </tr>\n  </tbody>\n</table>\n</div>"
     },
     "metadata": {},
     "execution_count": 210
    }
   ],
   "source": [
    "result = df_teste.assign(TARGET=Y_pred)\n",
    "result.head(50)"
   ]
  },
  {
   "cell_type": "code",
   "execution_count": 211,
   "metadata": {},
   "outputs": [],
   "source": [
    "#Exportar submissão\n",
    "result.to_csv('results.csv', index=False)"
   ]
  },
  {
   "cell_type": "code",
   "execution_count": null,
   "metadata": {},
   "outputs": [],
   "source": []
  }
 ],
 "metadata": {
  "kernelspec": {
   "display_name": "Python 3",
   "language": "python",
   "name": "python3"
  },
  "language_info": {
   "codemirror_mode": {
    "name": "ipython",
    "version": 3
   },
   "file_extension": ".py",
   "mimetype": "text/x-python",
   "name": "python",
   "nbconvert_exporter": "python",
   "pygments_lexer": "ipython3",
   "version": "3.8.3-final"
  }
 },
 "nbformat": 4,
 "nbformat_minor": 1
}