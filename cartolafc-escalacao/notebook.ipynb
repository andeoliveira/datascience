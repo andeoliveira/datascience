{
 "cells": [
  {
   "cell_type": "markdown",
   "metadata": {},
   "source": [
    "# CARTOLA FC - 2020"
   ]
  },
  {
   "cell_type": "markdown",
   "metadata": {},
   "source": [
    "Cartola FC é um jogo eletrônico de futebol no estilo fantasy game, um jogo fictício no qual as pessoas montam seus times com jogadores de futebol da vida real, lançado no ano de 2004. Foi criado e é mantido pelo site Globo.com e promovido pelo canal de TV por assinatura SporTV e também pela Globo."
   ]
  },
  {
   "cell_type": "markdown",
   "metadata": {},
   "source": [
    "<hr>"
   ]
  },
  {
   "cell_type": "markdown",
   "metadata": {},
   "source": [
    "## Definição do Problema"
   ]
  },
  {
   "cell_type": "markdown",
   "metadata": {},
   "source": [
    "### Previsão de Escalação\n",
    "\n",
    "Realizar previsão da pontuação dos jogadores do Cartola FC."
   ]
  },
  {
   "cell_type": "markdown",
   "metadata": {},
   "source": [
    "<hr>"
   ]
  },
  {
   "cell_type": "markdown",
   "metadata": {},
   "source": [
    "## Conjunto de dados"
   ]
  },
  {
   "cell_type": "markdown",
   "metadata": {},
   "source": [
    "### Carregamento dos dados\n",
    "\n",
    "Foi conectado ao broker da TNT via node-red e transformado os dados capturados em um arquivo csv (dataset.csv) para desenvolvimento do desafio, a qual contém 15067 linhas e 15 características. Colunas presentes no dataset:\n",
    "\n",
    "- Linha: ``row``\n",
    "- Data da Movimentação: ``Temo``\n",
    "- Estação de venda: ``metro``\n",
    "- Latitude: ``LAT``\n",
    "- Longitude: ``LONG``,\n",
    "- Movimentação: ``Movimentação``,\n",
    "- Orignal 473ML: ``Original_473``,\n",
    "- Original 269ML: ``Original_269``,\n",
    "- Sabor Zero: ``Zero``,\n",
    "- Sabor Maçã Verde: ``Maçã-Verde``,\n",
    "- Sabor Tangerina: ``Tangerina``,\n",
    "- Sabor Citrus: ``Citrus``\n",
    "- Sabor Açaí-Guaraná: ``Açaí-Guaraná``\n",
    "- Sabor Pêssego: ``Pêssego``\n",
    "- Alvo (Status): ``TARGET``"
   ]
  },
  {
   "cell_type": "code",
   "execution_count": 426,
   "metadata": {
    "tags": []
   },
   "outputs": [],
   "source": [
    "# analise de dados\n",
    "import pandas as pd\n",
    "import numpy as np\n",
    "import random as rnd\n",
    "\n",
    "# Requests e Elementos HTML\n",
    "import re                          # Expressão regulares\n",
    "import requests                    # Acessar páginas da internet\n",
    "from bs4 import BeautifulSoup      # Raspar elementos de páginas da internet\n",
    "\n",
    "# visualização\n",
    "import seaborn as sns\n",
    "import matplotlib.pyplot as plt\n",
    "%matplotlib inline\n",
    "\n",
    "# machine learning\n",
    "from sklearn.linear_model import LogisticRegression\n",
    "from sklearn.ensemble import RandomForestClassifier\n",
    "from sklearn.neighbors import KNeighborsClassifier\n",
    "from sklearn.preprocessing import StandardScaler\n",
    "from sklearn.metrics import f1_score\n",
    "from sklearn.model_selection import train_test_split\n",
    "from sklearn.metrics import accuracy_score\n",
    "from sklearn.model_selection import cross_validate\n",
    "\n",
    "# metricas \n",
    "from sklearn.metrics import classification_report"
   ]
  },
  {
   "source": [
    "### Captura dos dados \n",
    "\n",
    "Os dados são baixados diretamente do diretório do do GitHub: https://github.com/henriquepgomide/caRtola/tree/master/data/2020"
   ],
   "cell_type": "markdown",
   "metadata": {}
  },
  {
   "cell_type": "code",
   "execution_count": 427,
   "metadata": {},
   "outputs": [],
   "source": [
    "\n",
    "# URL com caminho do repositório\n",
    "URL = 'https://github.com/henriquepgomide/caRtola/tree/master/data/2020'\n",
    "html = requests.get(URL)\n",
    "# Criar objeto BeautifulSoup para raspar urls \n",
    "soup = BeautifulSoup(html.text, 'lxml')"
   ]
  },
  {
   "cell_type": "code",
   "execution_count": 428,
   "metadata": {},
   "outputs": [
    {
     "output_type": "execute_result",
     "data": {
      "text/plain": "[<a class=\"js-navigation-open link-gray-dark\" href=\"/henriquepgomide/caRtola/tree/master/data/2020/team-features\" id=\"015cc237790ac744a369fe0a639f3b4b-40cbb9d10b172966a10d0cc0beb858725ca89218\" title=\"team-features\">team-features</a>,\n <a class=\"js-navigation-open link-gray-dark\" href=\"/henriquepgomide/caRtola/tree/master/data/2020/team-rankings\" id=\"4c3fa43e2bc40689660a8b10cb303c0a-e9fa230a75ec759e35a03d712be5e14549625e2f\" title=\"team-rankings\">team-rankings</a>,\n <a class=\"js-navigation-open link-gray-dark\" href=\"/henriquepgomide/caRtola/blob/master/data/2020/2020-medias-jogadores.csv\" id=\"afd3e0c547e8d3b59b84300bfc9c9a1b-02e0d797e1be0e45f5e0b9c0357c3626e238604c\" title=\"2020-medias-jogadores.csv\">2020-medias-jogadores.csv</a>,\n <a class=\"js-navigation-open link-gray-dark\" href=\"/henriquepgomide/caRtola/blob/master/data/2020/2020_partidas.csv\" id=\"230c1eb8415f4226f2c1925d5ecbef60-c72dc2aac3fc65d7b87d7016f6b563c3e1468fd6\" title=\"2020_partidas.csv\">2020_partidas.csv</a>,\n <a class=\"js-navigation-open link-gray-dark\" href=\"/henriquepgomide/caRtola/blob/master/data/2020/rodada-1.csv\" id=\"fb4c04b303cc64d68eee44e383bde485-dc4af974f548d2f13ebec87f4c4189401de7580b\" title=\"rodada-1.csv\">rodada-1.csv</a>,\n <a class=\"js-navigation-open link-gray-dark\" href=\"/henriquepgomide/caRtola/blob/master/data/2020/rodada-10.csv\" id=\"396cf87ee7cbcdc73bb1d8a5cd038d2a-b515d3b307454d76ce6996ce1b6e0591780035a7\" title=\"rodada-10.csv\">rodada-10.csv</a>,\n <a class=\"js-navigation-open link-gray-dark\" href=\"/henriquepgomide/caRtola/blob/master/data/2020/rodada-10.csv.orig\" id=\"3e8e61487232d9854b6b058c44b10f4d-d520922c221f15fe18c783a8361449f780c578d1\" title=\"rodada-10.csv.orig\">rodada-10.csv.orig</a>,\n <a class=\"js-navigation-open link-gray-dark\" href=\"/henriquepgomide/caRtola/blob/master/data/2020/rodada-11.csv\" id=\"47661cb62f44c90e455301101b822731-ba898d7aeaa900d923803694a544742d9fc80f5d\" title=\"rodada-11.csv\">rodada-11.csv</a>,\n <a class=\"js-navigation-open link-gray-dark\" href=\"/henriquepgomide/caRtola/blob/master/data/2020/rodada-2.csv\" id=\"02e6250ec6408af2d078860bbb99d758-3c8bf48ed0ccd218bef52a16c70045f64727146e\" title=\"rodada-2.csv\">rodada-2.csv</a>,\n <a class=\"js-navigation-open link-gray-dark\" href=\"/henriquepgomide/caRtola/blob/master/data/2020/rodada-3.csv\" id=\"9ed46bc93f2bfa9f3269fc1e0f39d995-ff713a257f65e05b7e7a132180f127d823a46085\" title=\"rodada-3.csv\">rodada-3.csv</a>]"
     },
     "metadata": {},
     "execution_count": 428
    }
   ],
   "source": [
    "# Formatar HTML para extrair os dados\n",
    "result = []\n",
    "for tag in soup.find_all('a', href=True):\n",
    "    result.append(tag)\n",
    "result[70:90:2]"
   ]
  },
  {
   "cell_type": "code",
   "execution_count": 429,
   "metadata": {},
   "outputs": [],
   "source": [
    "regex =  '\\.csv$'\n",
    "\n",
    "dict_of_files = {}                                                          # Criar dicionário vazio\n",
    "for tag in soup.find_all('a', attrs={'href': re.compile(regex)}):           # Encontrar tags de nosso interesse\n",
    "    href_str = tag.get('href')                                              \n",
    "    file_name = re.sub('/henriquepgomide/caRtola/blob/master/data/2020/',   # Substituir padrão por nada\n",
    "                       '', \n",
    "                       href_str)\n",
    "    \n",
    "    file_url = re.sub('/henriquepgomide/caRtola/blob/master/data/2020/',    # Substituir padrão por links para arquivos raw\n",
    "                    'https://raw.githubusercontent.com/henriquepgomide/caRtola/master/data/2020/', \n",
    "                    href_str)\n",
    "\n",
    "    dict_of_files[file_name] = file_url"
   ]
  },
  {
   "cell_type": "code",
   "execution_count": 430,
   "metadata": {},
   "outputs": [
    {
     "output_type": "execute_result",
     "data": {
      "text/plain": "{'2020-medias-jogadores.csv': 'https://raw.githubusercontent.com/henriquepgomide/caRtola/master/data/2020/2020-medias-jogadores.csv',\n '2020_partidas.csv': 'https://raw.githubusercontent.com/henriquepgomide/caRtola/master/data/2020/2020_partidas.csv',\n 'rodada-1.csv': 'https://raw.githubusercontent.com/henriquepgomide/caRtola/master/data/2020/rodada-1.csv',\n 'rodada-10.csv': 'https://raw.githubusercontent.com/henriquepgomide/caRtola/master/data/2020/rodada-10.csv',\n 'rodada-11.csv': 'https://raw.githubusercontent.com/henriquepgomide/caRtola/master/data/2020/rodada-11.csv',\n 'rodada-2.csv': 'https://raw.githubusercontent.com/henriquepgomide/caRtola/master/data/2020/rodada-2.csv',\n 'rodada-3.csv': 'https://raw.githubusercontent.com/henriquepgomide/caRtola/master/data/2020/rodada-3.csv',\n 'rodada-4.csv': 'https://raw.githubusercontent.com/henriquepgomide/caRtola/master/data/2020/rodada-4.csv',\n 'rodada-5.csv': 'https://raw.githubusercontent.com/henriquepgomide/caRtola/master/data/2020/rodada-5.csv',\n 'rodada-6.csv': 'https://raw.githubusercontent.com/henriquepgomide/caRtola/master/data/2020/rodada-6.csv',\n 'rodada-7.csv': 'https://raw.githubusercontent.com/henriquepgomide/caRtola/master/data/2020/rodada-7.csv',\n 'rodada-8.csv': 'https://raw.githubusercontent.com/henriquepgomide/caRtola/master/data/2020/rodada-8.csv',\n 'rodada-9.csv': 'https://raw.githubusercontent.com/henriquepgomide/caRtola/master/data/2020/rodada-9.csv'}"
     },
     "metadata": {},
     "execution_count": 430
    }
   ],
   "source": [
    "dict(list(dict_of_files.items())) # Ignore este código horrível"
   ]
  },
  {
   "cell_type": "code",
   "execution_count": 431,
   "metadata": {},
   "outputs": [],
   "source": [
    "# Ler os dataframes das rodadas\n",
    "list_of_dataframes = []\n",
    "for key, item in list(dict_of_files.items())[2:14]:\n",
    "    df = pd.read_csv(item)\n",
    "    df['rodada'] = key\n",
    "    list_of_dataframes.append(df)"
   ]
  },
  {
   "cell_type": "code",
   "execution_count": 432,
   "metadata": {},
   "outputs": [
    {
     "output_type": "execute_result",
     "data": {
      "text/plain": "(8573, 35)"
     },
     "metadata": {},
     "execution_count": 432
    }
   ],
   "source": [
    "# Combinar lista de DataFrames criados\n",
    "df_jogadores = pd.concat(list_of_dataframes)\n",
    "df_jogadores.shape\n"
   ]
  },
  {
   "cell_type": "code",
   "execution_count": 433,
   "metadata": {},
   "outputs": [],
   "source": [
    "# Ler os dataframes das partidas \n",
    "for key, item in list(dict_of_files.items())[1:2]:\n",
    "    df_jogos = pd.read_csv(item)\n"
   ]
  },
  {
   "cell_type": "code",
   "execution_count": 434,
   "metadata": {},
   "outputs": [
    {
     "output_type": "execute_result",
     "data": {
      "text/plain": "(119, 6)"
     },
     "metadata": {},
     "execution_count": 434
    }
   ],
   "source": [
    "df_jogos.shape"
   ]
  },
  {
   "cell_type": "code",
   "execution_count": 435,
   "metadata": {},
   "outputs": [
    {
     "output_type": "execute_result",
     "data": {
      "text/plain": "    Unnamed: 0                       atletas.nome   atletas.slug  \\\n702        703        Aldemir dos Santos Ferreira       ferreira   \n703        704           Derick Fernando da Silva         derick   \n704        705                 Dyego Rocha Coelho   dyego-coelho   \n705        706       Raul Gustavo Pereira Bicalho   raul-gustavo   \n706        707      Carlos Enrique Rentería Olaya       renteria   \n707        708     Luis Antônio Venker de Menezes   mano-menezes   \n708        709     Matheus Alves da Silva Cardoso  matheus-alves   \n709        710  Cayo Henrique Nascimento Ferreira   cayo-tenorio   \n710        711      Caio Alan Tem Catem Gonçalves           caio   \n711        712  Luiz Henrique André Rosa da Silva  luiz-henrique   \n\n    atletas.apelido                                       atletas.foto  \\\n702        Ferreira  https://s.glbimg.com/es/sde/f/2020/07/19/5e283...   \n703         Derick   https://s.glbimg.com/es/sde/f/2020/09/08/24438...   \n704    Dyego Coelho  https://s.glbimg.com/es/sde/f/2019/11/04/d9e57...   \n705    Raul Gustavo  https://s.glbimg.com/es/sde/f/2020/09/07/6ef42...   \n706        Rentería  https://s.glbimg.com/es/sde/f/2020/09/03/4ae8e...   \n707    Mano Menezes  https://s.glbimg.com/es/sde/f/2020/09/11/e6334...   \n708   Matheus Alves  https://s.glbimg.com/es/sde/f/2020/08/26/9f036...   \n709    Cayo Tenório  https://s.glbimg.com/es/sde/f/2020/08/17/41541...   \n710            Caio  https://s.glbimg.com/es/sde/f/2018/03/01/87be2...   \n711   Luiz Henrique  https://s.glbimg.com/es/sde/f/2020/08/11/4a557...   \n\n    atletas.atleta_id atletas.rodada_id atletas.clube_id atletas.posicao_id  \\\n702            101290                 9              284                ata   \n703            109830                 9              277                zag   \n704             98499                 9              264                tec   \n705            109389                 9              264                zag   \n706             95356                 9              263                mei   \n707             37281                 9              265                tec   \n708             91712                 9              290                gol   \n709            107367                 9              267                lat   \n710             99460                 9              293                gol   \n711            109282                 9              266                ata   \n\n    atletas.status_id  ...   GS   FD   GC   SG    A    I   CV   PP  \\\n702              Nulo  ...  NaN  NaN  NaN  NaN  NaN  NaN  NaN  NaN   \n703              Nulo  ...  NaN  NaN  NaN  NaN  NaN  NaN  NaN  NaN   \n704          Provável  ...  NaN  NaN  NaN  NaN  NaN  NaN  NaN  NaN   \n705              Nulo  ...  NaN  NaN  NaN  NaN  NaN  NaN  NaN  NaN   \n706              Nulo  ...  NaN    1  NaN  NaN  NaN  NaN  NaN  NaN   \n707          Provável  ...  NaN  NaN  NaN  NaN  NaN  NaN  NaN  NaN   \n708              Nulo  ...  NaN  NaN  NaN  NaN  NaN  NaN  NaN  NaN   \n709              Nulo  ...  NaN    1  NaN    3  NaN  NaN  NaN  NaN   \n710              Nulo  ...  NaN  NaN  NaN  NaN  NaN  NaN  NaN  NaN   \n711              Nulo  ...  NaN  NaN  NaN  NaN  NaN  NaN  NaN  NaN   \n\n           rodada   DP  \n702  rodada-9.csv  NaN  \n703  rodada-9.csv  NaN  \n704  rodada-9.csv  NaN  \n705  rodada-9.csv  NaN  \n706  rodada-9.csv  NaN  \n707  rodada-9.csv  NaN  \n708  rodada-9.csv  NaN  \n709  rodada-9.csv  NaN  \n710  rodada-9.csv  NaN  \n711  rodada-9.csv  NaN  \n\n[10 rows x 35 columns]",
      "text/html": "<div>\n<style scoped>\n    .dataframe tbody tr th:only-of-type {\n        vertical-align: middle;\n    }\n\n    .dataframe tbody tr th {\n        vertical-align: top;\n    }\n\n    .dataframe thead th {\n        text-align: right;\n    }\n</style>\n<table border=\"1\" class=\"dataframe\">\n  <thead>\n    <tr style=\"text-align: right;\">\n      <th></th>\n      <th>Unnamed: 0</th>\n      <th>atletas.nome</th>\n      <th>atletas.slug</th>\n      <th>atletas.apelido</th>\n      <th>atletas.foto</th>\n      <th>atletas.atleta_id</th>\n      <th>atletas.rodada_id</th>\n      <th>atletas.clube_id</th>\n      <th>atletas.posicao_id</th>\n      <th>atletas.status_id</th>\n      <th>...</th>\n      <th>GS</th>\n      <th>FD</th>\n      <th>GC</th>\n      <th>SG</th>\n      <th>A</th>\n      <th>I</th>\n      <th>CV</th>\n      <th>PP</th>\n      <th>rodada</th>\n      <th>DP</th>\n    </tr>\n  </thead>\n  <tbody>\n    <tr>\n      <th>702</th>\n      <td>703</td>\n      <td>Aldemir dos Santos Ferreira</td>\n      <td>ferreira</td>\n      <td>Ferreira</td>\n      <td>https://s.glbimg.com/es/sde/f/2020/07/19/5e283...</td>\n      <td>101290</td>\n      <td>9</td>\n      <td>284</td>\n      <td>ata</td>\n      <td>Nulo</td>\n      <td>...</td>\n      <td>NaN</td>\n      <td>NaN</td>\n      <td>NaN</td>\n      <td>NaN</td>\n      <td>NaN</td>\n      <td>NaN</td>\n      <td>NaN</td>\n      <td>NaN</td>\n      <td>rodada-9.csv</td>\n      <td>NaN</td>\n    </tr>\n    <tr>\n      <th>703</th>\n      <td>704</td>\n      <td>Derick Fernando da Silva</td>\n      <td>derick</td>\n      <td>Derick</td>\n      <td>https://s.glbimg.com/es/sde/f/2020/09/08/24438...</td>\n      <td>109830</td>\n      <td>9</td>\n      <td>277</td>\n      <td>zag</td>\n      <td>Nulo</td>\n      <td>...</td>\n      <td>NaN</td>\n      <td>NaN</td>\n      <td>NaN</td>\n      <td>NaN</td>\n      <td>NaN</td>\n      <td>NaN</td>\n      <td>NaN</td>\n      <td>NaN</td>\n      <td>rodada-9.csv</td>\n      <td>NaN</td>\n    </tr>\n    <tr>\n      <th>704</th>\n      <td>705</td>\n      <td>Dyego Rocha Coelho</td>\n      <td>dyego-coelho</td>\n      <td>Dyego Coelho</td>\n      <td>https://s.glbimg.com/es/sde/f/2019/11/04/d9e57...</td>\n      <td>98499</td>\n      <td>9</td>\n      <td>264</td>\n      <td>tec</td>\n      <td>Provável</td>\n      <td>...</td>\n      <td>NaN</td>\n      <td>NaN</td>\n      <td>NaN</td>\n      <td>NaN</td>\n      <td>NaN</td>\n      <td>NaN</td>\n      <td>NaN</td>\n      <td>NaN</td>\n      <td>rodada-9.csv</td>\n      <td>NaN</td>\n    </tr>\n    <tr>\n      <th>705</th>\n      <td>706</td>\n      <td>Raul Gustavo Pereira Bicalho</td>\n      <td>raul-gustavo</td>\n      <td>Raul Gustavo</td>\n      <td>https://s.glbimg.com/es/sde/f/2020/09/07/6ef42...</td>\n      <td>109389</td>\n      <td>9</td>\n      <td>264</td>\n      <td>zag</td>\n      <td>Nulo</td>\n      <td>...</td>\n      <td>NaN</td>\n      <td>NaN</td>\n      <td>NaN</td>\n      <td>NaN</td>\n      <td>NaN</td>\n      <td>NaN</td>\n      <td>NaN</td>\n      <td>NaN</td>\n      <td>rodada-9.csv</td>\n      <td>NaN</td>\n    </tr>\n    <tr>\n      <th>706</th>\n      <td>707</td>\n      <td>Carlos Enrique Rentería Olaya</td>\n      <td>renteria</td>\n      <td>Rentería</td>\n      <td>https://s.glbimg.com/es/sde/f/2020/09/03/4ae8e...</td>\n      <td>95356</td>\n      <td>9</td>\n      <td>263</td>\n      <td>mei</td>\n      <td>Nulo</td>\n      <td>...</td>\n      <td>NaN</td>\n      <td>1</td>\n      <td>NaN</td>\n      <td>NaN</td>\n      <td>NaN</td>\n      <td>NaN</td>\n      <td>NaN</td>\n      <td>NaN</td>\n      <td>rodada-9.csv</td>\n      <td>NaN</td>\n    </tr>\n    <tr>\n      <th>707</th>\n      <td>708</td>\n      <td>Luis Antônio Venker de Menezes</td>\n      <td>mano-menezes</td>\n      <td>Mano Menezes</td>\n      <td>https://s.glbimg.com/es/sde/f/2020/09/11/e6334...</td>\n      <td>37281</td>\n      <td>9</td>\n      <td>265</td>\n      <td>tec</td>\n      <td>Provável</td>\n      <td>...</td>\n      <td>NaN</td>\n      <td>NaN</td>\n      <td>NaN</td>\n      <td>NaN</td>\n      <td>NaN</td>\n      <td>NaN</td>\n      <td>NaN</td>\n      <td>NaN</td>\n      <td>rodada-9.csv</td>\n      <td>NaN</td>\n    </tr>\n    <tr>\n      <th>708</th>\n      <td>709</td>\n      <td>Matheus Alves da Silva Cardoso</td>\n      <td>matheus-alves</td>\n      <td>Matheus Alves</td>\n      <td>https://s.glbimg.com/es/sde/f/2020/08/26/9f036...</td>\n      <td>91712</td>\n      <td>9</td>\n      <td>290</td>\n      <td>gol</td>\n      <td>Nulo</td>\n      <td>...</td>\n      <td>NaN</td>\n      <td>NaN</td>\n      <td>NaN</td>\n      <td>NaN</td>\n      <td>NaN</td>\n      <td>NaN</td>\n      <td>NaN</td>\n      <td>NaN</td>\n      <td>rodada-9.csv</td>\n      <td>NaN</td>\n    </tr>\n    <tr>\n      <th>709</th>\n      <td>710</td>\n      <td>Cayo Henrique Nascimento Ferreira</td>\n      <td>cayo-tenorio</td>\n      <td>Cayo Tenório</td>\n      <td>https://s.glbimg.com/es/sde/f/2020/08/17/41541...</td>\n      <td>107367</td>\n      <td>9</td>\n      <td>267</td>\n      <td>lat</td>\n      <td>Nulo</td>\n      <td>...</td>\n      <td>NaN</td>\n      <td>1</td>\n      <td>NaN</td>\n      <td>3</td>\n      <td>NaN</td>\n      <td>NaN</td>\n      <td>NaN</td>\n      <td>NaN</td>\n      <td>rodada-9.csv</td>\n      <td>NaN</td>\n    </tr>\n    <tr>\n      <th>710</th>\n      <td>711</td>\n      <td>Caio Alan Tem Catem Gonçalves</td>\n      <td>caio</td>\n      <td>Caio</td>\n      <td>https://s.glbimg.com/es/sde/f/2018/03/01/87be2...</td>\n      <td>99460</td>\n      <td>9</td>\n      <td>293</td>\n      <td>gol</td>\n      <td>Nulo</td>\n      <td>...</td>\n      <td>NaN</td>\n      <td>NaN</td>\n      <td>NaN</td>\n      <td>NaN</td>\n      <td>NaN</td>\n      <td>NaN</td>\n      <td>NaN</td>\n      <td>NaN</td>\n      <td>rodada-9.csv</td>\n      <td>NaN</td>\n    </tr>\n    <tr>\n      <th>711</th>\n      <td>712</td>\n      <td>Luiz Henrique André Rosa da Silva</td>\n      <td>luiz-henrique</td>\n      <td>Luiz Henrique</td>\n      <td>https://s.glbimg.com/es/sde/f/2020/08/11/4a557...</td>\n      <td>109282</td>\n      <td>9</td>\n      <td>266</td>\n      <td>ata</td>\n      <td>Nulo</td>\n      <td>...</td>\n      <td>NaN</td>\n      <td>NaN</td>\n      <td>NaN</td>\n      <td>NaN</td>\n      <td>NaN</td>\n      <td>NaN</td>\n      <td>NaN</td>\n      <td>NaN</td>\n      <td>rodada-9.csv</td>\n      <td>NaN</td>\n    </tr>\n  </tbody>\n</table>\n<p>10 rows × 35 columns</p>\n</div>"
     },
     "metadata": {},
     "execution_count": 435
    }
   ],
   "source": [
    "df_jogadores.tail(10)"
   ]
  },
  {
   "cell_type": "code",
   "execution_count": 387,
   "metadata": {
    "tags": []
   },
   "outputs": [
    {
     "output_type": "stream",
     "name": "stdout",
     "text": "<class 'pandas.core.frame.DataFrame'>\nInt64Index: 8573 entries, 0 to 711\nData columns (total 35 columns):\n #   Column                      Non-Null Count  Dtype \n---  ------                      --------------  ----- \n 0   Unnamed: 0                  8572 non-null   object\n 1   atletas.nome                8571 non-null   object\n 2   atletas.slug                8571 non-null   object\n 3   atletas.apelido             8571 non-null   object\n 4   atletas.foto                8504 non-null   object\n 5   atletas.atleta_id           8571 non-null   object\n 6   atletas.rodada_id           8571 non-null   object\n 7   atletas.clube_id            8571 non-null   object\n 8   atletas.posicao_id          8571 non-null   object\n 9   atletas.status_id           8571 non-null   object\n 10  atletas.pontos_num          8571 non-null   object\n 11  atletas.preco_num           8571 non-null   object\n 12  atletas.variacao_num        8571 non-null   object\n 13  atletas.media_num           8571 non-null   object\n 14  atletas.jogos_num           8571 non-null   object\n 15  atletas.clube.id.full.name  8571 non-null   object\n 16  FF                          2807 non-null   object\n 17  FS                          3960 non-null   object\n 18  G                           1041 non-null   object\n 19  PI                          4964 non-null   object\n 20  CA                          2143 non-null   object\n 21  FC                          4195 non-null   object\n 22  DS                          4173 non-null   object\n 23  FT                          421 non-null    object\n 24  DD                          293 non-null    object\n 25  GS                          309 non-null    object\n 26  FD                          2175 non-null   object\n 27  GC                          43 non-null     object\n 28  SG                          1243 non-null   object\n 29  A                           857 non-null    object\n 30  I                           1167 non-null   object\n 31  CV                          200 non-null    object\n 32  PP                          54 non-null     object\n 33  rodada                      8573 non-null   object\n 34  DP                          22 non-null     object\ndtypes: object(35)\nmemory usage: 2.4+ MB\n"
    }
   ],
   "source": [
    "df_jogadores.info()"
   ]
  },
  {
   "cell_type": "code",
   "execution_count": 388,
   "metadata": {},
   "outputs": [
    {
     "output_type": "execute_result",
     "data": {
      "text/plain": "           date  home_team  away_team  home_score  away_score  round\n117  2020-09-27        354        290         NaN         NaN     12\n118  2020-09-27        373        263         NaN         NaN     12",
      "text/html": "<div>\n<style scoped>\n    .dataframe tbody tr th:only-of-type {\n        vertical-align: middle;\n    }\n\n    .dataframe tbody tr th {\n        vertical-align: top;\n    }\n\n    .dataframe thead th {\n        text-align: right;\n    }\n</style>\n<table border=\"1\" class=\"dataframe\">\n  <thead>\n    <tr style=\"text-align: right;\">\n      <th></th>\n      <th>date</th>\n      <th>home_team</th>\n      <th>away_team</th>\n      <th>home_score</th>\n      <th>away_score</th>\n      <th>round</th>\n    </tr>\n  </thead>\n  <tbody>\n    <tr>\n      <th>117</th>\n      <td>2020-09-27</td>\n      <td>354</td>\n      <td>290</td>\n      <td>NaN</td>\n      <td>NaN</td>\n      <td>12</td>\n    </tr>\n    <tr>\n      <th>118</th>\n      <td>2020-09-27</td>\n      <td>373</td>\n      <td>263</td>\n      <td>NaN</td>\n      <td>NaN</td>\n      <td>12</td>\n    </tr>\n  </tbody>\n</table>\n</div>"
     },
     "metadata": {},
     "execution_count": 388
    }
   ],
   "source": [
    "df_jogos.tail(2)"
   ]
  },
  {
   "cell_type": "code",
   "execution_count": 436,
   "metadata": {
    "tags": []
   },
   "outputs": [
    {
     "output_type": "stream",
     "name": "stdout",
     "text": "<class 'pandas.core.frame.DataFrame'>\nRangeIndex: 119 entries, 0 to 118\nData columns (total 6 columns):\n #   Column      Non-Null Count  Dtype  \n---  ------      --------------  -----  \n 0   date        119 non-null    object \n 1   home_team   119 non-null    int64  \n 2   away_team   119 non-null    int64  \n 3   home_score  103 non-null    float64\n 4   away_score  103 non-null    float64\n 5   round       119 non-null    int64  \ndtypes: float64(2), int64(3), object(1)\nmemory usage: 5.7+ KB\n"
    }
   ],
   "source": [
    "df_jogos.info()"
   ]
  },
  {
   "cell_type": "code",
   "execution_count": 437,
   "metadata": {},
   "outputs": [],
   "source": [
    "# Remover colunas atletas.foto e rodada\n",
    "df_jogadores = df_jogadores.drop(['atletas.foto', 'rodada', 'atletas.slug', 'atletas.nome', 'atletas.clube.id.full.name'], axis=1)"
   ]
  },
  {
   "cell_type": "code",
   "execution_count": 438,
   "metadata": {},
   "outputs": [],
   "source": [
    "# remover linhas cuja coluna rodada_id esteja NaN\n",
    "df_jogadores.dropna(subset=['atletas.rodada_id'], inplace=True)"
   ]
  },
  {
   "cell_type": "code",
   "execution_count": 439,
   "metadata": {},
   "outputs": [],
   "source": [
    " # preencher com 0 colunas NaN\n",
    " df_jogadores.fillna(0, inplace=True)\n",
    " # Remover coluna Unnamed\n",
    " df_jogadores = df_jogadores.loc[:, ~df_jogadores.columns.str.contains('^Unnamed')]"
   ]
  },
  {
   "cell_type": "code",
   "execution_count": 440,
   "metadata": {},
   "outputs": [],
   "source": [
    "# Remover técnicos do dataset\n",
    "df_jogadores = df_jogadores.drop(df_jogadores.loc[df_jogadores['atletas.posicao_id'] == 'tec'].index)"
   ]
  },
  {
   "cell_type": "code",
   "execution_count": 441,
   "metadata": {},
   "outputs": [
    {
     "output_type": "execute_result",
     "data": {
      "text/plain": "(6467, 30)"
     },
     "metadata": {},
     "execution_count": 441
    }
   ],
   "source": [
    "df_jogadores.shape"
   ]
  },
  {
   "cell_type": "code",
   "execution_count": 442,
   "metadata": {},
   "outputs": [
    {
     "output_type": "execute_result",
     "data": {
      "text/plain": "atletas.apelido               0\natletas.atleta_id             0\natletas.rodada_id             0\natletas.clube_id              0\natletas.posicao_id            0\natletas.status_id             0\natletas.pontos_num            0\natletas.preco_num             0\natletas.variacao_num          0\natletas.media_num             0\natletas.jogos_num             0\natletas.clube.id.full.name    0\nFF                            0\nFS                            0\nG                             0\nPI                            0\nCA                            0\nFC                            0\nDS                            0\nFT                            0\nDD                            0\nGS                            0\nFD                            0\nGC                            0\nSG                            0\nA                             0\nI                             0\nCV                            0\nPP                            0\nDP                            0\ndtype: int64"
     },
     "metadata": {},
     "execution_count": 442
    }
   ],
   "source": [
    "# Verificar dados NaN\n",
    "df_jogadores.isna().sum()"
   ]
  },
  {
   "cell_type": "code",
   "execution_count": 443,
   "metadata": {},
   "outputs": [
    {
     "output_type": "execute_result",
     "data": {
      "text/plain": "(119, 6)"
     },
     "metadata": {},
     "execution_count": 443
    }
   ],
   "source": [
    "df_jogos.shape"
   ]
  },
  {
   "cell_type": "code",
   "execution_count": 444,
   "metadata": {},
   "outputs": [
    {
     "output_type": "execute_result",
     "data": {
      "text/plain": "           date  home_team  away_team  home_score  away_score  round\n1    2020-09-30        263        265         NaN         NaN     12\n2    2020-08-09        275        267         NaN         NaN      1\n4    2020-09-30        264        373         NaN         NaN     12\n9    2020-08-09        290        276         NaN         NaN      1\n54   2020-08-29        282        293         NaN         NaN      6\n55   2020-08-30        284        290         NaN         NaN      6\n109  2020-09-28        266        294         NaN         NaN     12\n110  2020-09-27        267        280         NaN         NaN     12\n111  2020-09-27        275        262         NaN         NaN     12\n112  2020-09-27        277        356         NaN         NaN     12\n113  2020-09-26        282        284         NaN         NaN     12\n114  2020-09-26        285        276         NaN         NaN     12\n115  2020-09-23        292        264         NaN         NaN     11\n116  2020-09-26        293        265         NaN         NaN     12\n117  2020-09-27        354        290         NaN         NaN     12\n118  2020-09-27        373        263         NaN         NaN     12",
      "text/html": "<div>\n<style scoped>\n    .dataframe tbody tr th:only-of-type {\n        vertical-align: middle;\n    }\n\n    .dataframe tbody tr th {\n        vertical-align: top;\n    }\n\n    .dataframe thead th {\n        text-align: right;\n    }\n</style>\n<table border=\"1\" class=\"dataframe\">\n  <thead>\n    <tr style=\"text-align: right;\">\n      <th></th>\n      <th>date</th>\n      <th>home_team</th>\n      <th>away_team</th>\n      <th>home_score</th>\n      <th>away_score</th>\n      <th>round</th>\n    </tr>\n  </thead>\n  <tbody>\n    <tr>\n      <th>1</th>\n      <td>2020-09-30</td>\n      <td>263</td>\n      <td>265</td>\n      <td>NaN</td>\n      <td>NaN</td>\n      <td>12</td>\n    </tr>\n    <tr>\n      <th>2</th>\n      <td>2020-08-09</td>\n      <td>275</td>\n      <td>267</td>\n      <td>NaN</td>\n      <td>NaN</td>\n      <td>1</td>\n    </tr>\n    <tr>\n      <th>4</th>\n      <td>2020-09-30</td>\n      <td>264</td>\n      <td>373</td>\n      <td>NaN</td>\n      <td>NaN</td>\n      <td>12</td>\n    </tr>\n    <tr>\n      <th>9</th>\n      <td>2020-08-09</td>\n      <td>290</td>\n      <td>276</td>\n      <td>NaN</td>\n      <td>NaN</td>\n      <td>1</td>\n    </tr>\n    <tr>\n      <th>54</th>\n      <td>2020-08-29</td>\n      <td>282</td>\n      <td>293</td>\n      <td>NaN</td>\n      <td>NaN</td>\n      <td>6</td>\n    </tr>\n    <tr>\n      <th>55</th>\n      <td>2020-08-30</td>\n      <td>284</td>\n      <td>290</td>\n      <td>NaN</td>\n      <td>NaN</td>\n      <td>6</td>\n    </tr>\n    <tr>\n      <th>109</th>\n      <td>2020-09-28</td>\n      <td>266</td>\n      <td>294</td>\n      <td>NaN</td>\n      <td>NaN</td>\n      <td>12</td>\n    </tr>\n    <tr>\n      <th>110</th>\n      <td>2020-09-27</td>\n      <td>267</td>\n      <td>280</td>\n      <td>NaN</td>\n      <td>NaN</td>\n      <td>12</td>\n    </tr>\n    <tr>\n      <th>111</th>\n      <td>2020-09-27</td>\n      <td>275</td>\n      <td>262</td>\n      <td>NaN</td>\n      <td>NaN</td>\n      <td>12</td>\n    </tr>\n    <tr>\n      <th>112</th>\n      <td>2020-09-27</td>\n      <td>277</td>\n      <td>356</td>\n      <td>NaN</td>\n      <td>NaN</td>\n      <td>12</td>\n    </tr>\n    <tr>\n      <th>113</th>\n      <td>2020-09-26</td>\n      <td>282</td>\n      <td>284</td>\n      <td>NaN</td>\n      <td>NaN</td>\n      <td>12</td>\n    </tr>\n    <tr>\n      <th>114</th>\n      <td>2020-09-26</td>\n      <td>285</td>\n      <td>276</td>\n      <td>NaN</td>\n      <td>NaN</td>\n      <td>12</td>\n    </tr>\n    <tr>\n      <th>115</th>\n      <td>2020-09-23</td>\n      <td>292</td>\n      <td>264</td>\n      <td>NaN</td>\n      <td>NaN</td>\n      <td>11</td>\n    </tr>\n    <tr>\n      <th>116</th>\n      <td>2020-09-26</td>\n      <td>293</td>\n      <td>265</td>\n      <td>NaN</td>\n      <td>NaN</td>\n      <td>12</td>\n    </tr>\n    <tr>\n      <th>117</th>\n      <td>2020-09-27</td>\n      <td>354</td>\n      <td>290</td>\n      <td>NaN</td>\n      <td>NaN</td>\n      <td>12</td>\n    </tr>\n    <tr>\n      <th>118</th>\n      <td>2020-09-27</td>\n      <td>373</td>\n      <td>263</td>\n      <td>NaN</td>\n      <td>NaN</td>\n      <td>12</td>\n    </tr>\n  </tbody>\n</table>\n</div>"
     },
     "metadata": {},
     "execution_count": 444
    }
   ],
   "source": [
    "# Verificar dados NaN no dataset das Partidas\n",
    "df_jogos[df_jogos.isna().any(axis=1)]"
   ]
  },
  {
   "cell_type": "code",
   "execution_count": 445,
   "metadata": {},
   "outputs": [],
   "source": [
    "# Remover linhas NaN pelo home score\n",
    "df_jogos.dropna(subset=['home_score'], inplace=True)"
   ]
  },
  {
   "cell_type": "code",
   "execution_count": 454,
   "metadata": {},
   "outputs": [],
   "source": [
    "# Renomear colunas que possuem a número da rodada para rodada_id em ambos dataset\n",
    "df_jogos.rename(columns={'round':'rodada_id'}, inplace=True)\n",
    "df_jogadores.rename(columns={'atletas.rodada_id':'rodada_id'}, inplace=True)"
   ]
  },
  {
   "cell_type": "code",
   "execution_count": 455,
   "metadata": {},
   "outputs": [
    {
     "output_type": "execute_result",
     "data": {
      "text/plain": "    atletas.apelido atletas.atleta_id rodada_id atletas.clube_id  \\\n709    Cayo Tenório            107367         9              267   \n710            Caio             99460         9              293   \n711   Luiz Henrique            109282         9              266   \n\n    atletas.posicao_id atletas.status_id atletas.pontos_num atletas.preco_num  \\\n709                lat              Nulo                  0              4.88   \n710                gol              Nulo                  0                 1   \n711                ata              Nulo                0.2               1.5   \n\n    atletas.variacao_num atletas.media_num  ... DD GS FD GC SG  A  I CV PP DP  \n709                    0              4.33  ...  0  0  1  0  3  0  0  0  0  0  \n710                    0                 0  ...  0  0  0  0  0  0  0  0  0  0  \n711                -0.48              1.01  ...  0  0  0  0  0  0  0  0  0  0  \n\n[3 rows x 30 columns]",
      "text/html": "<div>\n<style scoped>\n    .dataframe tbody tr th:only-of-type {\n        vertical-align: middle;\n    }\n\n    .dataframe tbody tr th {\n        vertical-align: top;\n    }\n\n    .dataframe thead th {\n        text-align: right;\n    }\n</style>\n<table border=\"1\" class=\"dataframe\">\n  <thead>\n    <tr style=\"text-align: right;\">\n      <th></th>\n      <th>atletas.apelido</th>\n      <th>atletas.atleta_id</th>\n      <th>rodada_id</th>\n      <th>atletas.clube_id</th>\n      <th>atletas.posicao_id</th>\n      <th>atletas.status_id</th>\n      <th>atletas.pontos_num</th>\n      <th>atletas.preco_num</th>\n      <th>atletas.variacao_num</th>\n      <th>atletas.media_num</th>\n      <th>...</th>\n      <th>DD</th>\n      <th>GS</th>\n      <th>FD</th>\n      <th>GC</th>\n      <th>SG</th>\n      <th>A</th>\n      <th>I</th>\n      <th>CV</th>\n      <th>PP</th>\n      <th>DP</th>\n    </tr>\n  </thead>\n  <tbody>\n    <tr>\n      <th>709</th>\n      <td>Cayo Tenório</td>\n      <td>107367</td>\n      <td>9</td>\n      <td>267</td>\n      <td>lat</td>\n      <td>Nulo</td>\n      <td>0</td>\n      <td>4.88</td>\n      <td>0</td>\n      <td>4.33</td>\n      <td>...</td>\n      <td>0</td>\n      <td>0</td>\n      <td>1</td>\n      <td>0</td>\n      <td>3</td>\n      <td>0</td>\n      <td>0</td>\n      <td>0</td>\n      <td>0</td>\n      <td>0</td>\n    </tr>\n    <tr>\n      <th>710</th>\n      <td>Caio</td>\n      <td>99460</td>\n      <td>9</td>\n      <td>293</td>\n      <td>gol</td>\n      <td>Nulo</td>\n      <td>0</td>\n      <td>1</td>\n      <td>0</td>\n      <td>0</td>\n      <td>...</td>\n      <td>0</td>\n      <td>0</td>\n      <td>0</td>\n      <td>0</td>\n      <td>0</td>\n      <td>0</td>\n      <td>0</td>\n      <td>0</td>\n      <td>0</td>\n      <td>0</td>\n    </tr>\n    <tr>\n      <th>711</th>\n      <td>Luiz Henrique</td>\n      <td>109282</td>\n      <td>9</td>\n      <td>266</td>\n      <td>ata</td>\n      <td>Nulo</td>\n      <td>0.2</td>\n      <td>1.5</td>\n      <td>-0.48</td>\n      <td>1.01</td>\n      <td>...</td>\n      <td>0</td>\n      <td>0</td>\n      <td>0</td>\n      <td>0</td>\n      <td>0</td>\n      <td>0</td>\n      <td>0</td>\n      <td>0</td>\n      <td>0</td>\n      <td>0</td>\n    </tr>\n  </tbody>\n</table>\n<p>3 rows × 30 columns</p>\n</div>"
     },
     "metadata": {},
     "execution_count": 455
    }
   ],
   "source": [
    "df_jogadores.tail(3)"
   ]
  },
  {
   "cell_type": "code",
   "execution_count": 456,
   "metadata": {
    "tags": []
   },
   "outputs": [],
   "source": [
    "# Procura qual adversário por rodade e atleta\n",
    "def getAdversario(clube_id, rodada_id):\n",
    "    advFora = df_jogos.loc[(df_jogos['home_team'] == clube_id) & (df_jogos['rodada_id'] == rodada_id)]['away_team']\n",
    "    advCasa = df_jogos.loc[(df_jogos['away_team'] == clube_id) & (df_jogos['rodada_id'] == rodada_id)]['home_team']\n",
    "    if (advFora is not None) and (advFora.values > 0):\n",
    "        return int(advFora.values[0])\n",
    "    else :\n",
    "         if (advCasa is not None) and (advCasa.values > 0):\n",
    "               return int(advCasa.values[0])\n"
   ]
  },
  {
   "cell_type": "code",
   "execution_count": 458,
   "metadata": {},
   "outputs": [],
   "source": [
    "# procura se o jogo foi em casa ou f\n",
    "def getJogoForaEmCasa(clube_id, rodada_id):\n",
    "    jogouEmCasa = df_jogos.loc[(df_jogos['home_team'] == clube_id) & (df_jogos['rodada_id'] == rodada_id)]['home_team']\n",
    "    jogouFora = df_jogos.loc[(df_jogos['away_team'] == clube_id) & (df_jogos['rodada_id'] == rodada_id)]['away_team']\n",
    "    if (jogouEmCasa is not None) and (jogouEmCasa.values > 0):\n",
    "        return 0\n",
    "    else :\n",
    "         if (jogouFora is not None) and (jogouFora.values > 0):\n",
    "               return 1\n"
   ]
  },
  {
   "cell_type": "code",
   "execution_count": 459,
   "metadata": {},
   "outputs": [],
   "source": [
    "# Procura qual adversário por rodade e atleta\n",
    "def getGolsFavorJogandoEmCasa(clube_id, rodada_id):\n",
    "    golsFavorCasa = df_partidas.loc[(df_partidas['home_team'] == clube_id) & (df_partidas['rodada_id'] == rodada_id)]['home_score']\n",
    "    if (golsFavorCasa is not None) and (golsFavorCasa.values.size > 0):\n",
    "        return int(golsFavorCasa.values[0])"
   ]
  },
  {
   "cell_type": "code",
   "execution_count": 460,
   "metadata": {},
   "outputs": [],
   "source": [
    "def gerarColunasGols(linha_df):\n",
    "    jogoRealizadoEmCasa = df_jogos.loc[(df_jogos['home_team'] == linha_df['atletas.clube_id']) & (df_jogos['rodada_id'] == linha_df['rodada_id'])]\n",
    "    jogoRealizadoFora = df_jogos.loc[(df_jogos['away_team'] == linha_df['atletas.clube_id']) & (df_jogos['rodada_id'] == linha_df['rodada_id'])]\n",
    "    if not jogoRealizadoEmCasa.empty:\n",
    "        linha_df['golFavor'] = jogoRealizadoEmCasa['home_score'].values[0]\n",
    "        linha_df['golContra'] = jogoRealizadoEmCasa['away_score'].values[0]\n",
    "    else:\n",
    "        if not jogoRealizadoFora.empty:\n",
    "            linha_df['golFavor'] = jogoRealizadoFora['away_score'].values[0]\n",
    "            linha_df['golContra'] = jogoRealizadoFora['home_score'].values[0]\n",
    "    return linha_df\n",
    "        "
   ]
  },
  {
   "cell_type": "code",
   "execution_count": 461,
   "metadata": {
    "tags": []
   },
   "outputs": [],
   "source": [
    "# Gera novas colunas com os gols do time a favor ou contra para cada rodada\n",
    "df_jogadores = df_jogadores.apply(lambda x: gerarColunasGols(x), axis=1)"
   ]
  },
  {
   "cell_type": "code",
   "execution_count": 462,
   "metadata": {
    "tags": []
   },
   "outputs": [],
   "source": [
    "# Adversário do time/jogador\n",
    "df_jogadores['adversario'] = df_jogadores.apply(lambda x: getAdversario(x['atletas.clube_id'], x['rodada_id']), axis=1)"
   ]
  },
  {
   "cell_type": "code",
   "execution_count": 463,
   "metadata": {
    "tags": []
   },
   "outputs": [],
   "source": [
    "# Jogo fora ou em casa\n",
    "df_jogadores['jogoForaOuCasa'] = df_jogadores.apply(lambda x: getJogoForaEmCasa(x['atletas.clube_id'], x['rodada_id']), axis=1)"
   ]
  },
  {
   "cell_type": "code",
   "execution_count": 489,
   "metadata": {},
   "outputs": [
    {
     "output_type": "execute_result",
     "data": {
      "text/plain": "     A CA CV DD DP DS FC FD FF FS FT  G GC GS  I  PI PP SG    atletas.apelido  \\\n658  0  1  0  0  0  5  3  0  1  6  0  0  0  0  0  10  0  0  Lucas Evangelista   \n660  0  1  0  0  0  0  1  0  0  0  0  0  0  0  0   1  0  0              Kawan   \n662  0  0  0  0  0  0  0  0  0  0  0  0  0  0  0   0  0  0   Jeferson Douglas   \n664  0  1  0  0  0  5  1  0  0  2  0  1  0  0  0   2  0  0       Luis Phelipe   \n665  0  0  0  0  0  0  0  0  0  0  0  0  0  0  0   0  0  0          Rodrigues   \n666  0  0  0  0  0  0  0  0  0  0  0  0  0  0  0   0  0  0           Fabrício   \n671  0  0  0  0  0  0  0  0  0  0  0  0  0  0  0   0  0  0      João Fernando   \n672  0  0  0  0  0  0  0  0  0  0  0  0  0  0  0   0  0  0      Lucas Ribeiro   \n673  0  1  0  0  0  7  1  1  0  5  0  0  0  0  0  12  0  2        Neto Borges   \n674  0  0  0  0  0  0  0  0  0  0  0  0  0  0  0   0  0  0   Walisson Pequeno   \n675  0  1  0  0  0  5  4  1  0  2  0  0  0  0  0   3  0  0             Ronald   \n676  0  0  0  0  0  0  0  0  0  0  0  0  0  0  0   0  0  0              Vitão   \n679  0  0  0  0  0  1  3  1  0  1  0  0  0  0  0  26  0  0            Fabinho   \n682  0  0  0  0  0  0  0  0  0  0  0  0  0  0  0   0  0  0    Gabriel Bernard   \n683  1  0  0  0  0  0  0  0  2  0  0  0  0  0  0   9  0  0            Robinho   \n684  0  1  0  0  0  1  0  0  1  0  0  0  0  0  0   8  0  0            Edílson   \n685  0  0  0  0  0  2  1  0  0  2  0  0  0  0  0   1  0  0            Chrigor   \n686  0  0  0  0  0  0  0  0  0  0  0  0  0  0  0   0  0  0      Luiz Henrique   \n687  0  0  0  0  0  2  1  0  0  0  0  0  0  0  0   4  0  0     Abel Hernández   \n688  0  0  0  0  0  2  2  0  0  2  0  0  0  0  1  10  0  0          Fragapane   \n689  0  0  0  0  0  0  0  0  0  0  0  0  0  0  0   0  0  0               Hugo   \n693  0  0  0  0  0  0  0  0  0  0  0  0  0  0  0   0  0  0              Amaya   \n694  0  0  0  0  0  0  0  0  0  0  0  0  0  0  0   0  0  0             Daniel   \n697  0  0  0  0  0  0  0  0  0  0  0  0  0  0  0   0  0  0          Guilherme   \n699  0  0  0  0  0  0  0  0  0  0  0  0  0  0  0   0  0  0         João Lopes   \n702  0  0  0  0  0  0  0  0  0  0  0  0  0  0  0   0  0  0           Ferreira   \n706  0  0  0  0  0  0  1  1  0  0  0  0  0  0  0   1  0  0           Rentería   \n709  0  2  0  0  0  5  5  1  1  7  0  0  0  0  0  17  0  3       Cayo Tenório   \n710  0  0  0  0  0  0  0  0  0  0  0  0  0  0  0   0  0  0               Caio   \n711  0  0  0  0  0  6  4  0  5  1  0  0  0  0  0  14  0  0      Luiz Henrique   \n\n    atletas.atleta_id atletas.clube_id atletas.jogos_num atletas.media_num  \\\n658             84674              280                 5              0.86   \n660            106219              293                 1              -2.6   \n662            109405              265                 0                 0   \n664            104500              280                 3              3.77   \n665            106322              290                 1                 0   \n666            104134              284                 1                 0   \n671            104079              262                 0                 0   \n672            103088              285                 0                 0   \n673            106411              267                 4              4.25   \n674            101696              290                 0                 0   \n675            100969              356                 3              0.97   \n676            109318              354                 0                 0   \n679            101729              293                 3             -0.47   \n682            109618              373                 0                 0   \n683             62104              284                 2              2.85   \n684             38523              290                 1                -1   \n685            101398              280                 1               2.4   \n686            106987              373                 0                 0   \n687             74159              285                 2              0.55   \n688             79262              356                 5               0.1   \n689            109668              263                 0                 0   \n693            109656              285                 0                 0   \n694            107370              266                 0                 0   \n697            109689              266                 0                 0   \n699            105629              266                 0                 0   \n702            101290              284                 0                 0   \n706             95356              263                 1               0.6   \n709            107367              267                 4              4.33   \n710             99460              293                 0                 0   \n711            109282              266                 7              1.01   \n\n    atletas.pontos_num atletas.posicao_id atletas.preco_num atletas.status_id  \\\n658                1.4                mei              3.06              Nulo   \n660                  0                mei              0.72              Nulo   \n662                  0                mei                 1              Nulo   \n664                  0                ata              4.64        Contundido   \n665                  0                lat              1.48              Nulo   \n666                  0                ata              0.77              Nulo   \n671                  0                gol                 1              Nulo   \n672                  0                zag                 4              Nulo   \n673                  0                lat              5.32              Nulo   \n674                  0                mei                 2              Nulo   \n675                 -3                mei              1.37          Provável   \n676                  0                zag                 1              Nulo   \n679                  1                ata              0.77          Provável   \n682                  0                gol                 1              Nulo   \n683                  0                mei              5.01          Provável   \n684                 -1                lat               5.9          Provável   \n685                  0                ata              2.25              Nulo   \n686                  0                lat                 1              Nulo   \n687                1.2                ata              6.86          Provável   \n688                  0                ata              1.59              Nulo   \n689                  0                lat                 1              Nulo   \n693                  0                ata                 1              Nulo   \n694                  0                lat                 1              Nulo   \n697                  0                lat                 1              Nulo   \n699                  0                gol                 2              Nulo   \n702                  0                ata                 3              Nulo   \n706                0.6                mei              5.62              Nulo   \n709                  0                lat              4.88              Nulo   \n710                  0                gol                 1              Nulo   \n711                0.2                ata               1.5              Nulo   \n\n    atletas.variacao_num  golContra  golFavor rodada_id  adversario  \\\n658                 0.26        1.0       1.0         9       276.0   \n660                    0        1.0       1.0         9       263.0   \n662                    0        2.0       0.0         9       284.0   \n664                    0        1.0       1.0         9       276.0   \n665                    0        3.0       3.0         9       294.0   \n666                    0        0.0       2.0         9       265.0   \n671                    0        1.0       2.0         9       266.0   \n672                    0        0.0       2.0         9       354.0   \n673                    0        2.0       1.0         9       373.0   \n674                    0        3.0       3.0         9       294.0   \n675                -1.27        0.0       1.0         9       292.0   \n676                    0        2.0       0.0         9       285.0   \n679                    0        1.0       1.0         9       263.0   \n682                    0        1.0       2.0         9       267.0   \n683                    0        0.0       2.0         9       265.0   \n684                 -2.1        3.0       3.0         9       294.0   \n685                    0        1.0       1.0         9       276.0   \n686                    0        1.0       2.0         9       267.0   \n687                -0.03        0.0       2.0         9       354.0   \n688                    0        0.0       1.0         9       292.0   \n689                    0        1.0       1.0         9       293.0   \n693                    0        0.0       2.0         9       354.0   \n694                    0        2.0       1.0         9       262.0   \n697                    0        2.0       1.0         9       262.0   \n699                    0        2.0       1.0         9       262.0   \n702                    0        0.0       2.0         9       265.0   \n706                -1.38        1.0       1.0         9       293.0   \n709                    0        2.0       1.0         9       373.0   \n710                    0        1.0       1.0         9       263.0   \n711                -0.48        2.0       1.0         9       262.0   \n\n     jogoForaOuCasa  \n658             1.0  \n660             0.0  \n662             0.0  \n664             1.0  \n665             0.0  \n666             1.0  \n671             1.0  \n672             0.0  \n673             0.0  \n674             0.0  \n675             0.0  \n676             1.0  \n679             0.0  \n682             1.0  \n683             1.0  \n684             0.0  \n685             1.0  \n686             1.0  \n687             0.0  \n688             0.0  \n689             1.0  \n693             0.0  \n694             0.0  \n697             0.0  \n699             0.0  \n702             1.0  \n706             1.0  \n709             0.0  \n710             0.0  \n711             0.0  ",
      "text/html": "<div>\n<style scoped>\n    .dataframe tbody tr th:only-of-type {\n        vertical-align: middle;\n    }\n\n    .dataframe tbody tr th {\n        vertical-align: top;\n    }\n\n    .dataframe thead th {\n        text-align: right;\n    }\n</style>\n<table border=\"1\" class=\"dataframe\">\n  <thead>\n    <tr style=\"text-align: right;\">\n      <th></th>\n      <th>A</th>\n      <th>CA</th>\n      <th>CV</th>\n      <th>DD</th>\n      <th>DP</th>\n      <th>DS</th>\n      <th>FC</th>\n      <th>FD</th>\n      <th>FF</th>\n      <th>FS</th>\n      <th>FT</th>\n      <th>G</th>\n      <th>GC</th>\n      <th>GS</th>\n      <th>I</th>\n      <th>PI</th>\n      <th>PP</th>\n      <th>SG</th>\n      <th>atletas.apelido</th>\n      <th>atletas.atleta_id</th>\n      <th>atletas.clube_id</th>\n      <th>atletas.jogos_num</th>\n      <th>atletas.media_num</th>\n      <th>atletas.pontos_num</th>\n      <th>atletas.posicao_id</th>\n      <th>atletas.preco_num</th>\n      <th>atletas.status_id</th>\n      <th>atletas.variacao_num</th>\n      <th>golContra</th>\n      <th>golFavor</th>\n      <th>rodada_id</th>\n      <th>adversario</th>\n      <th>jogoForaOuCasa</th>\n    </tr>\n  </thead>\n  <tbody>\n    <tr>\n      <th>658</th>\n      <td>0</td>\n      <td>1</td>\n      <td>0</td>\n      <td>0</td>\n      <td>0</td>\n      <td>5</td>\n      <td>3</td>\n      <td>0</td>\n      <td>1</td>\n      <td>6</td>\n      <td>0</td>\n      <td>0</td>\n      <td>0</td>\n      <td>0</td>\n      <td>0</td>\n      <td>10</td>\n      <td>0</td>\n      <td>0</td>\n      <td>Lucas Evangelista</td>\n      <td>84674</td>\n      <td>280</td>\n      <td>5</td>\n      <td>0.86</td>\n      <td>1.4</td>\n      <td>mei</td>\n      <td>3.06</td>\n      <td>Nulo</td>\n      <td>0.26</td>\n      <td>1.0</td>\n      <td>1.0</td>\n      <td>9</td>\n      <td>276.0</td>\n      <td>1.0</td>\n    </tr>\n    <tr>\n      <th>660</th>\n      <td>0</td>\n      <td>1</td>\n      <td>0</td>\n      <td>0</td>\n      <td>0</td>\n      <td>0</td>\n      <td>1</td>\n      <td>0</td>\n      <td>0</td>\n      <td>0</td>\n      <td>0</td>\n      <td>0</td>\n      <td>0</td>\n      <td>0</td>\n      <td>0</td>\n      <td>1</td>\n      <td>0</td>\n      <td>0</td>\n      <td>Kawan</td>\n      <td>106219</td>\n      <td>293</td>\n      <td>1</td>\n      <td>-2.6</td>\n      <td>0</td>\n      <td>mei</td>\n      <td>0.72</td>\n      <td>Nulo</td>\n      <td>0</td>\n      <td>1.0</td>\n      <td>1.0</td>\n      <td>9</td>\n      <td>263.0</td>\n      <td>0.0</td>\n    </tr>\n    <tr>\n      <th>662</th>\n      <td>0</td>\n      <td>0</td>\n      <td>0</td>\n      <td>0</td>\n      <td>0</td>\n      <td>0</td>\n      <td>0</td>\n      <td>0</td>\n      <td>0</td>\n      <td>0</td>\n      <td>0</td>\n      <td>0</td>\n      <td>0</td>\n      <td>0</td>\n      <td>0</td>\n      <td>0</td>\n      <td>0</td>\n      <td>0</td>\n      <td>Jeferson Douglas</td>\n      <td>109405</td>\n      <td>265</td>\n      <td>0</td>\n      <td>0</td>\n      <td>0</td>\n      <td>mei</td>\n      <td>1</td>\n      <td>Nulo</td>\n      <td>0</td>\n      <td>2.0</td>\n      <td>0.0</td>\n      <td>9</td>\n      <td>284.0</td>\n      <td>0.0</td>\n    </tr>\n    <tr>\n      <th>664</th>\n      <td>0</td>\n      <td>1</td>\n      <td>0</td>\n      <td>0</td>\n      <td>0</td>\n      <td>5</td>\n      <td>1</td>\n      <td>0</td>\n      <td>0</td>\n      <td>2</td>\n      <td>0</td>\n      <td>1</td>\n      <td>0</td>\n      <td>0</td>\n      <td>0</td>\n      <td>2</td>\n      <td>0</td>\n      <td>0</td>\n      <td>Luis Phelipe</td>\n      <td>104500</td>\n      <td>280</td>\n      <td>3</td>\n      <td>3.77</td>\n      <td>0</td>\n      <td>ata</td>\n      <td>4.64</td>\n      <td>Contundido</td>\n      <td>0</td>\n      <td>1.0</td>\n      <td>1.0</td>\n      <td>9</td>\n      <td>276.0</td>\n      <td>1.0</td>\n    </tr>\n    <tr>\n      <th>665</th>\n      <td>0</td>\n      <td>0</td>\n      <td>0</td>\n      <td>0</td>\n      <td>0</td>\n      <td>0</td>\n      <td>0</td>\n      <td>0</td>\n      <td>0</td>\n      <td>0</td>\n      <td>0</td>\n      <td>0</td>\n      <td>0</td>\n      <td>0</td>\n      <td>0</td>\n      <td>0</td>\n      <td>0</td>\n      <td>0</td>\n      <td>Rodrigues</td>\n      <td>106322</td>\n      <td>290</td>\n      <td>1</td>\n      <td>0</td>\n      <td>0</td>\n      <td>lat</td>\n      <td>1.48</td>\n      <td>Nulo</td>\n      <td>0</td>\n      <td>3.0</td>\n      <td>3.0</td>\n      <td>9</td>\n      <td>294.0</td>\n      <td>0.0</td>\n    </tr>\n    <tr>\n      <th>666</th>\n      <td>0</td>\n      <td>0</td>\n      <td>0</td>\n      <td>0</td>\n      <td>0</td>\n      <td>0</td>\n      <td>0</td>\n      <td>0</td>\n      <td>0</td>\n      <td>0</td>\n      <td>0</td>\n      <td>0</td>\n      <td>0</td>\n      <td>0</td>\n      <td>0</td>\n      <td>0</td>\n      <td>0</td>\n      <td>0</td>\n      <td>Fabrício</td>\n      <td>104134</td>\n      <td>284</td>\n      <td>1</td>\n      <td>0</td>\n      <td>0</td>\n      <td>ata</td>\n      <td>0.77</td>\n      <td>Nulo</td>\n      <td>0</td>\n      <td>0.0</td>\n      <td>2.0</td>\n      <td>9</td>\n      <td>265.0</td>\n      <td>1.0</td>\n    </tr>\n    <tr>\n      <th>671</th>\n      <td>0</td>\n      <td>0</td>\n      <td>0</td>\n      <td>0</td>\n      <td>0</td>\n      <td>0</td>\n      <td>0</td>\n      <td>0</td>\n      <td>0</td>\n      <td>0</td>\n      <td>0</td>\n      <td>0</td>\n      <td>0</td>\n      <td>0</td>\n      <td>0</td>\n      <td>0</td>\n      <td>0</td>\n      <td>0</td>\n      <td>João Fernando</td>\n      <td>104079</td>\n      <td>262</td>\n      <td>0</td>\n      <td>0</td>\n      <td>0</td>\n      <td>gol</td>\n      <td>1</td>\n      <td>Nulo</td>\n      <td>0</td>\n      <td>1.0</td>\n      <td>2.0</td>\n      <td>9</td>\n      <td>266.0</td>\n      <td>1.0</td>\n    </tr>\n    <tr>\n      <th>672</th>\n      <td>0</td>\n      <td>0</td>\n      <td>0</td>\n      <td>0</td>\n      <td>0</td>\n      <td>0</td>\n      <td>0</td>\n      <td>0</td>\n      <td>0</td>\n      <td>0</td>\n      <td>0</td>\n      <td>0</td>\n      <td>0</td>\n      <td>0</td>\n      <td>0</td>\n      <td>0</td>\n      <td>0</td>\n      <td>0</td>\n      <td>Lucas Ribeiro</td>\n      <td>103088</td>\n      <td>285</td>\n      <td>0</td>\n      <td>0</td>\n      <td>0</td>\n      <td>zag</td>\n      <td>4</td>\n      <td>Nulo</td>\n      <td>0</td>\n      <td>0.0</td>\n      <td>2.0</td>\n      <td>9</td>\n      <td>354.0</td>\n      <td>0.0</td>\n    </tr>\n    <tr>\n      <th>673</th>\n      <td>0</td>\n      <td>1</td>\n      <td>0</td>\n      <td>0</td>\n      <td>0</td>\n      <td>7</td>\n      <td>1</td>\n      <td>1</td>\n      <td>0</td>\n      <td>5</td>\n      <td>0</td>\n      <td>0</td>\n      <td>0</td>\n      <td>0</td>\n      <td>0</td>\n      <td>12</td>\n      <td>0</td>\n      <td>2</td>\n      <td>Neto Borges</td>\n      <td>106411</td>\n      <td>267</td>\n      <td>4</td>\n      <td>4.25</td>\n      <td>0</td>\n      <td>lat</td>\n      <td>5.32</td>\n      <td>Nulo</td>\n      <td>0</td>\n      <td>2.0</td>\n      <td>1.0</td>\n      <td>9</td>\n      <td>373.0</td>\n      <td>0.0</td>\n    </tr>\n    <tr>\n      <th>674</th>\n      <td>0</td>\n      <td>0</td>\n      <td>0</td>\n      <td>0</td>\n      <td>0</td>\n      <td>0</td>\n      <td>0</td>\n      <td>0</td>\n      <td>0</td>\n      <td>0</td>\n      <td>0</td>\n      <td>0</td>\n      <td>0</td>\n      <td>0</td>\n      <td>0</td>\n      <td>0</td>\n      <td>0</td>\n      <td>0</td>\n      <td>Walisson Pequeno</td>\n      <td>101696</td>\n      <td>290</td>\n      <td>0</td>\n      <td>0</td>\n      <td>0</td>\n      <td>mei</td>\n      <td>2</td>\n      <td>Nulo</td>\n      <td>0</td>\n      <td>3.0</td>\n      <td>3.0</td>\n      <td>9</td>\n      <td>294.0</td>\n      <td>0.0</td>\n    </tr>\n    <tr>\n      <th>675</th>\n      <td>0</td>\n      <td>1</td>\n      <td>0</td>\n      <td>0</td>\n      <td>0</td>\n      <td>5</td>\n      <td>4</td>\n      <td>1</td>\n      <td>0</td>\n      <td>2</td>\n      <td>0</td>\n      <td>0</td>\n      <td>0</td>\n      <td>0</td>\n      <td>0</td>\n      <td>3</td>\n      <td>0</td>\n      <td>0</td>\n      <td>Ronald</td>\n      <td>100969</td>\n      <td>356</td>\n      <td>3</td>\n      <td>0.97</td>\n      <td>-3</td>\n      <td>mei</td>\n      <td>1.37</td>\n      <td>Provável</td>\n      <td>-1.27</td>\n      <td>0.0</td>\n      <td>1.0</td>\n      <td>9</td>\n      <td>292.0</td>\n      <td>0.0</td>\n    </tr>\n    <tr>\n      <th>676</th>\n      <td>0</td>\n      <td>0</td>\n      <td>0</td>\n      <td>0</td>\n      <td>0</td>\n      <td>0</td>\n      <td>0</td>\n      <td>0</td>\n      <td>0</td>\n      <td>0</td>\n      <td>0</td>\n      <td>0</td>\n      <td>0</td>\n      <td>0</td>\n      <td>0</td>\n      <td>0</td>\n      <td>0</td>\n      <td>0</td>\n      <td>Vitão</td>\n      <td>109318</td>\n      <td>354</td>\n      <td>0</td>\n      <td>0</td>\n      <td>0</td>\n      <td>zag</td>\n      <td>1</td>\n      <td>Nulo</td>\n      <td>0</td>\n      <td>2.0</td>\n      <td>0.0</td>\n      <td>9</td>\n      <td>285.0</td>\n      <td>1.0</td>\n    </tr>\n    <tr>\n      <th>679</th>\n      <td>0</td>\n      <td>0</td>\n      <td>0</td>\n      <td>0</td>\n      <td>0</td>\n      <td>1</td>\n      <td>3</td>\n      <td>1</td>\n      <td>0</td>\n      <td>1</td>\n      <td>0</td>\n      <td>0</td>\n      <td>0</td>\n      <td>0</td>\n      <td>0</td>\n      <td>26</td>\n      <td>0</td>\n      <td>0</td>\n      <td>Fabinho</td>\n      <td>101729</td>\n      <td>293</td>\n      <td>3</td>\n      <td>-0.47</td>\n      <td>1</td>\n      <td>ata</td>\n      <td>0.77</td>\n      <td>Provável</td>\n      <td>0</td>\n      <td>1.0</td>\n      <td>1.0</td>\n      <td>9</td>\n      <td>263.0</td>\n      <td>0.0</td>\n    </tr>\n    <tr>\n      <th>682</th>\n      <td>0</td>\n      <td>0</td>\n      <td>0</td>\n      <td>0</td>\n      <td>0</td>\n      <td>0</td>\n      <td>0</td>\n      <td>0</td>\n      <td>0</td>\n      <td>0</td>\n      <td>0</td>\n      <td>0</td>\n      <td>0</td>\n      <td>0</td>\n      <td>0</td>\n      <td>0</td>\n      <td>0</td>\n      <td>0</td>\n      <td>Gabriel Bernard</td>\n      <td>109618</td>\n      <td>373</td>\n      <td>0</td>\n      <td>0</td>\n      <td>0</td>\n      <td>gol</td>\n      <td>1</td>\n      <td>Nulo</td>\n      <td>0</td>\n      <td>1.0</td>\n      <td>2.0</td>\n      <td>9</td>\n      <td>267.0</td>\n      <td>1.0</td>\n    </tr>\n    <tr>\n      <th>683</th>\n      <td>1</td>\n      <td>0</td>\n      <td>0</td>\n      <td>0</td>\n      <td>0</td>\n      <td>0</td>\n      <td>0</td>\n      <td>0</td>\n      <td>2</td>\n      <td>0</td>\n      <td>0</td>\n      <td>0</td>\n      <td>0</td>\n      <td>0</td>\n      <td>0</td>\n      <td>9</td>\n      <td>0</td>\n      <td>0</td>\n      <td>Robinho</td>\n      <td>62104</td>\n      <td>284</td>\n      <td>2</td>\n      <td>2.85</td>\n      <td>0</td>\n      <td>mei</td>\n      <td>5.01</td>\n      <td>Provável</td>\n      <td>0</td>\n      <td>0.0</td>\n      <td>2.0</td>\n      <td>9</td>\n      <td>265.0</td>\n      <td>1.0</td>\n    </tr>\n    <tr>\n      <th>684</th>\n      <td>0</td>\n      <td>1</td>\n      <td>0</td>\n      <td>0</td>\n      <td>0</td>\n      <td>1</td>\n      <td>0</td>\n      <td>0</td>\n      <td>1</td>\n      <td>0</td>\n      <td>0</td>\n      <td>0</td>\n      <td>0</td>\n      <td>0</td>\n      <td>0</td>\n      <td>8</td>\n      <td>0</td>\n      <td>0</td>\n      <td>Edílson</td>\n      <td>38523</td>\n      <td>290</td>\n      <td>1</td>\n      <td>-1</td>\n      <td>-1</td>\n      <td>lat</td>\n      <td>5.9</td>\n      <td>Provável</td>\n      <td>-2.1</td>\n      <td>3.0</td>\n      <td>3.0</td>\n      <td>9</td>\n      <td>294.0</td>\n      <td>0.0</td>\n    </tr>\n    <tr>\n      <th>685</th>\n      <td>0</td>\n      <td>0</td>\n      <td>0</td>\n      <td>0</td>\n      <td>0</td>\n      <td>2</td>\n      <td>1</td>\n      <td>0</td>\n      <td>0</td>\n      <td>2</td>\n      <td>0</td>\n      <td>0</td>\n      <td>0</td>\n      <td>0</td>\n      <td>0</td>\n      <td>1</td>\n      <td>0</td>\n      <td>0</td>\n      <td>Chrigor</td>\n      <td>101398</td>\n      <td>280</td>\n      <td>1</td>\n      <td>2.4</td>\n      <td>0</td>\n      <td>ata</td>\n      <td>2.25</td>\n      <td>Nulo</td>\n      <td>0</td>\n      <td>1.0</td>\n      <td>1.0</td>\n      <td>9</td>\n      <td>276.0</td>\n      <td>1.0</td>\n    </tr>\n    <tr>\n      <th>686</th>\n      <td>0</td>\n      <td>0</td>\n      <td>0</td>\n      <td>0</td>\n      <td>0</td>\n      <td>0</td>\n      <td>0</td>\n      <td>0</td>\n      <td>0</td>\n      <td>0</td>\n      <td>0</td>\n      <td>0</td>\n      <td>0</td>\n      <td>0</td>\n      <td>0</td>\n      <td>0</td>\n      <td>0</td>\n      <td>0</td>\n      <td>Luiz Henrique</td>\n      <td>106987</td>\n      <td>373</td>\n      <td>0</td>\n      <td>0</td>\n      <td>0</td>\n      <td>lat</td>\n      <td>1</td>\n      <td>Nulo</td>\n      <td>0</td>\n      <td>1.0</td>\n      <td>2.0</td>\n      <td>9</td>\n      <td>267.0</td>\n      <td>1.0</td>\n    </tr>\n    <tr>\n      <th>687</th>\n      <td>0</td>\n      <td>0</td>\n      <td>0</td>\n      <td>0</td>\n      <td>0</td>\n      <td>2</td>\n      <td>1</td>\n      <td>0</td>\n      <td>0</td>\n      <td>0</td>\n      <td>0</td>\n      <td>0</td>\n      <td>0</td>\n      <td>0</td>\n      <td>0</td>\n      <td>4</td>\n      <td>0</td>\n      <td>0</td>\n      <td>Abel Hernández</td>\n      <td>74159</td>\n      <td>285</td>\n      <td>2</td>\n      <td>0.55</td>\n      <td>1.2</td>\n      <td>ata</td>\n      <td>6.86</td>\n      <td>Provável</td>\n      <td>-0.03</td>\n      <td>0.0</td>\n      <td>2.0</td>\n      <td>9</td>\n      <td>354.0</td>\n      <td>0.0</td>\n    </tr>\n    <tr>\n      <th>688</th>\n      <td>0</td>\n      <td>0</td>\n      <td>0</td>\n      <td>0</td>\n      <td>0</td>\n      <td>2</td>\n      <td>2</td>\n      <td>0</td>\n      <td>0</td>\n      <td>2</td>\n      <td>0</td>\n      <td>0</td>\n      <td>0</td>\n      <td>0</td>\n      <td>1</td>\n      <td>10</td>\n      <td>0</td>\n      <td>0</td>\n      <td>Fragapane</td>\n      <td>79262</td>\n      <td>356</td>\n      <td>5</td>\n      <td>0.1</td>\n      <td>0</td>\n      <td>ata</td>\n      <td>1.59</td>\n      <td>Nulo</td>\n      <td>0</td>\n      <td>0.0</td>\n      <td>1.0</td>\n      <td>9</td>\n      <td>292.0</td>\n      <td>0.0</td>\n    </tr>\n    <tr>\n      <th>689</th>\n      <td>0</td>\n      <td>0</td>\n      <td>0</td>\n      <td>0</td>\n      <td>0</td>\n      <td>0</td>\n      <td>0</td>\n      <td>0</td>\n      <td>0</td>\n      <td>0</td>\n      <td>0</td>\n      <td>0</td>\n      <td>0</td>\n      <td>0</td>\n      <td>0</td>\n      <td>0</td>\n      <td>0</td>\n      <td>0</td>\n      <td>Hugo</td>\n      <td>109668</td>\n      <td>263</td>\n      <td>0</td>\n      <td>0</td>\n      <td>0</td>\n      <td>lat</td>\n      <td>1</td>\n      <td>Nulo</td>\n      <td>0</td>\n      <td>1.0</td>\n      <td>1.0</td>\n      <td>9</td>\n      <td>293.0</td>\n      <td>1.0</td>\n    </tr>\n    <tr>\n      <th>693</th>\n      <td>0</td>\n      <td>0</td>\n      <td>0</td>\n      <td>0</td>\n      <td>0</td>\n      <td>0</td>\n      <td>0</td>\n      <td>0</td>\n      <td>0</td>\n      <td>0</td>\n      <td>0</td>\n      <td>0</td>\n      <td>0</td>\n      <td>0</td>\n      <td>0</td>\n      <td>0</td>\n      <td>0</td>\n      <td>0</td>\n      <td>Amaya</td>\n      <td>109656</td>\n      <td>285</td>\n      <td>0</td>\n      <td>0</td>\n      <td>0</td>\n      <td>ata</td>\n      <td>1</td>\n      <td>Nulo</td>\n      <td>0</td>\n      <td>0.0</td>\n      <td>2.0</td>\n      <td>9</td>\n      <td>354.0</td>\n      <td>0.0</td>\n    </tr>\n    <tr>\n      <th>694</th>\n      <td>0</td>\n      <td>0</td>\n      <td>0</td>\n      <td>0</td>\n      <td>0</td>\n      <td>0</td>\n      <td>0</td>\n      <td>0</td>\n      <td>0</td>\n      <td>0</td>\n      <td>0</td>\n      <td>0</td>\n      <td>0</td>\n      <td>0</td>\n      <td>0</td>\n      <td>0</td>\n      <td>0</td>\n      <td>0</td>\n      <td>Daniel</td>\n      <td>107370</td>\n      <td>266</td>\n      <td>0</td>\n      <td>0</td>\n      <td>0</td>\n      <td>lat</td>\n      <td>1</td>\n      <td>Nulo</td>\n      <td>0</td>\n      <td>2.0</td>\n      <td>1.0</td>\n      <td>9</td>\n      <td>262.0</td>\n      <td>0.0</td>\n    </tr>\n    <tr>\n      <th>697</th>\n      <td>0</td>\n      <td>0</td>\n      <td>0</td>\n      <td>0</td>\n      <td>0</td>\n      <td>0</td>\n      <td>0</td>\n      <td>0</td>\n      <td>0</td>\n      <td>0</td>\n      <td>0</td>\n      <td>0</td>\n      <td>0</td>\n      <td>0</td>\n      <td>0</td>\n      <td>0</td>\n      <td>0</td>\n      <td>0</td>\n      <td>Guilherme</td>\n      <td>109689</td>\n      <td>266</td>\n      <td>0</td>\n      <td>0</td>\n      <td>0</td>\n      <td>lat</td>\n      <td>1</td>\n      <td>Nulo</td>\n      <td>0</td>\n      <td>2.0</td>\n      <td>1.0</td>\n      <td>9</td>\n      <td>262.0</td>\n      <td>0.0</td>\n    </tr>\n    <tr>\n      <th>699</th>\n      <td>0</td>\n      <td>0</td>\n      <td>0</td>\n      <td>0</td>\n      <td>0</td>\n      <td>0</td>\n      <td>0</td>\n      <td>0</td>\n      <td>0</td>\n      <td>0</td>\n      <td>0</td>\n      <td>0</td>\n      <td>0</td>\n      <td>0</td>\n      <td>0</td>\n      <td>0</td>\n      <td>0</td>\n      <td>0</td>\n      <td>João Lopes</td>\n      <td>105629</td>\n      <td>266</td>\n      <td>0</td>\n      <td>0</td>\n      <td>0</td>\n      <td>gol</td>\n      <td>2</td>\n      <td>Nulo</td>\n      <td>0</td>\n      <td>2.0</td>\n      <td>1.0</td>\n      <td>9</td>\n      <td>262.0</td>\n      <td>0.0</td>\n    </tr>\n    <tr>\n      <th>702</th>\n      <td>0</td>\n      <td>0</td>\n      <td>0</td>\n      <td>0</td>\n      <td>0</td>\n      <td>0</td>\n      <td>0</td>\n      <td>0</td>\n      <td>0</td>\n      <td>0</td>\n      <td>0</td>\n      <td>0</td>\n      <td>0</td>\n      <td>0</td>\n      <td>0</td>\n      <td>0</td>\n      <td>0</td>\n      <td>0</td>\n      <td>Ferreira</td>\n      <td>101290</td>\n      <td>284</td>\n      <td>0</td>\n      <td>0</td>\n      <td>0</td>\n      <td>ata</td>\n      <td>3</td>\n      <td>Nulo</td>\n      <td>0</td>\n      <td>0.0</td>\n      <td>2.0</td>\n      <td>9</td>\n      <td>265.0</td>\n      <td>1.0</td>\n    </tr>\n    <tr>\n      <th>706</th>\n      <td>0</td>\n      <td>0</td>\n      <td>0</td>\n      <td>0</td>\n      <td>0</td>\n      <td>0</td>\n      <td>1</td>\n      <td>1</td>\n      <td>0</td>\n      <td>0</td>\n      <td>0</td>\n      <td>0</td>\n      <td>0</td>\n      <td>0</td>\n      <td>0</td>\n      <td>1</td>\n      <td>0</td>\n      <td>0</td>\n      <td>Rentería</td>\n      <td>95356</td>\n      <td>263</td>\n      <td>1</td>\n      <td>0.6</td>\n      <td>0.6</td>\n      <td>mei</td>\n      <td>5.62</td>\n      <td>Nulo</td>\n      <td>-1.38</td>\n      <td>1.0</td>\n      <td>1.0</td>\n      <td>9</td>\n      <td>293.0</td>\n      <td>1.0</td>\n    </tr>\n    <tr>\n      <th>709</th>\n      <td>0</td>\n      <td>2</td>\n      <td>0</td>\n      <td>0</td>\n      <td>0</td>\n      <td>5</td>\n      <td>5</td>\n      <td>1</td>\n      <td>1</td>\n      <td>7</td>\n      <td>0</td>\n      <td>0</td>\n      <td>0</td>\n      <td>0</td>\n      <td>0</td>\n      <td>17</td>\n      <td>0</td>\n      <td>3</td>\n      <td>Cayo Tenório</td>\n      <td>107367</td>\n      <td>267</td>\n      <td>4</td>\n      <td>4.33</td>\n      <td>0</td>\n      <td>lat</td>\n      <td>4.88</td>\n      <td>Nulo</td>\n      <td>0</td>\n      <td>2.0</td>\n      <td>1.0</td>\n      <td>9</td>\n      <td>373.0</td>\n      <td>0.0</td>\n    </tr>\n    <tr>\n      <th>710</th>\n      <td>0</td>\n      <td>0</td>\n      <td>0</td>\n      <td>0</td>\n      <td>0</td>\n      <td>0</td>\n      <td>0</td>\n      <td>0</td>\n      <td>0</td>\n      <td>0</td>\n      <td>0</td>\n      <td>0</td>\n      <td>0</td>\n      <td>0</td>\n      <td>0</td>\n      <td>0</td>\n      <td>0</td>\n      <td>0</td>\n      <td>Caio</td>\n      <td>99460</td>\n      <td>293</td>\n      <td>0</td>\n      <td>0</td>\n      <td>0</td>\n      <td>gol</td>\n      <td>1</td>\n      <td>Nulo</td>\n      <td>0</td>\n      <td>1.0</td>\n      <td>1.0</td>\n      <td>9</td>\n      <td>263.0</td>\n      <td>0.0</td>\n    </tr>\n    <tr>\n      <th>711</th>\n      <td>0</td>\n      <td>0</td>\n      <td>0</td>\n      <td>0</td>\n      <td>0</td>\n      <td>6</td>\n      <td>4</td>\n      <td>0</td>\n      <td>5</td>\n      <td>1</td>\n      <td>0</td>\n      <td>0</td>\n      <td>0</td>\n      <td>0</td>\n      <td>0</td>\n      <td>14</td>\n      <td>0</td>\n      <td>0</td>\n      <td>Luiz Henrique</td>\n      <td>109282</td>\n      <td>266</td>\n      <td>7</td>\n      <td>1.01</td>\n      <td>0.2</td>\n      <td>ata</td>\n      <td>1.5</td>\n      <td>Nulo</td>\n      <td>-0.48</td>\n      <td>2.0</td>\n      <td>1.0</td>\n      <td>9</td>\n      <td>262.0</td>\n      <td>0.0</td>\n    </tr>\n  </tbody>\n</table>\n</div>"
     },
     "metadata": {},
     "execution_count": 489
    }
   ],
   "source": [
    "pd.set_option('display.max_columns', None)\n",
    "df_jogadores.tail(30)"
   ]
  },
  {
   "cell_type": "code",
   "execution_count": 488,
   "metadata": {},
   "outputs": [
    {
     "output_type": "execute_result",
     "data": {
      "text/plain": "A                          0\nCA                         0\nCV                         0\nDD                         0\nDP                         0\nDS                         0\nFC                         0\nFD                         0\nFF                         0\nFS                         0\nFT                         0\nG                          0\nGC                         0\nGS                         0\nI                          0\nPI                         0\nPP                         0\nSG                         0\natletas.apelido            0\natletas.atleta_id          0\natletas.clube_id           0\natletas.jogos_num          0\natletas.media_num          0\natletas.pontos_num         0\natletas.posicao_id         0\natletas.preco_num          0\natletas.status_id          0\natletas.variacao_num       0\ngolContra               1710\ngolFavor                1710\nrodada_id                  0\nadversario              1710\njogoForaOuCasa          1710\ndtype: int64"
     },
     "metadata": {},
     "execution_count": 488
    }
   ],
   "source": [
    "df_jogadores.isna().sum()"
   ]
  },
  {
   "cell_type": "code",
   "execution_count": 490,
   "metadata": {},
   "outputs": [],
   "source": [
    "# remover linhas cuja coluna rodada_id esteja NaN\n",
    "df_jogadores.dropna(subset=['adversario'], inplace=True)"
   ]
  },
  {
   "cell_type": "code",
   "execution_count": 491,
   "metadata": {},
   "outputs": [
    {
     "output_type": "execute_result",
     "data": {
      "text/plain": "A                       0\nCA                      0\nCV                      0\nDD                      0\nDP                      0\nDS                      0\nFC                      0\nFD                      0\nFF                      0\nFS                      0\nFT                      0\nG                       0\nGC                      0\nGS                      0\nI                       0\nPI                      0\nPP                      0\nSG                      0\natletas.apelido         0\natletas.atleta_id       0\natletas.clube_id        0\natletas.jogos_num       0\natletas.media_num       0\natletas.pontos_num      0\natletas.posicao_id      0\natletas.preco_num       0\natletas.status_id       0\natletas.variacao_num    0\ngolContra               0\ngolFavor                0\nrodada_id               0\nadversario              0\njogoForaOuCasa          0\ndtype: int64"
     },
     "metadata": {},
     "execution_count": 491
    }
   ],
   "source": [
    "df_jogadores.isna().sum()"
   ]
  },
  {
   "cell_type": "code",
   "execution_count": 492,
   "metadata": {},
   "outputs": [
    {
     "output_type": "execute_result",
     "data": {
      "text/plain": "(4757, 33)"
     },
     "metadata": {},
     "execution_count": 492
    }
   ],
   "source": [
    "df_jogadores.shape"
   ]
  },
  {
   "cell_type": "code",
   "execution_count": 493,
   "metadata": {},
   "outputs": [
    {
     "output_type": "execute_result",
     "data": {
      "text/plain": "    A CA CV DD DP DS FC FD FF FS FT  G GC GS  I  PI PP SG atletas.apelido  \\\n6   0  1  0  0  0  0  1  0  0  0  0  0  0  0  0   1  0  0           Sassá   \n9   0  0  0  0  0  0  0  0  0  0  0  0  0  0  0   0  0  0          Santos   \n11  0  0  0  2  0  0  0  0  0  1  0  0  0  1  0   9  0  0     Diego Alves   \n13  0  0  0  0  0  1  0  0  0  0  0  0  0  0  0   3  0  0    Rodrigo Caio   \n15  0  0  0  0  0  2  2  0  0  1  0  0  1  0  0  12  0  0     Filipe Luís   \n16  0  0  0  0  0  0  0  0  0  1  0  0  0  0  0   2  0  0          Miguel   \n17  0  0  0  0  0  0  0  0  0  0  0  0  0  0  0   0  0  0         Cazares   \n18  0  0  0  0  0  0  0  0  0  0  0  0  0  0  0   0  0  0         Roberto   \n19  0  0  0  0  0  0  0  0  0  0  0  0  0  0  0   0  0  0           Diego   \n21  0  0  0  0  0  5  0  0  0  2  0  0  0  0  0   5  0  1    Igor Rabello   \n\n   atletas.atleta_id atletas.clube_id atletas.jogos_num atletas.media_num  \\\n6              79578              294                 1              -2.6   \n9              69012              293                 0                 0   \n11             38509              262                 1               5.6   \n13             73800              262                 1               0.7   \n15             38750              262                 1              -4.7   \n16            105612              266                 1               0.3   \n17             81682              282                 0                 0   \n18            104086              285                 0                 0   \n19             38909              262                 0                 0   \n21             89493              282                 1              10.5   \n\n   atletas.pontos_num atletas.posicao_id atletas.preco_num atletas.status_id  \\\n6                -2.6                ata              2.46              Nulo   \n9                   0                gol                10          Provável   \n11                5.6                gol             14.21          Provável   \n13                0.7                zag               9.2          Provável   \n15               -4.7                lat              3.84          Provável   \n16                0.3                mei              2.39              Nulo   \n17                  0                mei                12              Nulo   \n18                  0                zag                 2              Nulo   \n19                  0                mei                 8              Nulo   \n21               10.5                zag             13.41          Provável   \n\n   atletas.variacao_num  golContra  golFavor rodada_id  adversario  \\\n6                 -3.54        1.0       0.0         1       285.0   \n9                     0        0.0       2.0         1       356.0   \n11                 0.21        1.0       0.0         1       282.0   \n13                 -2.8        1.0       0.0         1       282.0   \n15                -6.16        1.0       0.0         1       282.0   \n16                -0.61        1.0       0.0         1       284.0   \n17                    0        0.0       1.0         1       262.0   \n18                    0        0.0       1.0         1       294.0   \n19                    0        1.0       0.0         1       282.0   \n21                 5.41        0.0       1.0         1       262.0   \n\n    jogoForaOuCasa  \n6              0.0  \n9              1.0  \n11             0.0  \n13             0.0  \n15             0.0  \n16             1.0  \n17             1.0  \n18             1.0  \n19             0.0  \n21             1.0  ",
      "text/html": "<div>\n<style scoped>\n    .dataframe tbody tr th:only-of-type {\n        vertical-align: middle;\n    }\n\n    .dataframe tbody tr th {\n        vertical-align: top;\n    }\n\n    .dataframe thead th {\n        text-align: right;\n    }\n</style>\n<table border=\"1\" class=\"dataframe\">\n  <thead>\n    <tr style=\"text-align: right;\">\n      <th></th>\n      <th>A</th>\n      <th>CA</th>\n      <th>CV</th>\n      <th>DD</th>\n      <th>DP</th>\n      <th>DS</th>\n      <th>FC</th>\n      <th>FD</th>\n      <th>FF</th>\n      <th>FS</th>\n      <th>FT</th>\n      <th>G</th>\n      <th>GC</th>\n      <th>GS</th>\n      <th>I</th>\n      <th>PI</th>\n      <th>PP</th>\n      <th>SG</th>\n      <th>atletas.apelido</th>\n      <th>atletas.atleta_id</th>\n      <th>atletas.clube_id</th>\n      <th>atletas.jogos_num</th>\n      <th>atletas.media_num</th>\n      <th>atletas.pontos_num</th>\n      <th>atletas.posicao_id</th>\n      <th>atletas.preco_num</th>\n      <th>atletas.status_id</th>\n      <th>atletas.variacao_num</th>\n      <th>golContra</th>\n      <th>golFavor</th>\n      <th>rodada_id</th>\n      <th>adversario</th>\n      <th>jogoForaOuCasa</th>\n    </tr>\n  </thead>\n  <tbody>\n    <tr>\n      <th>6</th>\n      <td>0</td>\n      <td>1</td>\n      <td>0</td>\n      <td>0</td>\n      <td>0</td>\n      <td>0</td>\n      <td>1</td>\n      <td>0</td>\n      <td>0</td>\n      <td>0</td>\n      <td>0</td>\n      <td>0</td>\n      <td>0</td>\n      <td>0</td>\n      <td>0</td>\n      <td>1</td>\n      <td>0</td>\n      <td>0</td>\n      <td>Sassá</td>\n      <td>79578</td>\n      <td>294</td>\n      <td>1</td>\n      <td>-2.6</td>\n      <td>-2.6</td>\n      <td>ata</td>\n      <td>2.46</td>\n      <td>Nulo</td>\n      <td>-3.54</td>\n      <td>1.0</td>\n      <td>0.0</td>\n      <td>1</td>\n      <td>285.0</td>\n      <td>0.0</td>\n    </tr>\n    <tr>\n      <th>9</th>\n      <td>0</td>\n      <td>0</td>\n      <td>0</td>\n      <td>0</td>\n      <td>0</td>\n      <td>0</td>\n      <td>0</td>\n      <td>0</td>\n      <td>0</td>\n      <td>0</td>\n      <td>0</td>\n      <td>0</td>\n      <td>0</td>\n      <td>0</td>\n      <td>0</td>\n      <td>0</td>\n      <td>0</td>\n      <td>0</td>\n      <td>Santos</td>\n      <td>69012</td>\n      <td>293</td>\n      <td>0</td>\n      <td>0</td>\n      <td>0</td>\n      <td>gol</td>\n      <td>10</td>\n      <td>Provável</td>\n      <td>0</td>\n      <td>0.0</td>\n      <td>2.0</td>\n      <td>1</td>\n      <td>356.0</td>\n      <td>1.0</td>\n    </tr>\n    <tr>\n      <th>11</th>\n      <td>0</td>\n      <td>0</td>\n      <td>0</td>\n      <td>2</td>\n      <td>0</td>\n      <td>0</td>\n      <td>0</td>\n      <td>0</td>\n      <td>0</td>\n      <td>1</td>\n      <td>0</td>\n      <td>0</td>\n      <td>0</td>\n      <td>1</td>\n      <td>0</td>\n      <td>9</td>\n      <td>0</td>\n      <td>0</td>\n      <td>Diego Alves</td>\n      <td>38509</td>\n      <td>262</td>\n      <td>1</td>\n      <td>5.6</td>\n      <td>5.6</td>\n      <td>gol</td>\n      <td>14.21</td>\n      <td>Provável</td>\n      <td>0.21</td>\n      <td>1.0</td>\n      <td>0.0</td>\n      <td>1</td>\n      <td>282.0</td>\n      <td>0.0</td>\n    </tr>\n    <tr>\n      <th>13</th>\n      <td>0</td>\n      <td>0</td>\n      <td>0</td>\n      <td>0</td>\n      <td>0</td>\n      <td>1</td>\n      <td>0</td>\n      <td>0</td>\n      <td>0</td>\n      <td>0</td>\n      <td>0</td>\n      <td>0</td>\n      <td>0</td>\n      <td>0</td>\n      <td>0</td>\n      <td>3</td>\n      <td>0</td>\n      <td>0</td>\n      <td>Rodrigo Caio</td>\n      <td>73800</td>\n      <td>262</td>\n      <td>1</td>\n      <td>0.7</td>\n      <td>0.7</td>\n      <td>zag</td>\n      <td>9.2</td>\n      <td>Provável</td>\n      <td>-2.8</td>\n      <td>1.0</td>\n      <td>0.0</td>\n      <td>1</td>\n      <td>282.0</td>\n      <td>0.0</td>\n    </tr>\n    <tr>\n      <th>15</th>\n      <td>0</td>\n      <td>0</td>\n      <td>0</td>\n      <td>0</td>\n      <td>0</td>\n      <td>2</td>\n      <td>2</td>\n      <td>0</td>\n      <td>0</td>\n      <td>1</td>\n      <td>0</td>\n      <td>0</td>\n      <td>1</td>\n      <td>0</td>\n      <td>0</td>\n      <td>12</td>\n      <td>0</td>\n      <td>0</td>\n      <td>Filipe Luís</td>\n      <td>38750</td>\n      <td>262</td>\n      <td>1</td>\n      <td>-4.7</td>\n      <td>-4.7</td>\n      <td>lat</td>\n      <td>3.84</td>\n      <td>Provável</td>\n      <td>-6.16</td>\n      <td>1.0</td>\n      <td>0.0</td>\n      <td>1</td>\n      <td>282.0</td>\n      <td>0.0</td>\n    </tr>\n    <tr>\n      <th>16</th>\n      <td>0</td>\n      <td>0</td>\n      <td>0</td>\n      <td>0</td>\n      <td>0</td>\n      <td>0</td>\n      <td>0</td>\n      <td>0</td>\n      <td>0</td>\n      <td>1</td>\n      <td>0</td>\n      <td>0</td>\n      <td>0</td>\n      <td>0</td>\n      <td>0</td>\n      <td>2</td>\n      <td>0</td>\n      <td>0</td>\n      <td>Miguel</td>\n      <td>105612</td>\n      <td>266</td>\n      <td>1</td>\n      <td>0.3</td>\n      <td>0.3</td>\n      <td>mei</td>\n      <td>2.39</td>\n      <td>Nulo</td>\n      <td>-0.61</td>\n      <td>1.0</td>\n      <td>0.0</td>\n      <td>1</td>\n      <td>284.0</td>\n      <td>1.0</td>\n    </tr>\n    <tr>\n      <th>17</th>\n      <td>0</td>\n      <td>0</td>\n      <td>0</td>\n      <td>0</td>\n      <td>0</td>\n      <td>0</td>\n      <td>0</td>\n      <td>0</td>\n      <td>0</td>\n      <td>0</td>\n      <td>0</td>\n      <td>0</td>\n      <td>0</td>\n      <td>0</td>\n      <td>0</td>\n      <td>0</td>\n      <td>0</td>\n      <td>0</td>\n      <td>Cazares</td>\n      <td>81682</td>\n      <td>282</td>\n      <td>0</td>\n      <td>0</td>\n      <td>0</td>\n      <td>mei</td>\n      <td>12</td>\n      <td>Nulo</td>\n      <td>0</td>\n      <td>0.0</td>\n      <td>1.0</td>\n      <td>1</td>\n      <td>262.0</td>\n      <td>1.0</td>\n    </tr>\n    <tr>\n      <th>18</th>\n      <td>0</td>\n      <td>0</td>\n      <td>0</td>\n      <td>0</td>\n      <td>0</td>\n      <td>0</td>\n      <td>0</td>\n      <td>0</td>\n      <td>0</td>\n      <td>0</td>\n      <td>0</td>\n      <td>0</td>\n      <td>0</td>\n      <td>0</td>\n      <td>0</td>\n      <td>0</td>\n      <td>0</td>\n      <td>0</td>\n      <td>Roberto</td>\n      <td>104086</td>\n      <td>285</td>\n      <td>0</td>\n      <td>0</td>\n      <td>0</td>\n      <td>zag</td>\n      <td>2</td>\n      <td>Nulo</td>\n      <td>0</td>\n      <td>0.0</td>\n      <td>1.0</td>\n      <td>1</td>\n      <td>294.0</td>\n      <td>1.0</td>\n    </tr>\n    <tr>\n      <th>19</th>\n      <td>0</td>\n      <td>0</td>\n      <td>0</td>\n      <td>0</td>\n      <td>0</td>\n      <td>0</td>\n      <td>0</td>\n      <td>0</td>\n      <td>0</td>\n      <td>0</td>\n      <td>0</td>\n      <td>0</td>\n      <td>0</td>\n      <td>0</td>\n      <td>0</td>\n      <td>0</td>\n      <td>0</td>\n      <td>0</td>\n      <td>Diego</td>\n      <td>38909</td>\n      <td>262</td>\n      <td>0</td>\n      <td>0</td>\n      <td>0</td>\n      <td>mei</td>\n      <td>8</td>\n      <td>Nulo</td>\n      <td>0</td>\n      <td>1.0</td>\n      <td>0.0</td>\n      <td>1</td>\n      <td>282.0</td>\n      <td>0.0</td>\n    </tr>\n    <tr>\n      <th>21</th>\n      <td>0</td>\n      <td>0</td>\n      <td>0</td>\n      <td>0</td>\n      <td>0</td>\n      <td>5</td>\n      <td>0</td>\n      <td>0</td>\n      <td>0</td>\n      <td>2</td>\n      <td>0</td>\n      <td>0</td>\n      <td>0</td>\n      <td>0</td>\n      <td>0</td>\n      <td>5</td>\n      <td>0</td>\n      <td>1</td>\n      <td>Igor Rabello</td>\n      <td>89493</td>\n      <td>282</td>\n      <td>1</td>\n      <td>10.5</td>\n      <td>10.5</td>\n      <td>zag</td>\n      <td>13.41</td>\n      <td>Provável</td>\n      <td>5.41</td>\n      <td>0.0</td>\n      <td>1.0</td>\n      <td>1</td>\n      <td>262.0</td>\n      <td>1.0</td>\n    </tr>\n  </tbody>\n</table>\n</div>"
     },
     "metadata": {},
     "execution_count": 493
    }
   ],
   "source": [
    "df_jogadores.head(10)"
   ]
  },
  {
   "cell_type": "markdown",
   "metadata": {},
   "source": [
    "<hr>"
   ]
  },
  {
   "cell_type": "markdown",
   "metadata": {},
   "source": [
    "### Análise Descritiva\n",
    "A análise de dados descritiva apresenta a separação e os tipos das características bem como quais colunas possuem valores vazios. Além de apresentar uma visão resumida da distribuição do dataset."
   ]
  },
  {
   "cell_type": "markdown",
   "metadata": {},
   "source": [
    "#### Features categóricas x numéricas\n",
    "- categóricas:\n",
    "    - nominal: ``TARGET``\n",
    "\n",
    "- numéricas: \n",
    "    - continua: ``LAT``, ``LONG``\n",
    "    - discreta: ``Movimentação``, ``Original_473``, ``Original_269``, ``Zero``, ``Maçã-Verde``, ``Tangerina``, ``Citrus``, ``Açaí-Guaraná``, ``Pêssego``,``row``\n",
    " \n",
    "\n"
   ]
  },
  {
   "cell_type": "markdown",
   "metadata": {},
   "source": [
    "#### Tipos das características\n",
    "\n",
    "- Float: 2 \n",
    "- Int64: 10\n",
    "- Objetos: 3 (Strings)\n",
    "\n",
    "\n",
    "#### Dados faltantas / nulos\n",
    "- Não existem dados faltantes no dataset"
   ]
  },
  {
   "cell_type": "code",
   "execution_count": 5,
   "metadata": {
    "tags": []
   },
   "outputs": [
    {
     "output_type": "stream",
     "name": "stdout",
     "text": "<class 'pandas.core.frame.DataFrame'>\nRangeIndex: 17016 entries, 0 to 17015\nData columns (total 14 columns):\n #   Column        Non-Null Count  Dtype  \n---  ------        --------------  -----  \n 0   Tempo         17016 non-null  object \n 1   Estação       17016 non-null  object \n 2   LAT           17016 non-null  float64\n 3   LONG          17016 non-null  float64\n 4   Movimentação  17016 non-null  int64  \n 5   Original_473  17016 non-null  int64  \n 6   Original_269  17016 non-null  int64  \n 7   Zero          17016 non-null  int64  \n 8   Maçã-Verde    17016 non-null  int64  \n 9   Tangerina     17016 non-null  int64  \n 10  Citrus        17016 non-null  int64  \n 11  Açaí-Guaraná  17016 non-null  int64  \n 12  Pêssego       17016 non-null  int64  \n 13  TARGET        17016 non-null  object \ndtypes: float64(2), int64(9), object(3)\nmemory usage: 1.8+ MB\n"
    }
   ],
   "source": [
    "#Informações gerais\n",
    "df.info()"
   ]
  },
  {
   "cell_type": "markdown",
   "metadata": {},
   "source": [
    "<hr>"
   ]
  },
  {
   "cell_type": "markdown",
   "metadata": {},
   "source": [
    "#### Distribuição numérica\n",
    "- ``Original_473`` tem apróximadamente uma média 46 un.\n",
    "- ``Original_473``,``Original_269``,``Zero`` já tiveram o mínimo de 0 un."
   ]
  },
  {
   "cell_type": "code",
   "execution_count": 6,
   "metadata": {},
   "outputs": [
    {
     "output_type": "execute_result",
     "data": {
      "text/plain": "                LAT          LONG   Movimentação  Original_473  Original_269  \\\ncount  17016.000000  17016.000000   17016.000000  17016.000000  17016.000000   \nmean     -23.572574    -46.652468   67674.478843     46.827045     36.036495   \nstd        0.026361      0.033325   43791.284669     25.539867     18.787358   \nmin      -23.626300    -46.725200   13592.000000      0.000000      0.000000   \n25%      -23.589500    -46.682300   33312.500000     25.000000     20.000000   \n50%      -23.566400    -46.648200   64194.500000     47.000000     36.000000   \n75%      -23.550000    -46.634600   89933.500000     68.000000     52.000000   \nmax      -23.536500    -46.576500  195294.000000     86.000000     65.000000   \n\n               Zero    Maçã-Verde     Tangerina        Citrus  Açaí-Guaraná  \\\ncount  17016.000000  17016.000000  17016.000000  17016.000000  17016.000000   \nmean      35.640691     24.339739     23.885696     24.428185     23.863540   \nstd       19.124799     12.089773     12.345912     12.072112     12.347261   \nmin        0.000000      1.000000      1.000000      1.000000      1.000000   \n25%       19.000000     14.000000     13.000000     14.000000     13.000000   \n50%       36.000000     24.000000     24.000000     25.000000     24.000000   \n75%       52.000000     35.000000     35.000000     35.000000     35.000000   \nmax       65.000000     43.000000     43.000000     43.000000     43.000000   \n\n            Pêssego  \ncount  17016.000000  \nmean      23.904502  \nstd       12.308680  \nmin        1.000000  \n25%       13.000000  \n50%       24.000000  \n75%       35.000000  \nmax       43.000000  ",
      "text/html": "<div>\n<style scoped>\n    .dataframe tbody tr th:only-of-type {\n        vertical-align: middle;\n    }\n\n    .dataframe tbody tr th {\n        vertical-align: top;\n    }\n\n    .dataframe thead th {\n        text-align: right;\n    }\n</style>\n<table border=\"1\" class=\"dataframe\">\n  <thead>\n    <tr style=\"text-align: right;\">\n      <th></th>\n      <th>LAT</th>\n      <th>LONG</th>\n      <th>Movimentação</th>\n      <th>Original_473</th>\n      <th>Original_269</th>\n      <th>Zero</th>\n      <th>Maçã-Verde</th>\n      <th>Tangerina</th>\n      <th>Citrus</th>\n      <th>Açaí-Guaraná</th>\n      <th>Pêssego</th>\n    </tr>\n  </thead>\n  <tbody>\n    <tr>\n      <th>count</th>\n      <td>17016.000000</td>\n      <td>17016.000000</td>\n      <td>17016.000000</td>\n      <td>17016.000000</td>\n      <td>17016.000000</td>\n      <td>17016.000000</td>\n      <td>17016.000000</td>\n      <td>17016.000000</td>\n      <td>17016.000000</td>\n      <td>17016.000000</td>\n      <td>17016.000000</td>\n    </tr>\n    <tr>\n      <th>mean</th>\n      <td>-23.572574</td>\n      <td>-46.652468</td>\n      <td>67674.478843</td>\n      <td>46.827045</td>\n      <td>36.036495</td>\n      <td>35.640691</td>\n      <td>24.339739</td>\n      <td>23.885696</td>\n      <td>24.428185</td>\n      <td>23.863540</td>\n      <td>23.904502</td>\n    </tr>\n    <tr>\n      <th>std</th>\n      <td>0.026361</td>\n      <td>0.033325</td>\n      <td>43791.284669</td>\n      <td>25.539867</td>\n      <td>18.787358</td>\n      <td>19.124799</td>\n      <td>12.089773</td>\n      <td>12.345912</td>\n      <td>12.072112</td>\n      <td>12.347261</td>\n      <td>12.308680</td>\n    </tr>\n    <tr>\n      <th>min</th>\n      <td>-23.626300</td>\n      <td>-46.725200</td>\n      <td>13592.000000</td>\n      <td>0.000000</td>\n      <td>0.000000</td>\n      <td>0.000000</td>\n      <td>1.000000</td>\n      <td>1.000000</td>\n      <td>1.000000</td>\n      <td>1.000000</td>\n      <td>1.000000</td>\n    </tr>\n    <tr>\n      <th>25%</th>\n      <td>-23.589500</td>\n      <td>-46.682300</td>\n      <td>33312.500000</td>\n      <td>25.000000</td>\n      <td>20.000000</td>\n      <td>19.000000</td>\n      <td>14.000000</td>\n      <td>13.000000</td>\n      <td>14.000000</td>\n      <td>13.000000</td>\n      <td>13.000000</td>\n    </tr>\n    <tr>\n      <th>50%</th>\n      <td>-23.566400</td>\n      <td>-46.648200</td>\n      <td>64194.500000</td>\n      <td>47.000000</td>\n      <td>36.000000</td>\n      <td>36.000000</td>\n      <td>24.000000</td>\n      <td>24.000000</td>\n      <td>25.000000</td>\n      <td>24.000000</td>\n      <td>24.000000</td>\n    </tr>\n    <tr>\n      <th>75%</th>\n      <td>-23.550000</td>\n      <td>-46.634600</td>\n      <td>89933.500000</td>\n      <td>68.000000</td>\n      <td>52.000000</td>\n      <td>52.000000</td>\n      <td>35.000000</td>\n      <td>35.000000</td>\n      <td>35.000000</td>\n      <td>35.000000</td>\n      <td>35.000000</td>\n    </tr>\n    <tr>\n      <th>max</th>\n      <td>-23.536500</td>\n      <td>-46.576500</td>\n      <td>195294.000000</td>\n      <td>86.000000</td>\n      <td>65.000000</td>\n      <td>65.000000</td>\n      <td>43.000000</td>\n      <td>43.000000</td>\n      <td>43.000000</td>\n      <td>43.000000</td>\n      <td>43.000000</td>\n    </tr>\n  </tbody>\n</table>\n</div>"
     },
     "metadata": {},
     "execution_count": 6
    }
   ],
   "source": [
    "#Describe das variáveis numéricias\n",
    "df.describe()"
   ]
  },
  {
   "cell_type": "markdown",
   "metadata": {},
   "source": [
    "#### Distribuição categórica\n",
    "- A ``Estação`` Ana Rosa é a que mais possui registros\n",
    "- No dia 24/08/2018 foi registrado a maior quantidade de registros (``tempo``)\n",
    "- O maior quantidade ``target`` é o Normal "
   ]
  },
  {
   "cell_type": "code",
   "execution_count": 7,
   "metadata": {},
   "outputs": [
    {
     "output_type": "execute_result",
     "data": {
      "text/plain": "            Tempo   Estação  TARGET\ncount       17016     17016   17016\nunique        720        25       2\ntop     2018-8-24  Ana Rosa  NORMAL\nfreq           24       720   11518",
      "text/html": "<div>\n<style scoped>\n    .dataframe tbody tr th:only-of-type {\n        vertical-align: middle;\n    }\n\n    .dataframe tbody tr th {\n        vertical-align: top;\n    }\n\n    .dataframe thead th {\n        text-align: right;\n    }\n</style>\n<table border=\"1\" class=\"dataframe\">\n  <thead>\n    <tr style=\"text-align: right;\">\n      <th></th>\n      <th>Tempo</th>\n      <th>Estação</th>\n      <th>TARGET</th>\n    </tr>\n  </thead>\n  <tbody>\n    <tr>\n      <th>count</th>\n      <td>17016</td>\n      <td>17016</td>\n      <td>17016</td>\n    </tr>\n    <tr>\n      <th>unique</th>\n      <td>720</td>\n      <td>25</td>\n      <td>2</td>\n    </tr>\n    <tr>\n      <th>top</th>\n      <td>2018-8-24</td>\n      <td>Ana Rosa</td>\n      <td>NORMAL</td>\n    </tr>\n    <tr>\n      <th>freq</th>\n      <td>24</td>\n      <td>720</td>\n      <td>11518</td>\n    </tr>\n  </tbody>\n</table>\n</div>"
     },
     "metadata": {},
     "execution_count": 7
    }
   ],
   "source": [
    "#Describe das variáveis categóricas\n",
    "df.describe(include=['O'])"
   ]
  },
  {
   "cell_type": "markdown",
   "metadata": {},
   "source": [
    "<hr>\n"
   ]
  },
  {
   "cell_type": "markdown",
   "metadata": {},
   "source": [
    "### Análise por características cruzadas\n",
    "\n",
    "#### Features categóricas\n"
   ]
  },
  {
   "cell_type": "code",
   "execution_count": 8,
   "metadata": {},
   "outputs": [
    {
     "output_type": "execute_result",
     "data": {
      "text/plain": "NORMAL         11518\nREABASTECER     5498\nName: TARGET, dtype: int64"
     },
     "metadata": {},
     "execution_count": 8
    }
   ],
   "source": [
    "#Total de registros por target\n",
    "df['TARGET'].value_counts()"
   ]
  },
  {
   "cell_type": "markdown",
   "metadata": {},
   "source": [
    "<hr>"
   ]
  },
  {
   "cell_type": "markdown",
   "metadata": {},
   "source": [
    "### Análise por visualização de dados\n",
    "Visualização para melhor interpretação e identificação de possíveis outliers."
   ]
  },
  {
   "cell_type": "markdown",
   "metadata": {},
   "source": [
    "<hr>"
   ]
  },
  {
   "cell_type": "markdown",
   "metadata": {},
   "source": [
    "## Correção e Limpeza dos dados\n",
    "\n",
    "### Desições tomadas após análise\n",
    "\n",
    "- Remover as colunas ``row``, ``movimentacao``\n",
    "- Adicionar mais amostras ao ``TARGET`` REABASTECER\n",
    "- Visualizar matriz de correlação após correções."
   ]
  },
  {
   "cell_type": "markdown",
   "metadata": {},
   "source": [
    "### Pre-processando o dataset antes do treinamento"
   ]
  },
  {
   "cell_type": "code",
   "execution_count": 192,
   "metadata": {},
   "outputs": [],
   "source": [
    "df = pd.read_csv('dataset.csv')\n",
    "df_teste = pd.read_csv('to_be_scored.csv')"
   ]
  },
  {
   "cell_type": "code",
   "execution_count": 193,
   "metadata": {},
   "outputs": [],
   "source": [
    "#total geral de unidades por linha\n",
    "df['total_un'] = df.apply(lambda x: (x['Original_473'] + x['Original_269'] + x['Zero'] + x['Maçã-Verde'] + x['Tangerina'] + x['Citrus'] + x['Açaí-Guaraná'] + x['Pêssego'] ), axis=1)\n",
    "df.loc[df['Tempo'] == '2018-2-30', 'Tempo'] = '2018-2-28'\n",
    "df.loc[df['Tempo'] == '2018-2-29', 'Tempo'] = '2018-2-28'\n",
    "df.loc[df['Tempo'] == '2019-2-30', 'Tempo'] = '2019-2-28'\n",
    "df.loc[df['Tempo'] == '2019-2-29', 'Tempo'] = '2019-2-28'\n",
    "df['Tempo'] = pd.to_datetime(df['Tempo'])\n"
   ]
  },
  {
   "cell_type": "code",
   "execution_count": 194,
   "metadata": {
    "tags": []
   },
   "outputs": [],
   "source": [
    "#Ajuste das labels\n",
    "df = df.sort_values(['Estação','Tempo']).reset_index(drop=True)\n",
    "for row in range(1, len(df)):\n",
    "    if (row < 17014) and (df.loc[row, 'TARGET'] == 'NORMAL') and (df.loc[row+1, 'total_un'] > df.loc[row, 'total_un']):\n",
    "        df.loc[row, 'TARGET'] = 'REABASTECER'\n"
   ]
  },
  {
   "cell_type": "code",
   "execution_count": 195,
   "metadata": {},
   "outputs": [
    {
     "output_type": "execute_result",
     "data": {
      "text/plain": "           LAT     LONG  Original_473  Original_269  Zero  Maçã-Verde  \\\n0     -23.5813 -46.6383            86            65    65          43   \n1     -23.5813 -46.6383            75            60    55          41   \n2     -23.5813 -46.6383            68            54    45          38   \n3     -23.5813 -46.6383            57            45    37          37   \n4     -23.5813 -46.6383            45            42    30          36   \n...        ...      ...           ...           ...   ...         ...   \n17011 -23.5895 -46.6346            34            25    65           7   \n17012 -23.5895 -46.6346            26            15    61           6   \n17013 -23.5895 -46.6346            13             8    53          43   \n17014 -23.5895 -46.6346             5            65    48          42   \n17015 -23.5895 -46.6346            86            63    38          42   \n\n       Tangerina  Citrus  Açaí-Guaraná  Pêssego       TARGET  total_un  \n0             43      43            43       43       NORMAL       431  \n1             37      43            37       37       NORMAL       385  \n2             31      40            31       31       NORMAL       338  \n3             25      35            25       29       NORMAL       290  \n4             23      32            20       24       NORMAL       252  \n...          ...     ...           ...      ...          ...       ...  \n17011         38       9             1       17  REABASTECER       196  \n17012         34       5            43       11  REABASTECER       201  \n17013         30      43            41        8  REABASTECER       239  \n17014         24      39            36        3       NORMAL       262  \n17015         21      35            32       43       NORMAL       360  \n\n[17016 rows x 12 columns]",
      "text/html": "<div>\n<style scoped>\n    .dataframe tbody tr th:only-of-type {\n        vertical-align: middle;\n    }\n\n    .dataframe tbody tr th {\n        vertical-align: top;\n    }\n\n    .dataframe thead th {\n        text-align: right;\n    }\n</style>\n<table border=\"1\" class=\"dataframe\">\n  <thead>\n    <tr style=\"text-align: right;\">\n      <th></th>\n      <th>LAT</th>\n      <th>LONG</th>\n      <th>Original_473</th>\n      <th>Original_269</th>\n      <th>Zero</th>\n      <th>Maçã-Verde</th>\n      <th>Tangerina</th>\n      <th>Citrus</th>\n      <th>Açaí-Guaraná</th>\n      <th>Pêssego</th>\n      <th>TARGET</th>\n      <th>total_un</th>\n    </tr>\n  </thead>\n  <tbody>\n    <tr>\n      <th>0</th>\n      <td>-23.5813</td>\n      <td>-46.6383</td>\n      <td>86</td>\n      <td>65</td>\n      <td>65</td>\n      <td>43</td>\n      <td>43</td>\n      <td>43</td>\n      <td>43</td>\n      <td>43</td>\n      <td>NORMAL</td>\n      <td>431</td>\n    </tr>\n    <tr>\n      <th>1</th>\n      <td>-23.5813</td>\n      <td>-46.6383</td>\n      <td>75</td>\n      <td>60</td>\n      <td>55</td>\n      <td>41</td>\n      <td>37</td>\n      <td>43</td>\n      <td>37</td>\n      <td>37</td>\n      <td>NORMAL</td>\n      <td>385</td>\n    </tr>\n    <tr>\n      <th>2</th>\n      <td>-23.5813</td>\n      <td>-46.6383</td>\n      <td>68</td>\n      <td>54</td>\n      <td>45</td>\n      <td>38</td>\n      <td>31</td>\n      <td>40</td>\n      <td>31</td>\n      <td>31</td>\n      <td>NORMAL</td>\n      <td>338</td>\n    </tr>\n    <tr>\n      <th>3</th>\n      <td>-23.5813</td>\n      <td>-46.6383</td>\n      <td>57</td>\n      <td>45</td>\n      <td>37</td>\n      <td>37</td>\n      <td>25</td>\n      <td>35</td>\n      <td>25</td>\n      <td>29</td>\n      <td>NORMAL</td>\n      <td>290</td>\n    </tr>\n    <tr>\n      <th>4</th>\n      <td>-23.5813</td>\n      <td>-46.6383</td>\n      <td>45</td>\n      <td>42</td>\n      <td>30</td>\n      <td>36</td>\n      <td>23</td>\n      <td>32</td>\n      <td>20</td>\n      <td>24</td>\n      <td>NORMAL</td>\n      <td>252</td>\n    </tr>\n    <tr>\n      <th>...</th>\n      <td>...</td>\n      <td>...</td>\n      <td>...</td>\n      <td>...</td>\n      <td>...</td>\n      <td>...</td>\n      <td>...</td>\n      <td>...</td>\n      <td>...</td>\n      <td>...</td>\n      <td>...</td>\n      <td>...</td>\n    </tr>\n    <tr>\n      <th>17011</th>\n      <td>-23.5895</td>\n      <td>-46.6346</td>\n      <td>34</td>\n      <td>25</td>\n      <td>65</td>\n      <td>7</td>\n      <td>38</td>\n      <td>9</td>\n      <td>1</td>\n      <td>17</td>\n      <td>REABASTECER</td>\n      <td>196</td>\n    </tr>\n    <tr>\n      <th>17012</th>\n      <td>-23.5895</td>\n      <td>-46.6346</td>\n      <td>26</td>\n      <td>15</td>\n      <td>61</td>\n      <td>6</td>\n      <td>34</td>\n      <td>5</td>\n      <td>43</td>\n      <td>11</td>\n      <td>REABASTECER</td>\n      <td>201</td>\n    </tr>\n    <tr>\n      <th>17013</th>\n      <td>-23.5895</td>\n      <td>-46.6346</td>\n      <td>13</td>\n      <td>8</td>\n      <td>53</td>\n      <td>43</td>\n      <td>30</td>\n      <td>43</td>\n      <td>41</td>\n      <td>8</td>\n      <td>REABASTECER</td>\n      <td>239</td>\n    </tr>\n    <tr>\n      <th>17014</th>\n      <td>-23.5895</td>\n      <td>-46.6346</td>\n      <td>5</td>\n      <td>65</td>\n      <td>48</td>\n      <td>42</td>\n      <td>24</td>\n      <td>39</td>\n      <td>36</td>\n      <td>3</td>\n      <td>NORMAL</td>\n      <td>262</td>\n    </tr>\n    <tr>\n      <th>17015</th>\n      <td>-23.5895</td>\n      <td>-46.6346</td>\n      <td>86</td>\n      <td>63</td>\n      <td>38</td>\n      <td>42</td>\n      <td>21</td>\n      <td>35</td>\n      <td>32</td>\n      <td>43</td>\n      <td>NORMAL</td>\n      <td>360</td>\n    </tr>\n  </tbody>\n</table>\n<p>17016 rows × 12 columns</p>\n</div>"
     },
     "metadata": {},
     "execution_count": 195
    }
   ],
   "source": [
    "df = df.drop(['Tempo', 'Estação', 'Movimentação'],  axis=1)\n",
    "df"
   ]
  },
  {
   "cell_type": "markdown",
   "metadata": {},
   "source": [
    "### Ajuste do DataFrame de Teste"
   ]
  },
  {
   "cell_type": "code",
   "execution_count": 197,
   "metadata": {},
   "outputs": [
    {
     "output_type": "execute_result",
     "data": {
      "text/plain": "        LAT     LONG  Original_473  Original_269  Zero  Maçã-Verde  Tangerina  \\\n0  -23.5489 -46.6388            22            65    22          14          3   \n1  -23.5489 -46.6388            11            56    16          14         43   \n2  -23.5489 -46.6388            86            51     8          11         41   \n3  -23.5489 -46.6388            76            47    65          11         37   \n4  -23.5489 -46.6388            68            42    60           6         35   \n5  -23.5489 -46.6388            57            35    55          43         31   \n6  -23.5489 -46.6388            45            33    50          39         25   \n7  -23.5489 -46.6388            34            28    41          39         22   \n8  -23.5489 -46.6388            22            24    31          35         18   \n9  -23.5489 -46.6388             9            16    26          33         13   \n10 -23.5489 -46.6388            86            12    22          29          8   \n11 -23.5489 -46.6388            75            10    12          25          2   \n12 -23.5489 -46.6388            67             0     3          21         43   \n13 -23.5489 -46.6388            59            65    65          20         38   \n14 -23.5489 -46.6388            50            63    56          18         32   \n15 -23.5489 -46.6388            39            59    48          12         30   \n16 -23.5489 -46.6388            26            50    44           7         27   \n17 -23.5489 -46.6388            15            45    39           3         25   \n18 -23.5489 -46.6388             7            35    31          43         21   \n19 -23.5489 -46.6388            86            27    21          39         17   \n20 -23.5489 -46.6388            78            17    11          35         11   \n21 -23.5489 -46.6388            65            12     7          34          9   \n22 -23.5489 -46.6388            57             3    65          28          4   \n23 -23.5489 -46.6388            47            65    55          24         43   \n24 -23.5489 -46.6388            37            62    46          21         40   \n25 -23.5489 -46.6388            28            60    37          15         36   \n26 -23.5489 -46.6388            16            52    30          10         31   \n27 -23.5489 -46.6388             8            43    25          10         29   \n28 -23.5489 -46.6388            86            39    19           4         24   \n29 -23.5489 -46.6388            78            33     9          43         20   \n30 -23.5489 -46.6388            67            27    65          43         17   \n31 -23.5489 -46.6388            57            21    61          43         12   \n32 -23.5489 -46.6388            45            17    57          38          9   \n33 -23.5489 -46.6388            34            15    53          32          5   \n34 -23.5489 -46.6388            23            13    45          31         43   \n35 -23.5489 -46.6388            10             6    39          26         39   \n36 -23.5489 -46.6388            86            65    35          25         35   \n37 -23.5489 -46.6388            74            56    25          25         33   \n38 -23.5489 -46.6388            63            50    16          24         30   \n39 -23.5489 -46.6388            54            40    11          20         28   \n40 -23.5489 -46.6388            47            38     2          20         23   \n41 -23.5489 -46.6388            35            32    65          18         20   \n42 -23.5489 -46.6388            28            25    59          18         14   \n43 -23.5489 -46.6388            21            18    52          14          9   \n44 -23.5489 -46.6388             8            14    43           9          6   \n45 -23.5489 -46.6388            86             5    34           5         43   \n46 -23.5489 -46.6388            79            65    28          43         37   \n47 -23.5489 -46.6388            70            61    20          38         35   \n48 -23.5489 -46.6388            62            51    16          36         33   \n49 -23.5489 -46.6388            49            41    11          34         30   \n\n    Citrus  Açaí-Guaraná  Pêssego  total_un  \n0       26            43       18       213  \n1       20            37       15       212  \n2       20            35       12       264  \n3       14            32       10       292  \n4       13            26        5       255  \n5        9            22       43       295  \n6        5            16       39       252  \n7       43            13       34       254  \n8       40             8       29       207  \n9       38             4       24       163  \n10      37            43       20       257  \n11      35            39       14       212  \n12      34            33        9       210  \n13      34            27        3       311  \n14      34            25       43       321  \n15      30            20       37       275  \n16      30            14       34       232  \n17      25             8       29       189  \n18      20             2       27       186  \n19      19            43       21       273  \n20      17            38       19       226  \n21      16            32       14       189  \n22      13            30       10       210  \n23      12            25        4       275  \n24       9            21       43       279  \n25       9            16       39       240  \n26       4            12       33       188  \n27      43             9       29       196  \n28      41             3       24       240  \n29      36            43       21       283  \n30      33            37       18       307  \n31      33            31       16       274  \n32      29            27       10       232  \n33      29            21        6       195  \n34      25            15       43       238  \n35      24            13       38       195  \n36      22             7       36       311  \n37      21             3       30       267  \n38      15            43       24       265  \n39      12            40       21       226  \n40       6            36       18       190  \n41      43            34       12       259  \n42      40            28        8       220  \n43      36            24        5       179  \n44      32            21       43       176  \n45      30            18       40       261  \n46      29            12       34       327  \n47      26            10       30       290  \n48      26             6       28       258  \n49      26            43       22       256  ",
      "text/html": "<div>\n<style scoped>\n    .dataframe tbody tr th:only-of-type {\n        vertical-align: middle;\n    }\n\n    .dataframe tbody tr th {\n        vertical-align: top;\n    }\n\n    .dataframe thead th {\n        text-align: right;\n    }\n</style>\n<table border=\"1\" class=\"dataframe\">\n  <thead>\n    <tr style=\"text-align: right;\">\n      <th></th>\n      <th>LAT</th>\n      <th>LONG</th>\n      <th>Original_473</th>\n      <th>Original_269</th>\n      <th>Zero</th>\n      <th>Maçã-Verde</th>\n      <th>Tangerina</th>\n      <th>Citrus</th>\n      <th>Açaí-Guaraná</th>\n      <th>Pêssego</th>\n      <th>total_un</th>\n    </tr>\n  </thead>\n  <tbody>\n    <tr>\n      <th>0</th>\n      <td>-23.5489</td>\n      <td>-46.6388</td>\n      <td>22</td>\n      <td>65</td>\n      <td>22</td>\n      <td>14</td>\n      <td>3</td>\n      <td>26</td>\n      <td>43</td>\n      <td>18</td>\n      <td>213</td>\n    </tr>\n    <tr>\n      <th>1</th>\n      <td>-23.5489</td>\n      <td>-46.6388</td>\n      <td>11</td>\n      <td>56</td>\n      <td>16</td>\n      <td>14</td>\n      <td>43</td>\n      <td>20</td>\n      <td>37</td>\n      <td>15</td>\n      <td>212</td>\n    </tr>\n    <tr>\n      <th>2</th>\n      <td>-23.5489</td>\n      <td>-46.6388</td>\n      <td>86</td>\n      <td>51</td>\n      <td>8</td>\n      <td>11</td>\n      <td>41</td>\n      <td>20</td>\n      <td>35</td>\n      <td>12</td>\n      <td>264</td>\n    </tr>\n    <tr>\n      <th>3</th>\n      <td>-23.5489</td>\n      <td>-46.6388</td>\n      <td>76</td>\n      <td>47</td>\n      <td>65</td>\n      <td>11</td>\n      <td>37</td>\n      <td>14</td>\n      <td>32</td>\n      <td>10</td>\n      <td>292</td>\n    </tr>\n    <tr>\n      <th>4</th>\n      <td>-23.5489</td>\n      <td>-46.6388</td>\n      <td>68</td>\n      <td>42</td>\n      <td>60</td>\n      <td>6</td>\n      <td>35</td>\n      <td>13</td>\n      <td>26</td>\n      <td>5</td>\n      <td>255</td>\n    </tr>\n    <tr>\n      <th>5</th>\n      <td>-23.5489</td>\n      <td>-46.6388</td>\n      <td>57</td>\n      <td>35</td>\n      <td>55</td>\n      <td>43</td>\n      <td>31</td>\n      <td>9</td>\n      <td>22</td>\n      <td>43</td>\n      <td>295</td>\n    </tr>\n    <tr>\n      <th>6</th>\n      <td>-23.5489</td>\n      <td>-46.6388</td>\n      <td>45</td>\n      <td>33</td>\n      <td>50</td>\n      <td>39</td>\n      <td>25</td>\n      <td>5</td>\n      <td>16</td>\n      <td>39</td>\n      <td>252</td>\n    </tr>\n    <tr>\n      <th>7</th>\n      <td>-23.5489</td>\n      <td>-46.6388</td>\n      <td>34</td>\n      <td>28</td>\n      <td>41</td>\n      <td>39</td>\n      <td>22</td>\n      <td>43</td>\n      <td>13</td>\n      <td>34</td>\n      <td>254</td>\n    </tr>\n    <tr>\n      <th>8</th>\n      <td>-23.5489</td>\n      <td>-46.6388</td>\n      <td>22</td>\n      <td>24</td>\n      <td>31</td>\n      <td>35</td>\n      <td>18</td>\n      <td>40</td>\n      <td>8</td>\n      <td>29</td>\n      <td>207</td>\n    </tr>\n    <tr>\n      <th>9</th>\n      <td>-23.5489</td>\n      <td>-46.6388</td>\n      <td>9</td>\n      <td>16</td>\n      <td>26</td>\n      <td>33</td>\n      <td>13</td>\n      <td>38</td>\n      <td>4</td>\n      <td>24</td>\n      <td>163</td>\n    </tr>\n    <tr>\n      <th>10</th>\n      <td>-23.5489</td>\n      <td>-46.6388</td>\n      <td>86</td>\n      <td>12</td>\n      <td>22</td>\n      <td>29</td>\n      <td>8</td>\n      <td>37</td>\n      <td>43</td>\n      <td>20</td>\n      <td>257</td>\n    </tr>\n    <tr>\n      <th>11</th>\n      <td>-23.5489</td>\n      <td>-46.6388</td>\n      <td>75</td>\n      <td>10</td>\n      <td>12</td>\n      <td>25</td>\n      <td>2</td>\n      <td>35</td>\n      <td>39</td>\n      <td>14</td>\n      <td>212</td>\n    </tr>\n    <tr>\n      <th>12</th>\n      <td>-23.5489</td>\n      <td>-46.6388</td>\n      <td>67</td>\n      <td>0</td>\n      <td>3</td>\n      <td>21</td>\n      <td>43</td>\n      <td>34</td>\n      <td>33</td>\n      <td>9</td>\n      <td>210</td>\n    </tr>\n    <tr>\n      <th>13</th>\n      <td>-23.5489</td>\n      <td>-46.6388</td>\n      <td>59</td>\n      <td>65</td>\n      <td>65</td>\n      <td>20</td>\n      <td>38</td>\n      <td>34</td>\n      <td>27</td>\n      <td>3</td>\n      <td>311</td>\n    </tr>\n    <tr>\n      <th>14</th>\n      <td>-23.5489</td>\n      <td>-46.6388</td>\n      <td>50</td>\n      <td>63</td>\n      <td>56</td>\n      <td>18</td>\n      <td>32</td>\n      <td>34</td>\n      <td>25</td>\n      <td>43</td>\n      <td>321</td>\n    </tr>\n    <tr>\n      <th>15</th>\n      <td>-23.5489</td>\n      <td>-46.6388</td>\n      <td>39</td>\n      <td>59</td>\n      <td>48</td>\n      <td>12</td>\n      <td>30</td>\n      <td>30</td>\n      <td>20</td>\n      <td>37</td>\n      <td>275</td>\n    </tr>\n    <tr>\n      <th>16</th>\n      <td>-23.5489</td>\n      <td>-46.6388</td>\n      <td>26</td>\n      <td>50</td>\n      <td>44</td>\n      <td>7</td>\n      <td>27</td>\n      <td>30</td>\n      <td>14</td>\n      <td>34</td>\n      <td>232</td>\n    </tr>\n    <tr>\n      <th>17</th>\n      <td>-23.5489</td>\n      <td>-46.6388</td>\n      <td>15</td>\n      <td>45</td>\n      <td>39</td>\n      <td>3</td>\n      <td>25</td>\n      <td>25</td>\n      <td>8</td>\n      <td>29</td>\n      <td>189</td>\n    </tr>\n    <tr>\n      <th>18</th>\n      <td>-23.5489</td>\n      <td>-46.6388</td>\n      <td>7</td>\n      <td>35</td>\n      <td>31</td>\n      <td>43</td>\n      <td>21</td>\n      <td>20</td>\n      <td>2</td>\n      <td>27</td>\n      <td>186</td>\n    </tr>\n    <tr>\n      <th>19</th>\n      <td>-23.5489</td>\n      <td>-46.6388</td>\n      <td>86</td>\n      <td>27</td>\n      <td>21</td>\n      <td>39</td>\n      <td>17</td>\n      <td>19</td>\n      <td>43</td>\n      <td>21</td>\n      <td>273</td>\n    </tr>\n    <tr>\n      <th>20</th>\n      <td>-23.5489</td>\n      <td>-46.6388</td>\n      <td>78</td>\n      <td>17</td>\n      <td>11</td>\n      <td>35</td>\n      <td>11</td>\n      <td>17</td>\n      <td>38</td>\n      <td>19</td>\n      <td>226</td>\n    </tr>\n    <tr>\n      <th>21</th>\n      <td>-23.5489</td>\n      <td>-46.6388</td>\n      <td>65</td>\n      <td>12</td>\n      <td>7</td>\n      <td>34</td>\n      <td>9</td>\n      <td>16</td>\n      <td>32</td>\n      <td>14</td>\n      <td>189</td>\n    </tr>\n    <tr>\n      <th>22</th>\n      <td>-23.5489</td>\n      <td>-46.6388</td>\n      <td>57</td>\n      <td>3</td>\n      <td>65</td>\n      <td>28</td>\n      <td>4</td>\n      <td>13</td>\n      <td>30</td>\n      <td>10</td>\n      <td>210</td>\n    </tr>\n    <tr>\n      <th>23</th>\n      <td>-23.5489</td>\n      <td>-46.6388</td>\n      <td>47</td>\n      <td>65</td>\n      <td>55</td>\n      <td>24</td>\n      <td>43</td>\n      <td>12</td>\n      <td>25</td>\n      <td>4</td>\n      <td>275</td>\n    </tr>\n    <tr>\n      <th>24</th>\n      <td>-23.5489</td>\n      <td>-46.6388</td>\n      <td>37</td>\n      <td>62</td>\n      <td>46</td>\n      <td>21</td>\n      <td>40</td>\n      <td>9</td>\n      <td>21</td>\n      <td>43</td>\n      <td>279</td>\n    </tr>\n    <tr>\n      <th>25</th>\n      <td>-23.5489</td>\n      <td>-46.6388</td>\n      <td>28</td>\n      <td>60</td>\n      <td>37</td>\n      <td>15</td>\n      <td>36</td>\n      <td>9</td>\n      <td>16</td>\n      <td>39</td>\n      <td>240</td>\n    </tr>\n    <tr>\n      <th>26</th>\n      <td>-23.5489</td>\n      <td>-46.6388</td>\n      <td>16</td>\n      <td>52</td>\n      <td>30</td>\n      <td>10</td>\n      <td>31</td>\n      <td>4</td>\n      <td>12</td>\n      <td>33</td>\n      <td>188</td>\n    </tr>\n    <tr>\n      <th>27</th>\n      <td>-23.5489</td>\n      <td>-46.6388</td>\n      <td>8</td>\n      <td>43</td>\n      <td>25</td>\n      <td>10</td>\n      <td>29</td>\n      <td>43</td>\n      <td>9</td>\n      <td>29</td>\n      <td>196</td>\n    </tr>\n    <tr>\n      <th>28</th>\n      <td>-23.5489</td>\n      <td>-46.6388</td>\n      <td>86</td>\n      <td>39</td>\n      <td>19</td>\n      <td>4</td>\n      <td>24</td>\n      <td>41</td>\n      <td>3</td>\n      <td>24</td>\n      <td>240</td>\n    </tr>\n    <tr>\n      <th>29</th>\n      <td>-23.5489</td>\n      <td>-46.6388</td>\n      <td>78</td>\n      <td>33</td>\n      <td>9</td>\n      <td>43</td>\n      <td>20</td>\n      <td>36</td>\n      <td>43</td>\n      <td>21</td>\n      <td>283</td>\n    </tr>\n    <tr>\n      <th>30</th>\n      <td>-23.5489</td>\n      <td>-46.6388</td>\n      <td>67</td>\n      <td>27</td>\n      <td>65</td>\n      <td>43</td>\n      <td>17</td>\n      <td>33</td>\n      <td>37</td>\n      <td>18</td>\n      <td>307</td>\n    </tr>\n    <tr>\n      <th>31</th>\n      <td>-23.5489</td>\n      <td>-46.6388</td>\n      <td>57</td>\n      <td>21</td>\n      <td>61</td>\n      <td>43</td>\n      <td>12</td>\n      <td>33</td>\n      <td>31</td>\n      <td>16</td>\n      <td>274</td>\n    </tr>\n    <tr>\n      <th>32</th>\n      <td>-23.5489</td>\n      <td>-46.6388</td>\n      <td>45</td>\n      <td>17</td>\n      <td>57</td>\n      <td>38</td>\n      <td>9</td>\n      <td>29</td>\n      <td>27</td>\n      <td>10</td>\n      <td>232</td>\n    </tr>\n    <tr>\n      <th>33</th>\n      <td>-23.5489</td>\n      <td>-46.6388</td>\n      <td>34</td>\n      <td>15</td>\n      <td>53</td>\n      <td>32</td>\n      <td>5</td>\n      <td>29</td>\n      <td>21</td>\n      <td>6</td>\n      <td>195</td>\n    </tr>\n    <tr>\n      <th>34</th>\n      <td>-23.5489</td>\n      <td>-46.6388</td>\n      <td>23</td>\n      <td>13</td>\n      <td>45</td>\n      <td>31</td>\n      <td>43</td>\n      <td>25</td>\n      <td>15</td>\n      <td>43</td>\n      <td>238</td>\n    </tr>\n    <tr>\n      <th>35</th>\n      <td>-23.5489</td>\n      <td>-46.6388</td>\n      <td>10</td>\n      <td>6</td>\n      <td>39</td>\n      <td>26</td>\n      <td>39</td>\n      <td>24</td>\n      <td>13</td>\n      <td>38</td>\n      <td>195</td>\n    </tr>\n    <tr>\n      <th>36</th>\n      <td>-23.5489</td>\n      <td>-46.6388</td>\n      <td>86</td>\n      <td>65</td>\n      <td>35</td>\n      <td>25</td>\n      <td>35</td>\n      <td>22</td>\n      <td>7</td>\n      <td>36</td>\n      <td>311</td>\n    </tr>\n    <tr>\n      <th>37</th>\n      <td>-23.5489</td>\n      <td>-46.6388</td>\n      <td>74</td>\n      <td>56</td>\n      <td>25</td>\n      <td>25</td>\n      <td>33</td>\n      <td>21</td>\n      <td>3</td>\n      <td>30</td>\n      <td>267</td>\n    </tr>\n    <tr>\n      <th>38</th>\n      <td>-23.5489</td>\n      <td>-46.6388</td>\n      <td>63</td>\n      <td>50</td>\n      <td>16</td>\n      <td>24</td>\n      <td>30</td>\n      <td>15</td>\n      <td>43</td>\n      <td>24</td>\n      <td>265</td>\n    </tr>\n    <tr>\n      <th>39</th>\n      <td>-23.5489</td>\n      <td>-46.6388</td>\n      <td>54</td>\n      <td>40</td>\n      <td>11</td>\n      <td>20</td>\n      <td>28</td>\n      <td>12</td>\n      <td>40</td>\n      <td>21</td>\n      <td>226</td>\n    </tr>\n    <tr>\n      <th>40</th>\n      <td>-23.5489</td>\n      <td>-46.6388</td>\n      <td>47</td>\n      <td>38</td>\n      <td>2</td>\n      <td>20</td>\n      <td>23</td>\n      <td>6</td>\n      <td>36</td>\n      <td>18</td>\n      <td>190</td>\n    </tr>\n    <tr>\n      <th>41</th>\n      <td>-23.5489</td>\n      <td>-46.6388</td>\n      <td>35</td>\n      <td>32</td>\n      <td>65</td>\n      <td>18</td>\n      <td>20</td>\n      <td>43</td>\n      <td>34</td>\n      <td>12</td>\n      <td>259</td>\n    </tr>\n    <tr>\n      <th>42</th>\n      <td>-23.5489</td>\n      <td>-46.6388</td>\n      <td>28</td>\n      <td>25</td>\n      <td>59</td>\n      <td>18</td>\n      <td>14</td>\n      <td>40</td>\n      <td>28</td>\n      <td>8</td>\n      <td>220</td>\n    </tr>\n    <tr>\n      <th>43</th>\n      <td>-23.5489</td>\n      <td>-46.6388</td>\n      <td>21</td>\n      <td>18</td>\n      <td>52</td>\n      <td>14</td>\n      <td>9</td>\n      <td>36</td>\n      <td>24</td>\n      <td>5</td>\n      <td>179</td>\n    </tr>\n    <tr>\n      <th>44</th>\n      <td>-23.5489</td>\n      <td>-46.6388</td>\n      <td>8</td>\n      <td>14</td>\n      <td>43</td>\n      <td>9</td>\n      <td>6</td>\n      <td>32</td>\n      <td>21</td>\n      <td>43</td>\n      <td>176</td>\n    </tr>\n    <tr>\n      <th>45</th>\n      <td>-23.5489</td>\n      <td>-46.6388</td>\n      <td>86</td>\n      <td>5</td>\n      <td>34</td>\n      <td>5</td>\n      <td>43</td>\n      <td>30</td>\n      <td>18</td>\n      <td>40</td>\n      <td>261</td>\n    </tr>\n    <tr>\n      <th>46</th>\n      <td>-23.5489</td>\n      <td>-46.6388</td>\n      <td>79</td>\n      <td>65</td>\n      <td>28</td>\n      <td>43</td>\n      <td>37</td>\n      <td>29</td>\n      <td>12</td>\n      <td>34</td>\n      <td>327</td>\n    </tr>\n    <tr>\n      <th>47</th>\n      <td>-23.5489</td>\n      <td>-46.6388</td>\n      <td>70</td>\n      <td>61</td>\n      <td>20</td>\n      <td>38</td>\n      <td>35</td>\n      <td>26</td>\n      <td>10</td>\n      <td>30</td>\n      <td>290</td>\n    </tr>\n    <tr>\n      <th>48</th>\n      <td>-23.5489</td>\n      <td>-46.6388</td>\n      <td>62</td>\n      <td>51</td>\n      <td>16</td>\n      <td>36</td>\n      <td>33</td>\n      <td>26</td>\n      <td>6</td>\n      <td>28</td>\n      <td>258</td>\n    </tr>\n    <tr>\n      <th>49</th>\n      <td>-23.5489</td>\n      <td>-46.6388</td>\n      <td>49</td>\n      <td>41</td>\n      <td>11</td>\n      <td>34</td>\n      <td>30</td>\n      <td>26</td>\n      <td>43</td>\n      <td>22</td>\n      <td>256</td>\n    </tr>\n  </tbody>\n</table>\n</div>"
     },
     "metadata": {},
     "execution_count": 197
    }
   ],
   "source": [
    "#total geral de unidades por linha\n",
    "df_teste['total_un'] = df_teste.apply(lambda x: (x['Original_473'] + x['Original_269'] + x['Zero'] + x['Maçã-Verde'] + x['Tangerina'] + x['Citrus'] + x['Açaí-Guaraná'] + x['Pêssego'] ), axis=1)\n",
    "df_teste = df_teste.drop(['Tempo', 'Estação', 'Movimentação'],  axis=1)\n",
    "df_teste.head(50)\n"
   ]
  },
  {
   "cell_type": "code",
   "execution_count": 198,
   "metadata": {},
   "outputs": [],
   "source": [
    "X_train = df.drop(\"TARGET\", axis=1)\n",
    "Y_train = df[\"TARGET\"]\n",
    "X_test = df_teste"
   ]
  },
  {
   "cell_type": "code",
   "execution_count": 200,
   "metadata": {},
   "outputs": [],
   "source": [
    "#Balanceamento das classes com menos registros no dataset treino\n",
    "smt = SMOTE()\n",
    "X_train, Y_train = smt.fit_sample(X_train,Y_train)"
   ]
  },
  {
   "cell_type": "code",
   "execution_count": 201,
   "metadata": {},
   "outputs": [],
   "source": [
    "#Normalização dos dados\n",
    "sc = StandardScaler()\n",
    "X_train = sc.fit_transform(X_train)\n",
    "X_test = sc.transform(X_test)\n"
   ]
  },
  {
   "cell_type": "markdown",
   "metadata": {},
   "source": [
    "### Treinando um classificador com base em no modelo Random Forest"
   ]
  },
  {
   "cell_type": "code",
   "execution_count": 212,
   "metadata": {
    "tags": []
   },
   "outputs": [],
   "source": [
    "#Algorítomo Machine Learning \n",
    "random_forest = RandomForestClassifier(n_estimators=80, max_depth=11, max_features=5, bootstrap=True, min_samples_leaf=3, min_samples_split=7)\n",
    "random_forest.fit(X_train, Y_train)\n",
    "Y_pred = random_forest.predict(X_test)\n",
    "\n",
    "#importantes = pd.DataFrame(random_forest.feature_importances_, index= X_train.columns, columns=['importance']).sort_values('importance', ascending=False)\n",
    "#importantes\n",
    "# Acurácia alcançada pela árvore de decisão\n",
    "#print(\"Acurácia: {}%\".format(100*round(accuracy_score(y_test, Y_pred), 2)))"
   ]
  },
  {
   "cell_type": "code",
   "execution_count": 213,
   "metadata": {
    "tags": []
   },
   "outputs": [
    {
     "output_type": "execute_result",
     "data": {
      "text/plain": "96.04"
     },
     "metadata": {},
     "execution_count": 213
    }
   ],
   "source": [
    "# Acurácia alcançada pela árvore de decisão\n",
    "round(random_forest.score(X_train, Y_train) * 100, 2)"
   ]
  },
  {
   "cell_type": "markdown",
   "metadata": {},
   "source": [
    "### Submissão"
   ]
  },
  {
   "cell_type": "code",
   "execution_count": 210,
   "metadata": {},
   "outputs": [
    {
     "output_type": "execute_result",
     "data": {
      "text/plain": "        LAT     LONG  Original_473  Original_269  Zero  Maçã-Verde  Tangerina  \\\n0  -23.5489 -46.6388            22            65    22          14          3   \n1  -23.5489 -46.6388            11            56    16          14         43   \n2  -23.5489 -46.6388            86            51     8          11         41   \n3  -23.5489 -46.6388            76            47    65          11         37   \n4  -23.5489 -46.6388            68            42    60           6         35   \n5  -23.5489 -46.6388            57            35    55          43         31   \n6  -23.5489 -46.6388            45            33    50          39         25   \n7  -23.5489 -46.6388            34            28    41          39         22   \n8  -23.5489 -46.6388            22            24    31          35         18   \n9  -23.5489 -46.6388             9            16    26          33         13   \n10 -23.5489 -46.6388            86            12    22          29          8   \n11 -23.5489 -46.6388            75            10    12          25          2   \n12 -23.5489 -46.6388            67             0     3          21         43   \n13 -23.5489 -46.6388            59            65    65          20         38   \n14 -23.5489 -46.6388            50            63    56          18         32   \n15 -23.5489 -46.6388            39            59    48          12         30   \n16 -23.5489 -46.6388            26            50    44           7         27   \n17 -23.5489 -46.6388            15            45    39           3         25   \n18 -23.5489 -46.6388             7            35    31          43         21   \n19 -23.5489 -46.6388            86            27    21          39         17   \n20 -23.5489 -46.6388            78            17    11          35         11   \n21 -23.5489 -46.6388            65            12     7          34          9   \n22 -23.5489 -46.6388            57             3    65          28          4   \n23 -23.5489 -46.6388            47            65    55          24         43   \n24 -23.5489 -46.6388            37            62    46          21         40   \n25 -23.5489 -46.6388            28            60    37          15         36   \n26 -23.5489 -46.6388            16            52    30          10         31   \n27 -23.5489 -46.6388             8            43    25          10         29   \n28 -23.5489 -46.6388            86            39    19           4         24   \n29 -23.5489 -46.6388            78            33     9          43         20   \n30 -23.5489 -46.6388            67            27    65          43         17   \n31 -23.5489 -46.6388            57            21    61          43         12   \n32 -23.5489 -46.6388            45            17    57          38          9   \n33 -23.5489 -46.6388            34            15    53          32          5   \n34 -23.5489 -46.6388            23            13    45          31         43   \n35 -23.5489 -46.6388            10             6    39          26         39   \n36 -23.5489 -46.6388            86            65    35          25         35   \n37 -23.5489 -46.6388            74            56    25          25         33   \n38 -23.5489 -46.6388            63            50    16          24         30   \n39 -23.5489 -46.6388            54            40    11          20         28   \n40 -23.5489 -46.6388            47            38     2          20         23   \n41 -23.5489 -46.6388            35            32    65          18         20   \n42 -23.5489 -46.6388            28            25    59          18         14   \n43 -23.5489 -46.6388            21            18    52          14          9   \n44 -23.5489 -46.6388             8            14    43           9          6   \n45 -23.5489 -46.6388            86             5    34           5         43   \n46 -23.5489 -46.6388            79            65    28          43         37   \n47 -23.5489 -46.6388            70            61    20          38         35   \n48 -23.5489 -46.6388            62            51    16          36         33   \n49 -23.5489 -46.6388            49            41    11          34         30   \n\n    Citrus  Açaí-Guaraná  Pêssego  total_un       TARGET  \n0       26            43       18       213  REABASTECER  \n1       20            37       15       212  REABASTECER  \n2       20            35       12       264  REABASTECER  \n3       14            32       10       292       NORMAL  \n4       13            26        5       255  REABASTECER  \n5        9            22       43       295       NORMAL  \n6        5            16       39       252  REABASTECER  \n7       43            13       34       254       NORMAL  \n8       40             8       29       207       NORMAL  \n9       38             4       24       163  REABASTECER  \n10      37            43       20       257       NORMAL  \n11      35            39       14       212  REABASTECER  \n12      34            33        9       210  REABASTECER  \n13      34            27        3       311  REABASTECER  \n14      34            25       43       321       NORMAL  \n15      30            20       37       275       NORMAL  \n16      30            14       34       232       NORMAL  \n17      25             8       29       189  REABASTECER  \n18      20             2       27       186  REABASTECER  \n19      19            43       21       273       NORMAL  \n20      17            38       19       226       NORMAL  \n21      16            32       14       189  REABASTECER  \n22      13            30       10       210  REABASTECER  \n23      12            25        4       275  REABASTECER  \n24       9            21       43       279       NORMAL  \n25       9            16       39       240       NORMAL  \n26       4            12       33       188  REABASTECER  \n27      43             9       29       196  REABASTECER  \n28      41             3       24       240  REABASTECER  \n29      36            43       21       283  REABASTECER  \n30      33            37       18       307       NORMAL  \n31      33            31       16       274       NORMAL  \n32      29            27       10       232       NORMAL  \n33      29            21        6       195  REABASTECER  \n34      25            15       43       238       NORMAL  \n35      24            13       38       195  REABASTECER  \n36      22             7       36       311       NORMAL  \n37      21             3       30       267  REABASTECER  \n38      15            43       24       265       NORMAL  \n39      12            40       21       226       NORMAL  \n40       6            36       18       190  REABASTECER  \n41      43            34       12       259       NORMAL  \n42      40            28        8       220       NORMAL  \n43      36            24        5       179  REABASTECER  \n44      32            21       43       176  REABASTECER  \n45      30            18       40       261  REABASTECER  \n46      29            12       34       327       NORMAL  \n47      26            10       30       290       NORMAL  \n48      26             6       28       258  REABASTECER  \n49      26            43       22       256       NORMAL  ",
      "text/html": "<div>\n<style scoped>\n    .dataframe tbody tr th:only-of-type {\n        vertical-align: middle;\n    }\n\n    .dataframe tbody tr th {\n        vertical-align: top;\n    }\n\n    .dataframe thead th {\n        text-align: right;\n    }\n</style>\n<table border=\"1\" class=\"dataframe\">\n  <thead>\n    <tr style=\"text-align: right;\">\n      <th></th>\n      <th>LAT</th>\n      <th>LONG</th>\n      <th>Original_473</th>\n      <th>Original_269</th>\n      <th>Zero</th>\n      <th>Maçã-Verde</th>\n      <th>Tangerina</th>\n      <th>Citrus</th>\n      <th>Açaí-Guaraná</th>\n      <th>Pêssego</th>\n      <th>total_un</th>\n      <th>TARGET</th>\n    </tr>\n  </thead>\n  <tbody>\n    <tr>\n      <th>0</th>\n      <td>-23.5489</td>\n      <td>-46.6388</td>\n      <td>22</td>\n      <td>65</td>\n      <td>22</td>\n      <td>14</td>\n      <td>3</td>\n      <td>26</td>\n      <td>43</td>\n      <td>18</td>\n      <td>213</td>\n      <td>REABASTECER</td>\n    </tr>\n    <tr>\n      <th>1</th>\n      <td>-23.5489</td>\n      <td>-46.6388</td>\n      <td>11</td>\n      <td>56</td>\n      <td>16</td>\n      <td>14</td>\n      <td>43</td>\n      <td>20</td>\n      <td>37</td>\n      <td>15</td>\n      <td>212</td>\n      <td>REABASTECER</td>\n    </tr>\n    <tr>\n      <th>2</th>\n      <td>-23.5489</td>\n      <td>-46.6388</td>\n      <td>86</td>\n      <td>51</td>\n      <td>8</td>\n      <td>11</td>\n      <td>41</td>\n      <td>20</td>\n      <td>35</td>\n      <td>12</td>\n      <td>264</td>\n      <td>REABASTECER</td>\n    </tr>\n    <tr>\n      <th>3</th>\n      <td>-23.5489</td>\n      <td>-46.6388</td>\n      <td>76</td>\n      <td>47</td>\n      <td>65</td>\n      <td>11</td>\n      <td>37</td>\n      <td>14</td>\n      <td>32</td>\n      <td>10</td>\n      <td>292</td>\n      <td>NORMAL</td>\n    </tr>\n    <tr>\n      <th>4</th>\n      <td>-23.5489</td>\n      <td>-46.6388</td>\n      <td>68</td>\n      <td>42</td>\n      <td>60</td>\n      <td>6</td>\n      <td>35</td>\n      <td>13</td>\n      <td>26</td>\n      <td>5</td>\n      <td>255</td>\n      <td>REABASTECER</td>\n    </tr>\n    <tr>\n      <th>5</th>\n      <td>-23.5489</td>\n      <td>-46.6388</td>\n      <td>57</td>\n      <td>35</td>\n      <td>55</td>\n      <td>43</td>\n      <td>31</td>\n      <td>9</td>\n      <td>22</td>\n      <td>43</td>\n      <td>295</td>\n      <td>NORMAL</td>\n    </tr>\n    <tr>\n      <th>6</th>\n      <td>-23.5489</td>\n      <td>-46.6388</td>\n      <td>45</td>\n      <td>33</td>\n      <td>50</td>\n      <td>39</td>\n      <td>25</td>\n      <td>5</td>\n      <td>16</td>\n      <td>39</td>\n      <td>252</td>\n      <td>REABASTECER</td>\n    </tr>\n    <tr>\n      <th>7</th>\n      <td>-23.5489</td>\n      <td>-46.6388</td>\n      <td>34</td>\n      <td>28</td>\n      <td>41</td>\n      <td>39</td>\n      <td>22</td>\n      <td>43</td>\n      <td>13</td>\n      <td>34</td>\n      <td>254</td>\n      <td>NORMAL</td>\n    </tr>\n    <tr>\n      <th>8</th>\n      <td>-23.5489</td>\n      <td>-46.6388</td>\n      <td>22</td>\n      <td>24</td>\n      <td>31</td>\n      <td>35</td>\n      <td>18</td>\n      <td>40</td>\n      <td>8</td>\n      <td>29</td>\n      <td>207</td>\n      <td>NORMAL</td>\n    </tr>\n    <tr>\n      <th>9</th>\n      <td>-23.5489</td>\n      <td>-46.6388</td>\n      <td>9</td>\n      <td>16</td>\n      <td>26</td>\n      <td>33</td>\n      <td>13</td>\n      <td>38</td>\n      <td>4</td>\n      <td>24</td>\n      <td>163</td>\n      <td>REABASTECER</td>\n    </tr>\n    <tr>\n      <th>10</th>\n      <td>-23.5489</td>\n      <td>-46.6388</td>\n      <td>86</td>\n      <td>12</td>\n      <td>22</td>\n      <td>29</td>\n      <td>8</td>\n      <td>37</td>\n      <td>43</td>\n      <td>20</td>\n      <td>257</td>\n      <td>NORMAL</td>\n    </tr>\n    <tr>\n      <th>11</th>\n      <td>-23.5489</td>\n      <td>-46.6388</td>\n      <td>75</td>\n      <td>10</td>\n      <td>12</td>\n      <td>25</td>\n      <td>2</td>\n      <td>35</td>\n      <td>39</td>\n      <td>14</td>\n      <td>212</td>\n      <td>REABASTECER</td>\n    </tr>\n    <tr>\n      <th>12</th>\n      <td>-23.5489</td>\n      <td>-46.6388</td>\n      <td>67</td>\n      <td>0</td>\n      <td>3</td>\n      <td>21</td>\n      <td>43</td>\n      <td>34</td>\n      <td>33</td>\n      <td>9</td>\n      <td>210</td>\n      <td>REABASTECER</td>\n    </tr>\n    <tr>\n      <th>13</th>\n      <td>-23.5489</td>\n      <td>-46.6388</td>\n      <td>59</td>\n      <td>65</td>\n      <td>65</td>\n      <td>20</td>\n      <td>38</td>\n      <td>34</td>\n      <td>27</td>\n      <td>3</td>\n      <td>311</td>\n      <td>REABASTECER</td>\n    </tr>\n    <tr>\n      <th>14</th>\n      <td>-23.5489</td>\n      <td>-46.6388</td>\n      <td>50</td>\n      <td>63</td>\n      <td>56</td>\n      <td>18</td>\n      <td>32</td>\n      <td>34</td>\n      <td>25</td>\n      <td>43</td>\n      <td>321</td>\n      <td>NORMAL</td>\n    </tr>\n    <tr>\n      <th>15</th>\n      <td>-23.5489</td>\n      <td>-46.6388</td>\n      <td>39</td>\n      <td>59</td>\n      <td>48</td>\n      <td>12</td>\n      <td>30</td>\n      <td>30</td>\n      <td>20</td>\n      <td>37</td>\n      <td>275</td>\n      <td>NORMAL</td>\n    </tr>\n    <tr>\n      <th>16</th>\n      <td>-23.5489</td>\n      <td>-46.6388</td>\n      <td>26</td>\n      <td>50</td>\n      <td>44</td>\n      <td>7</td>\n      <td>27</td>\n      <td>30</td>\n      <td>14</td>\n      <td>34</td>\n      <td>232</td>\n      <td>NORMAL</td>\n    </tr>\n    <tr>\n      <th>17</th>\n      <td>-23.5489</td>\n      <td>-46.6388</td>\n      <td>15</td>\n      <td>45</td>\n      <td>39</td>\n      <td>3</td>\n      <td>25</td>\n      <td>25</td>\n      <td>8</td>\n      <td>29</td>\n      <td>189</td>\n      <td>REABASTECER</td>\n    </tr>\n    <tr>\n      <th>18</th>\n      <td>-23.5489</td>\n      <td>-46.6388</td>\n      <td>7</td>\n      <td>35</td>\n      <td>31</td>\n      <td>43</td>\n      <td>21</td>\n      <td>20</td>\n      <td>2</td>\n      <td>27</td>\n      <td>186</td>\n      <td>REABASTECER</td>\n    </tr>\n    <tr>\n      <th>19</th>\n      <td>-23.5489</td>\n      <td>-46.6388</td>\n      <td>86</td>\n      <td>27</td>\n      <td>21</td>\n      <td>39</td>\n      <td>17</td>\n      <td>19</td>\n      <td>43</td>\n      <td>21</td>\n      <td>273</td>\n      <td>NORMAL</td>\n    </tr>\n    <tr>\n      <th>20</th>\n      <td>-23.5489</td>\n      <td>-46.6388</td>\n      <td>78</td>\n      <td>17</td>\n      <td>11</td>\n      <td>35</td>\n      <td>11</td>\n      <td>17</td>\n      <td>38</td>\n      <td>19</td>\n      <td>226</td>\n      <td>NORMAL</td>\n    </tr>\n    <tr>\n      <th>21</th>\n      <td>-23.5489</td>\n      <td>-46.6388</td>\n      <td>65</td>\n      <td>12</td>\n      <td>7</td>\n      <td>34</td>\n      <td>9</td>\n      <td>16</td>\n      <td>32</td>\n      <td>14</td>\n      <td>189</td>\n      <td>REABASTECER</td>\n    </tr>\n    <tr>\n      <th>22</th>\n      <td>-23.5489</td>\n      <td>-46.6388</td>\n      <td>57</td>\n      <td>3</td>\n      <td>65</td>\n      <td>28</td>\n      <td>4</td>\n      <td>13</td>\n      <td>30</td>\n      <td>10</td>\n      <td>210</td>\n      <td>REABASTECER</td>\n    </tr>\n    <tr>\n      <th>23</th>\n      <td>-23.5489</td>\n      <td>-46.6388</td>\n      <td>47</td>\n      <td>65</td>\n      <td>55</td>\n      <td>24</td>\n      <td>43</td>\n      <td>12</td>\n      <td>25</td>\n      <td>4</td>\n      <td>275</td>\n      <td>REABASTECER</td>\n    </tr>\n    <tr>\n      <th>24</th>\n      <td>-23.5489</td>\n      <td>-46.6388</td>\n      <td>37</td>\n      <td>62</td>\n      <td>46</td>\n      <td>21</td>\n      <td>40</td>\n      <td>9</td>\n      <td>21</td>\n      <td>43</td>\n      <td>279</td>\n      <td>NORMAL</td>\n    </tr>\n    <tr>\n      <th>25</th>\n      <td>-23.5489</td>\n      <td>-46.6388</td>\n      <td>28</td>\n      <td>60</td>\n      <td>37</td>\n      <td>15</td>\n      <td>36</td>\n      <td>9</td>\n      <td>16</td>\n      <td>39</td>\n      <td>240</td>\n      <td>NORMAL</td>\n    </tr>\n    <tr>\n      <th>26</th>\n      <td>-23.5489</td>\n      <td>-46.6388</td>\n      <td>16</td>\n      <td>52</td>\n      <td>30</td>\n      <td>10</td>\n      <td>31</td>\n      <td>4</td>\n      <td>12</td>\n      <td>33</td>\n      <td>188</td>\n      <td>REABASTECER</td>\n    </tr>\n    <tr>\n      <th>27</th>\n      <td>-23.5489</td>\n      <td>-46.6388</td>\n      <td>8</td>\n      <td>43</td>\n      <td>25</td>\n      <td>10</td>\n      <td>29</td>\n      <td>43</td>\n      <td>9</td>\n      <td>29</td>\n      <td>196</td>\n      <td>REABASTECER</td>\n    </tr>\n    <tr>\n      <th>28</th>\n      <td>-23.5489</td>\n      <td>-46.6388</td>\n      <td>86</td>\n      <td>39</td>\n      <td>19</td>\n      <td>4</td>\n      <td>24</td>\n      <td>41</td>\n      <td>3</td>\n      <td>24</td>\n      <td>240</td>\n      <td>REABASTECER</td>\n    </tr>\n    <tr>\n      <th>29</th>\n      <td>-23.5489</td>\n      <td>-46.6388</td>\n      <td>78</td>\n      <td>33</td>\n      <td>9</td>\n      <td>43</td>\n      <td>20</td>\n      <td>36</td>\n      <td>43</td>\n      <td>21</td>\n      <td>283</td>\n      <td>REABASTECER</td>\n    </tr>\n    <tr>\n      <th>30</th>\n      <td>-23.5489</td>\n      <td>-46.6388</td>\n      <td>67</td>\n      <td>27</td>\n      <td>65</td>\n      <td>43</td>\n      <td>17</td>\n      <td>33</td>\n      <td>37</td>\n      <td>18</td>\n      <td>307</td>\n      <td>NORMAL</td>\n    </tr>\n    <tr>\n      <th>31</th>\n      <td>-23.5489</td>\n      <td>-46.6388</td>\n      <td>57</td>\n      <td>21</td>\n      <td>61</td>\n      <td>43</td>\n      <td>12</td>\n      <td>33</td>\n      <td>31</td>\n      <td>16</td>\n      <td>274</td>\n      <td>NORMAL</td>\n    </tr>\n    <tr>\n      <th>32</th>\n      <td>-23.5489</td>\n      <td>-46.6388</td>\n      <td>45</td>\n      <td>17</td>\n      <td>57</td>\n      <td>38</td>\n      <td>9</td>\n      <td>29</td>\n      <td>27</td>\n      <td>10</td>\n      <td>232</td>\n      <td>NORMAL</td>\n    </tr>\n    <tr>\n      <th>33</th>\n      <td>-23.5489</td>\n      <td>-46.6388</td>\n      <td>34</td>\n      <td>15</td>\n      <td>53</td>\n      <td>32</td>\n      <td>5</td>\n      <td>29</td>\n      <td>21</td>\n      <td>6</td>\n      <td>195</td>\n      <td>REABASTECER</td>\n    </tr>\n    <tr>\n      <th>34</th>\n      <td>-23.5489</td>\n      <td>-46.6388</td>\n      <td>23</td>\n      <td>13</td>\n      <td>45</td>\n      <td>31</td>\n      <td>43</td>\n      <td>25</td>\n      <td>15</td>\n      <td>43</td>\n      <td>238</td>\n      <td>NORMAL</td>\n    </tr>\n    <tr>\n      <th>35</th>\n      <td>-23.5489</td>\n      <td>-46.6388</td>\n      <td>10</td>\n      <td>6</td>\n      <td>39</td>\n      <td>26</td>\n      <td>39</td>\n      <td>24</td>\n      <td>13</td>\n      <td>38</td>\n      <td>195</td>\n      <td>REABASTECER</td>\n    </tr>\n    <tr>\n      <th>36</th>\n      <td>-23.5489</td>\n      <td>-46.6388</td>\n      <td>86</td>\n      <td>65</td>\n      <td>35</td>\n      <td>25</td>\n      <td>35</td>\n      <td>22</td>\n      <td>7</td>\n      <td>36</td>\n      <td>311</td>\n      <td>NORMAL</td>\n    </tr>\n    <tr>\n      <th>37</th>\n      <td>-23.5489</td>\n      <td>-46.6388</td>\n      <td>74</td>\n      <td>56</td>\n      <td>25</td>\n      <td>25</td>\n      <td>33</td>\n      <td>21</td>\n      <td>3</td>\n      <td>30</td>\n      <td>267</td>\n      <td>REABASTECER</td>\n    </tr>\n    <tr>\n      <th>38</th>\n      <td>-23.5489</td>\n      <td>-46.6388</td>\n      <td>63</td>\n      <td>50</td>\n      <td>16</td>\n      <td>24</td>\n      <td>30</td>\n      <td>15</td>\n      <td>43</td>\n      <td>24</td>\n      <td>265</td>\n      <td>NORMAL</td>\n    </tr>\n    <tr>\n      <th>39</th>\n      <td>-23.5489</td>\n      <td>-46.6388</td>\n      <td>54</td>\n      <td>40</td>\n      <td>11</td>\n      <td>20</td>\n      <td>28</td>\n      <td>12</td>\n      <td>40</td>\n      <td>21</td>\n      <td>226</td>\n      <td>NORMAL</td>\n    </tr>\n    <tr>\n      <th>40</th>\n      <td>-23.5489</td>\n      <td>-46.6388</td>\n      <td>47</td>\n      <td>38</td>\n      <td>2</td>\n      <td>20</td>\n      <td>23</td>\n      <td>6</td>\n      <td>36</td>\n      <td>18</td>\n      <td>190</td>\n      <td>REABASTECER</td>\n    </tr>\n    <tr>\n      <th>41</th>\n      <td>-23.5489</td>\n      <td>-46.6388</td>\n      <td>35</td>\n      <td>32</td>\n      <td>65</td>\n      <td>18</td>\n      <td>20</td>\n      <td>43</td>\n      <td>34</td>\n      <td>12</td>\n      <td>259</td>\n      <td>NORMAL</td>\n    </tr>\n    <tr>\n      <th>42</th>\n      <td>-23.5489</td>\n      <td>-46.6388</td>\n      <td>28</td>\n      <td>25</td>\n      <td>59</td>\n      <td>18</td>\n      <td>14</td>\n      <td>40</td>\n      <td>28</td>\n      <td>8</td>\n      <td>220</td>\n      <td>NORMAL</td>\n    </tr>\n    <tr>\n      <th>43</th>\n      <td>-23.5489</td>\n      <td>-46.6388</td>\n      <td>21</td>\n      <td>18</td>\n      <td>52</td>\n      <td>14</td>\n      <td>9</td>\n      <td>36</td>\n      <td>24</td>\n      <td>5</td>\n      <td>179</td>\n      <td>REABASTECER</td>\n    </tr>\n    <tr>\n      <th>44</th>\n      <td>-23.5489</td>\n      <td>-46.6388</td>\n      <td>8</td>\n      <td>14</td>\n      <td>43</td>\n      <td>9</td>\n      <td>6</td>\n      <td>32</td>\n      <td>21</td>\n      <td>43</td>\n      <td>176</td>\n      <td>REABASTECER</td>\n    </tr>\n    <tr>\n      <th>45</th>\n      <td>-23.5489</td>\n      <td>-46.6388</td>\n      <td>86</td>\n      <td>5</td>\n      <td>34</td>\n      <td>5</td>\n      <td>43</td>\n      <td>30</td>\n      <td>18</td>\n      <td>40</td>\n      <td>261</td>\n      <td>REABASTECER</td>\n    </tr>\n    <tr>\n      <th>46</th>\n      <td>-23.5489</td>\n      <td>-46.6388</td>\n      <td>79</td>\n      <td>65</td>\n      <td>28</td>\n      <td>43</td>\n      <td>37</td>\n      <td>29</td>\n      <td>12</td>\n      <td>34</td>\n      <td>327</td>\n      <td>NORMAL</td>\n    </tr>\n    <tr>\n      <th>47</th>\n      <td>-23.5489</td>\n      <td>-46.6388</td>\n      <td>70</td>\n      <td>61</td>\n      <td>20</td>\n      <td>38</td>\n      <td>35</td>\n      <td>26</td>\n      <td>10</td>\n      <td>30</td>\n      <td>290</td>\n      <td>NORMAL</td>\n    </tr>\n    <tr>\n      <th>48</th>\n      <td>-23.5489</td>\n      <td>-46.6388</td>\n      <td>62</td>\n      <td>51</td>\n      <td>16</td>\n      <td>36</td>\n      <td>33</td>\n      <td>26</td>\n      <td>6</td>\n      <td>28</td>\n      <td>258</td>\n      <td>REABASTECER</td>\n    </tr>\n    <tr>\n      <th>49</th>\n      <td>-23.5489</td>\n      <td>-46.6388</td>\n      <td>49</td>\n      <td>41</td>\n      <td>11</td>\n      <td>34</td>\n      <td>30</td>\n      <td>26</td>\n      <td>43</td>\n      <td>22</td>\n      <td>256</td>\n      <td>NORMAL</td>\n    </tr>\n  </tbody>\n</table>\n</div>"
     },
     "metadata": {},
     "execution_count": 210
    }
   ],
   "source": [
    "result = df_teste.assign(TARGET=Y_pred)\n",
    "result.head(50)"
   ]
  },
  {
   "cell_type": "code",
   "execution_count": 211,
   "metadata": {},
   "outputs": [],
   "source": [
    "#Exportar submissão\n",
    "result.to_csv('results.csv', index=False)"
   ]
  },
  {
   "cell_type": "code",
   "execution_count": null,
   "metadata": {},
   "outputs": [],
   "source": []
  }
 ],
 "metadata": {
  "kernelspec": {
   "display_name": "Python 3",
   "language": "python",
   "name": "python3"
  },
  "language_info": {
   "codemirror_mode": {
    "name": "ipython",
    "version": 3
   },
   "file_extension": ".py",
   "mimetype": "text/x-python",
   "name": "python",
   "nbconvert_exporter": "python",
   "pygments_lexer": "ipython3",
   "version": "3.8.3-final"
  }
 },
 "nbformat": 4,
 "nbformat_minor": 1
}